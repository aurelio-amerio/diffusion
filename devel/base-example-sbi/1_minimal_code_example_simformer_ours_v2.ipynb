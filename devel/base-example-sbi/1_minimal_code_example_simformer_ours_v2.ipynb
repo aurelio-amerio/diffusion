{
 "cells": [
  {
   "cell_type": "code",
   "execution_count": 1,
   "metadata": {},
   "outputs": [],
   "source": [
    "import os\n",
    "# os.environ['JAX_PLATFORMS']=\"cpu\"\n",
    "os.environ['JAX_PLATFORMS']=\"cuda\""
   ]
  },
  {
   "cell_type": "code",
   "execution_count": 2,
   "metadata": {},
   "outputs": [],
   "source": [
    "# try:\n",
    "#   from utils import install_packages\n",
    "# except:\n",
    "#   # Colab\n",
    "#   !git clone https://github.com/mackelab/simformer.git\n",
    "#   from simformer.example.utils import install_packages\n",
    "#   from google.colab import output\n",
    "#   output.enable_custom_widget_manager()"
   ]
  },
  {
   "cell_type": "code",
   "execution_count": 3,
   "metadata": {},
   "outputs": [],
   "source": [
    "# This can run for 4 min if nothing is installed/has to be down/upgraded\n",
    "# install_packages() # install required packages if necessary, might requires restarting the kernel/colab runtime"
   ]
  },
  {
   "cell_type": "code",
   "execution_count": 4,
   "metadata": {},
   "outputs": [
    {
     "name": "stdout",
     "output_type": "stream",
     "text": [
      "/lhome/ific/a/aamerio/github/diffusion\n"
     ]
    },
    {
     "data": {
      "text/plain": [
       "'/lhome/ific/a/aamerio/github/diffusion'"
      ]
     },
     "execution_count": 4,
     "metadata": {},
     "output_type": "execute_result"
    }
   ],
   "source": [
    "# load autoreload extension\n",
    "%load_ext autoreload\n",
    "%autoreload 2\n",
    "%cd '/lhome/ific/a/aamerio/github/diffusion'\n",
    "%pwd"
   ]
  },
  {
   "cell_type": "code",
   "execution_count": 5,
   "metadata": {},
   "outputs": [],
   "source": [
    "import sys\n",
    "sys.path.append('./src')\n",
    "sys.path.append('./reference/simformer-main/src/probjax')\n",
    "sys.path.append('./reference/simformer-main/src/scoresbibm')"
   ]
  },
  {
   "cell_type": "code",
   "execution_count": 6,
   "metadata": {},
   "outputs": [
    {
     "name": "stdout",
     "output_type": "stream",
     "text": [
      "Tesla V100-PCIE-32GB\n"
     ]
    }
   ],
   "source": [
    "import jax\n",
    "import jax.numpy as jnp\n",
    "import jax.random as jrandom\n",
    "from jax.random import PRNGKey\n",
    "from jax import Array\n",
    "from flax import nnx\n",
    "from tqdm.auto import tqdm\n",
    "import os\n",
    "jax.devices() # Should be cuda\n",
    "_ = os.system(\"nvidia-smi  --query-gpu=name --format=csv,noheader\") # Should show GPU info"
   ]
  },
  {
   "cell_type": "code",
   "execution_count": 7,
   "metadata": {
    "hideCode": false,
    "hidePrompt": false,
    "slideshow": {
     "slide_type": "skip"
    }
   },
   "outputs": [],
   "source": [
    "import matplotlib.pyplot as plt\n",
    "import matplotlib.patches as mpatches\n",
    "import seaborn as sns\n",
    "import pandas as pd\n",
    "\n",
    "from functools import partial\n",
    "from typing import Tuple, List, Optional\n",
    "\n",
    "# import haiku as hk # Neural network library\n",
    "import optax # Gradient-based optimization in JAX\n",
    "\n",
    "# Some small helper functions\n",
    "# from probjax.nn.transformers import Transformer\n",
    "# from probjax.nn.helpers import GaussianFourierEmbedding\n",
    "# from probjax.nn.loss_fn import denoising_score_matching_loss\n",
    "# from probjax.distributions.sde import VESDE\n",
    "# from probjax.distributions import Empirical, Independent\n",
    "import diffusion\n",
    "from diffusion.sbi.transformer import Transformer\n",
    "from diffusion.embedding import GaussianFourierEmbedding, SinusoidalEmbedding\n",
    "from diffusion import sde as sde_ours\n",
    "# from scoresbibm.methods.sde import init_sde_related\n",
    "\n",
    "# from scoresbibm.utils.plot import use_style\n",
    "\n",
    "from sbi.analysis import pairplot\n",
    "import numpy as np"
   ]
  },
  {
   "cell_type": "code",
   "execution_count": 8,
   "metadata": {},
   "outputs": [],
   "source": [
    "ve = sde_ours.VESDE(3, sigma_min=1e-3, sigma_max=15.)"
   ]
  },
  {
   "cell_type": "code",
   "execution_count": 9,
   "metadata": {},
   "outputs": [],
   "source": [
    "def output_scale_fn(t, x):\n",
    "    scale = jnp.clip(ve.marginal_stddev(jnp.ones_like(x),t), 1e-2)\n",
    "    return (1/scale * x).reshape(x.shape)"
   ]
  },
  {
   "cell_type": "code",
   "execution_count": 10,
   "metadata": {},
   "outputs": [],
   "source": [
    "# Set random key\n",
    "key = jax.random.PRNGKey(0)"
   ]
  },
  {
   "cell_type": "markdown",
   "metadata": {
    "slideshow": {
     "slide_type": "slide"
    }
   },
   "source": [
    "### 1) Setting up a toy problem\n",
    "\n",
    "This is a simple toy problem to test the functionality of the `Simformer` method.\n",
    "$$ \\theta \\sim \\mathcal{N}(\\theta; 0, 3^2) \\qquad \\qquad  x_1 \\sim \\mathcal{N}(x_1; 2\\cdot\\sin(\\theta), 0.5^2)  \\qquad \\qquad   x_2 \\sim \\mathcal{N}(x_2;0.1\\cdot \\theta^2,  (0.5\\cdot |x_1|)^2)$$\n",
    "\n",
    "Here we have 3 nonlinear related Gaussian variables. The associated joint distirbution is visualized below."
   ]
  },
  {
   "cell_type": "code",
   "execution_count": 11,
   "metadata": {
    "slideshow": {
     "slide_type": "subslide"
    }
   },
   "outputs": [],
   "source": [
    "# def generate_data(key: PRNGKey, n:int):\n",
    "#     key1, key2, key3 = jrandom.split(key,3)\n",
    "#     theta1 = jrandom.normal(key1, (n, 1))  * 3 # Some prior on a parameter\n",
    "#     x1 = 2*jnp.sin(theta1) + jrandom.normal(key2, (n, 1)) * 0.5 # Some data generated from the parameter \n",
    "#     x2 = 0.1*theta1**2 + 0.5*jnp.abs(x1)*jrandom.normal(key3, (n, 1)) # Some data generated from the parameter\n",
    "#     return jnp.concatenate([theta1,x1, x2], axis=1).reshape(n, -1, 1)\n",
    "def generate_data(key: PRNGKey, n:int):\n",
    "    key1, key2, key3 = jrandom.split(key,3)\n",
    "    theta1 = jrandom.normal(key1, (n, 1))  * 3 # Some prior on a parameter\n",
    "    x1 = 2*jnp.sin(theta1) + jrandom.normal(key2, (n, 1)) * 0.5 # Some data generated from the parameter \n",
    "    x2 = 0.1*theta1**2 + 0.5*jnp.abs(x1)*jrandom.normal(key3, (n, 1)) # Some data generated from the parameter\n",
    "    return jnp.concatenate([theta1,x1, x2], axis=1).reshape(n, -1)\n",
    "\n",
    "def log_potential(theta1: Array, x1: Array, x2: Array, sigma_x1:float=0.5, sigma_x2:float=0.5, mean_loc:float=0.0, mean_scale:float=3.0 ):\n",
    "    log_prob_theta = jax.scipy.stats.norm.logpdf(theta1, mean_loc, mean_scale)\n",
    "    if x1 is not None:\n",
    "        log_prob_x1 = jax.scipy.stats.norm.logpdf(x1, 2*jnp.sin(theta1), sigma_x1)\n",
    "    else:\n",
    "        log_prob_x1 = 0\n",
    "    if x2 is not None:\n",
    "        log_prob_x2 = jax.scipy.stats.norm.logpdf(x2, 0.1*theta1**2,  sigma_x2*jnp.abs(x1))\n",
    "    else:\n",
    "        log_prob_x2 = 0\n",
    "    \n",
    "    return log_prob_theta + log_prob_x1 + log_prob_x2\n",
    "    \n",
    "\n",
    "data = generate_data(jrandom.PRNGKey(1), 10000)  # Shape: (n, nodes, dim) here dim = 1\n",
    "nodes_max = data.shape[1]\n",
    "node_ids = jnp.arange(nodes_max)"
   ]
  },
  {
   "cell_type": "code",
   "execution_count": 12,
   "metadata": {
    "hideCode": true,
    "hidePrompt": true,
    "slideshow": {
     "slide_type": "subslide"
    }
   },
   "outputs": [
    {
     "data": {
      "image/png": "[encoded data removed]",
      "text/plain": [
       "<Figure size 500x500 with 9 Axes>"
      ]
     },
     "metadata": {},
     "output_type": "display_data"
    }
   ],
   "source": [
    "# _ = pairplot(np.array(data[...,0]), labels=[\"theta\", \"x1\", \"x2\"], figsize=(5,5))\n",
    "_ = pairplot(np.array(data), labels=[\"theta\", \"x1\", \"x2\"], figsize=(5,5))"
   ]
  },
  {
   "cell_type": "markdown",
   "metadata": {
    "slideshow": {
     "slide_type": "slide"
    }
   },
   "source": [
    "### 2) Setting up the diffusion process\n",
    "\n",
    "We will use the VESDE i.e. the variance exploding stochastic differential equation. "
   ]
  },
  {
   "cell_type": "code",
   "execution_count": 13,
   "metadata": {
    "slideshow": {
     "slide_type": "subslide"
    }
   },
   "outputs": [],
   "source": [
    "\n",
    "# #VESDE \n",
    "# T = 1.\n",
    "# T_min = 1e-2\n",
    "# sigma_min = 1e-3\n",
    "# sigma_max = 15.\n",
    "\n",
    "# p0 = Independent(Empirical(data), 1) # Empirical distribution of the data\n",
    "# sde = VESDE(p0, sigma_min=sigma_min , sigma_max=sigma_max)\n",
    "\n",
    "# # sde, T_min, T_max, weight_fn, output_scale_fn =  init_sde_related(data, \"vesde\", sigma_min=1e-5, sigma_max=15.)\n",
    "\n",
    "# #Scaling fn for the output of the score model\n",
    "# def output_scale_fn(t, x):\n",
    "#     scale = jnp.clip(sde.marginal_stddev(t, jnp.ones_like(x)), 1e-2, None)\n",
    "#     return (1/scale * x).reshape(x.shape)"
   ]
  },
  {
   "cell_type": "markdown",
   "metadata": {
    "slideshow": {
     "slide_type": "slide"
    }
   },
   "source": [
    "### 3) Building the Simformer\n",
    "\n",
    "This can be divided into two parts, each offering various choices:\n",
    "\n",
    "* **Tokenizer**: \n",
    "This component jointly embeds 'x', 'node_ids', and the 'condition_mask' into a unified \n",
    "vector known as a token.\n",
    "    * **Value Embedding**: Embeds the value of the variable.\n",
    "    * **Node Embedding**: Embeds the node ID.\n",
    "    * **Condition Embedding**: Embeds the condition mask.\n",
    "* **Transformer**: This is a transformer model that takes tokens as input and generates scores for each node.\n",
    "    * **Num_heads**: Specifies the number of heads in the multi-head attention mechanism.\n",
    "    * **Attn_size**: Determines the size of attention, i.e., the dimensions to which query and key are projected.\n",
    "    * **Num_layers**: Sets the number of layers in the transformer.\n",
    "    * **Widening_factor**: Specifies the factor by which the hidden size of the MLP is increased in each layer.\n",
    "\n",
    "In this example, we construct a compact Simformer with 2 layers and 2 heads.\n"
   ]
  },
  {
   "cell_type": "code",
   "execution_count": 14,
   "metadata": {},
   "outputs": [],
   "source": [
    "dim_value = 20      # Size of the value embedding, which is token_dim\n",
    "dim_id = 20         # Size of the node id embedding\n",
    "dim_condition = 10  # Size of the condition embedding\n",
    "\n",
    "class Simformer(nnx.Module):\n",
    "    def __init__(self, *, rngs):\n",
    "\n",
    "        self.embedding_net_value = lambda x: jnp.repeat(x, dim_value, axis=-1)\n",
    "\n",
    "        fourier_features=64\n",
    "        self.embedding_time = GaussianFourierEmbedding(fourier_features, rngs=rngs)\n",
    "        self.embedding_net_id = nnx.Embed(\n",
    "            num_embeddings=nodes_max, features=dim_id, rngs=rngs\n",
    "        ) \n",
    "        self.condition_embedding = nnx.Param(0.01*jnp.ones((1, 1, dim_condition)))\n",
    "\n",
    "        self.output_scale_fn = output_scale_fn\n",
    "\n",
    "        self.total_tokens = dim_value + dim_id + dim_condition\n",
    "\n",
    "        self.transformer = Transformer(\n",
    "            din=self.total_tokens,\n",
    "            dcontext=fourier_features,\n",
    "            num_heads=2,\n",
    "            num_layers=2,\n",
    "            features=10,\n",
    "            widening_factor=3,\n",
    "            dropout_rate=0,\n",
    "            num_hidden_layers=1,\n",
    "            act=jax.nn.gelu,\n",
    "            skip_connection_attn=True,\n",
    "            skip_connection_mlp=True,\n",
    "            rngs=rngs,\n",
    "        )\n",
    "\n",
    "        self.output_fn = nnx.Linear(self.total_tokens,1,rngs=rngs)\n",
    "        return\n",
    "    \n",
    "    def __call__(self, x, t, node_ids, condition_mask, edge_mask=None):\n",
    "        if len(x.shape) == 2:\n",
    "            x = x[...,None]\n",
    "        batch_size, seq_len, _ = x.shape\n",
    "        condition_mask = condition_mask.astype(jnp.bool_).reshape(-1,seq_len, 1)\n",
    "        node_ids = node_ids.reshape(-1,seq_len)\n",
    "        t = t.reshape(-1,1, 1)\n",
    "\n",
    "        time_embeddings = self.embedding_time(t)\n",
    "\n",
    "        condition_embedding = self.condition_embedding * condition_mask # If condition_mask is 0, then the embedding is 0, otherwise it is the condition_embedding vector\n",
    "        condition_embedding = jnp.broadcast_to(condition_embedding, (batch_size, seq_len, dim_condition))\n",
    "\n",
    "        # Embed inputs and broadcast\n",
    "        value_embeddings = self.embedding_net_value(x)\n",
    "        id_embeddings = self.embedding_net_id(node_ids)\n",
    "        value_embeddings, id_embeddings = jnp.broadcast_arrays(value_embeddings, id_embeddings)\n",
    "\n",
    "        # Concatenate embeddings (alternatively you can also add instead of concatenating)\n",
    "        x_encoded = jnp.concatenate([value_embeddings, id_embeddings, condition_embedding], axis=-1)\n",
    "\n",
    "        h = self.transformer(x_encoded, context=time_embeddings, mask=edge_mask)\n",
    "\n",
    "        out = self.output_fn(h)\n",
    "        # out = jnp.squeeze(out)\n",
    "        out = self.output_scale_fn(t, out)\n",
    "        out = jnp.squeeze(out, axis=-1)\n",
    "        return out\n",
    "    \n",
    "    "
   ]
  },
  {
   "cell_type": "code",
   "execution_count": 15,
   "metadata": {},
   "outputs": [
    {
     "data": {
      "text/plain": [
       "(10000, 3)"
      ]
     },
     "execution_count": 15,
     "metadata": {},
     "output_type": "execute_result"
    }
   ],
   "source": [
    "score_model = Simformer(rngs=nnx.Rngs(0))\n",
    "score_model(data, jnp.ones((1,)),node_ids, jnp.zeros_like(node_ids)).shape"
   ]
  },
  {
   "cell_type": "code",
   "execution_count": 16,
   "metadata": {},
   "outputs": [],
   "source": [
    "import optax\n",
    "optimizer = nnx.Optimizer(score_model, optax.adam(1e-4))  "
   ]
  },
  {
   "cell_type": "markdown",
   "metadata": {
    "slideshow": {
     "slide_type": "slide"
    }
   },
   "source": [
    "### 4) The loss\n",
    "Here we will show the variant which targets to learn:\n",
    "\n",
    "* Correct joint $p(\\theta,x_1, x_2)$\n",
    "* Correct conditionals $p(\\theta|x), p(x|\\theta), ...$\n",
    "* Correct marginals $p(\\theta), p(x), ...$\n",
    "    \n",
    "Base loss is an **denoising score matching objective**:\n",
    "$$ \\mathcal{L}(\\phi) = \\mathbb{E}_{t \\sim Unif(0,1)} \\left[ \\lambda(t) \\mathbb{E}_{x_0, x_t \\sim p(x_0)p(x_t|x_0)}\\left[ || s_\\phi(x_t, t) - \\nabla_{x_t} \\log p(x_t|x_0)||_2^2 \\right] \\right] $$\n",
    "all the different *targets* will be implemented through masking out different things."
   ]
  },
  {
   "cell_type": "code",
   "execution_count": 17,
   "metadata": {},
   "outputs": [],
   "source": [
    "\n",
    "# def denoising_score_matching_loss(\n",
    "#     # params: PyTree,\n",
    "#     # key: PRNGKey,\n",
    "#     # times: Array,\n",
    "#     # xs_target: Array,\n",
    "#     # loss_mask: Optional[Array],\n",
    "#     # *args,\n",
    "#     # model_fn: Callable,\n",
    "#     # mean_fn: Callable,\n",
    "#     # std_fn: Callable,\n",
    "#     # weight_fn: Callable,\n",
    "#     # axis: int = -2,\n",
    "#     # rebalance_loss: bool = False,\n",
    "#     score_model,\n",
    "#     key,\n",
    "#     times,\n",
    "#     xs_target,\n",
    "#     loss_mask,\n",
    "#     *args,\n",
    "#     mean_fn,\n",
    "#     std_fn,\n",
    "#     weight_fn,\n",
    "#     axis: int = -2,\n",
    "#     rebalance_loss: bool = False,\n",
    "#     **kwargs): \n",
    "#     \"\"\"This function computes the denoising score matching loss. Which can be used to train diffusion models.\n",
    "\n",
    "#     Args:\n",
    "#         params (PyTree): Parameters of the model_fn given as a PyTree.\n",
    "#         key (PRNGKey): Random generator key.\n",
    "#         times (Array): Time points, should be broadcastable to shape (batch_size, 1).\n",
    "#         xs_target (Array): Target distribution.\n",
    "#         loss_mask (Optional[Array]): Mask for the target distribution. If None, no mask is applied, should be broadcastable to shape (batch_size, 1).\n",
    "#         model_fn (Callable): Score model that takes parameters, times, and samples as input and returns the score. Should be a function of the form model_fn(params, times, xs_t, *args) -> s_t.\n",
    "#         mean_fn (Callable): Mean function of the SDE.\n",
    "#         std_fn (Callable): Std function of the SDE.\n",
    "#         weight_fn (Callable): Weight function for the loss.\n",
    "#         axis (int, optional): Axis to sum over. Defaults to -2.\n",
    "        \n",
    "\n",
    "#     Returns:\n",
    "#         Array: Loss\n",
    "#     \"\"\"\n",
    "#     eps = jax.random.normal(key, shape=xs_target.shape)\n",
    "#     mean_t = mean_fn(times, xs_target)\n",
    "#     std_t = std_fn(times, xs_target)\n",
    "#     xs_t = mean_t + std_t * eps\n",
    "    \n",
    "#     if loss_mask is not None:\n",
    "#         loss_mask = loss_mask.reshape(xs_target.shape)\n",
    "#         xs_t = jnp.where(loss_mask, xs_target, xs_t)\n",
    "    \n",
    "#     score_pred = score_model(xs_t, times , *args, **kwargs)\n",
    "#     score_target = -eps / std_t\n",
    "\n",
    "#     loss = (score_pred - score_target) ** 2\n",
    "#     if loss_mask is not None:\n",
    "#         loss = jnp.where(loss_mask, 0.0,loss)\n",
    "#     loss = weight_fn(times) * jnp.sum(loss, axis=axis, keepdims=True)\n",
    "#     if rebalance_loss:\n",
    "#         num_elements = jnp.sum(~loss_mask, axis=axis, keepdims=True)\n",
    "#         loss = jnp.where(num_elements > 0, loss / num_elements, 0.0)\n",
    "#     loss = jnp.mean(loss)\n",
    "\n",
    "#     return loss"
   ]
  },
  {
   "cell_type": "code",
   "execution_count": 18,
   "metadata": {
    "slideshow": {
     "slide_type": "subslide"
    }
   },
   "outputs": [],
   "source": [
    "# def weight_fn(t:Array):\n",
    "#     # MLE weighting\n",
    "#     return jnp.clip(sde.diffusion(t, jnp.ones((1,1,1)))**2, 1e-4)\n",
    "\n",
    "def marginalize(rng: PRNGKey, edge_mask: Array):\n",
    "    # Simple function that marginializes out a single node from a adjacency matrix of a graph.\n",
    "    idx = jax.random.choice(rng, jnp.arange(edge_mask.shape[0]), shape=(1,), replace=False)\n",
    "    edge_mask = edge_mask.at[idx, :].set(False)\n",
    "    edge_mask = edge_mask.at[:, idx].set(False)\n",
    "    edge_mask = edge_mask.at[idx, idx].set(True)\n",
    "    return edge_mask\n",
    "\n",
    "\n",
    "def loss_fn_(score_model, key: PRNGKey, batch_size:int= 1024):\n",
    "\n",
    "    loss_fn_ = ve.get_loss_function()\n",
    "\n",
    "    rng_loss, rng_data, rng_condition, rng_edge_mask1, rng_edge_mask2 = jax.random.split(key, 5)\n",
    "    \n",
    "    # Generate data and random times\n",
    "    batch_xs = generate_data(rng_data, batch_size) # n, T_max, 1\n",
    "    # print(\"batch_xs: \",batch_xs.shape)\n",
    "    \n",
    "    # Condition mask -> randomly condition on some data.\n",
    "    condition_mask = jax.random.bernoulli(rng_condition, 0.333, shape=(batch_xs.shape[0], batch_xs.shape[1]))\n",
    "    condition_mask_all_one = jnp.all(condition_mask, axis=-1, keepdims=True)\n",
    "    condition_mask *= condition_mask_all_one # Avoid conditioning on all nodes -> nothing to train...\n",
    "    condition_mask = condition_mask[..., None]\n",
    "    # Alternatively you can also set the condition mask manually to specific conditional distributions.\n",
    "    # condition_mask = jnp.zeros((3,), dtype=jnp.bool_)  # Joint mask\n",
    "    # condition_mask = jnp.array([False, True, True], dtype=jnp.bool_)  # Posterior mask\n",
    "    # condition_mask = jnp.array([True, False, False], dtype=jnp.bool_)  # Likelihod mask\n",
    "    \n",
    "    # You can also structure the base mask!\n",
    "    edge_mask = jnp.ones((4*batch_size//5, batch_xs.shape[1],batch_xs.shape[1]), dtype=jnp.bool_) # Dense default mask \n",
    "    \n",
    "    # Optional: Include marginal consistency\n",
    "    marginal_mask = jax.vmap(marginalize, in_axes=(0,None))(jax.random.split(rng_edge_mask1, (batch_size//5,)), edge_mask[0])\n",
    "    edge_masks = jnp.concatenate([edge_mask, marginal_mask], axis=0)\n",
    "    edge_masks = jax.random.choice(rng_edge_mask2, edge_masks, shape=(batch_size,), axis=0) # Randomly choose between dense and marginal mask\n",
    "    \n",
    "\n",
    "    # Forward diffusion, do not perturb conditioned data\n",
    "    # Will use the condition mask to mask to prevent adding noise for nodes that are conditioned.\n",
    "    loss = loss_fn_(score_model, batch_xs, node_ids=node_ids, rng=rng_loss, edge_mask=edge_masks, condition_mask=condition_mask)\n",
    "\n",
    "    return loss\n"
   ]
  },
  {
   "cell_type": "markdown",
   "metadata": {
    "slideshow": {
     "slide_type": "slide"
    }
   },
   "source": [
    "### 5) Training\n",
    "\n",
    "Simple training loop (compatible with multiple GPUs, TPUs). Here simpy optimizing with Adam for a fixed amount of steps."
   ]
  },
  {
   "cell_type": "code",
   "execution_count": 19,
   "metadata": {},
   "outputs": [],
   "source": [
    "batch_size=1024\n",
    "@nnx.jit\n",
    "def train_step(score_model, optimizer, rngs):\n",
    "    loss_fn = lambda score_model: loss_fn_(score_model, rngs.dist(), batch_size=batch_size)\n",
    "    loss, grads = nnx.value_and_grad(loss_fn)(score_model)\n",
    "    optimizer.update(grads)  # In place updates.\n",
    "    return loss"
   ]
  },
  {
   "cell_type": "code",
   "execution_count": 20,
   "metadata": {},
   "outputs": [
    {
     "data": {
      "text/plain": [
       "Array(168.9666, dtype=float32)"
      ]
     },
     "execution_count": 20,
     "metadata": {},
     "output_type": "execute_result"
    }
   ],
   "source": [
    "train_step(score_model, optimizer, rngs=nnx.Rngs(0))"
   ]
  },
  {
   "cell_type": "code",
   "execution_count": 21,
   "metadata": {},
   "outputs": [
    {
     "data": {
      "application/vnd.jupyter.widget-view+json": {
       "model_id": "428e57bf7e264f8e92e0baa2e4d42fae",
       "version_major": 2,
       "version_minor": 0
      },
      "text/plain": [
       "  0%|          | 0/5000 [00:00<?, ?it/s]"
      ]
     },
     "metadata": {},
     "output_type": "display_data"
    },
    {
     "data": {
      "application/vnd.jupyter.widget-view+json": {
       "model_id": "410edc593a3644498236c2278cc1a8ae",
       "version_major": 2,
       "version_minor": 0
      },
      "text/plain": [
       "  0%|          | 0/5000 [00:00<?, ?it/s]"
      ]
     },
     "metadata": {},
     "output_type": "display_data"
    },
    {
     "data": {
      "application/vnd.jupyter.widget-view+json": {
       "model_id": "9ff43c5d793147de821112f647809122",
       "version_major": 2,
       "version_minor": 0
      },
      "text/plain": [
       "  0%|          | 0/5000 [00:00<?, ?it/s]"
      ]
     },
     "metadata": {},
     "output_type": "display_data"
    },
    {
     "data": {
      "application/vnd.jupyter.widget-view+json": {
       "model_id": "94f98699fb0a4bbd82b6fbbdffe2c225",
       "version_major": 2,
       "version_minor": 0
      },
      "text/plain": [
       "  0%|          | 0/5000 [00:00<?, ?it/s]"
      ]
     },
     "metadata": {},
     "output_type": "display_data"
    },
    {
     "data": {
      "application/vnd.jupyter.widget-view+json": {
       "model_id": "992445300d69496d907465440c704ca6",
       "version_major": 2,
       "version_minor": 0
      },
      "text/plain": [
       "  0%|          | 0/5000 [00:00<?, ?it/s]"
      ]
     },
     "metadata": {},
     "output_type": "display_data"
    },
    {
     "data": {
      "application/vnd.jupyter.widget-view+json": {
       "model_id": "7619e261389a45fa8997ee0f5c0ca925",
       "version_major": 2,
       "version_minor": 0
      },
      "text/plain": [
       "  0%|          | 0/5000 [00:00<?, ?it/s]"
      ]
     },
     "metadata": {},
     "output_type": "display_data"
    },
    {
     "data": {
      "application/vnd.jupyter.widget-view+json": {
       "model_id": "f593cc1c943647ecb9005c869923e2bd",
       "version_major": 2,
       "version_minor": 0
      },
      "text/plain": [
       "  0%|          | 0/5000 [00:00<?, ?it/s]"
      ]
     },
     "metadata": {},
     "output_type": "display_data"
    },
    {
     "data": {
      "application/vnd.jupyter.widget-view+json": {
       "model_id": "f1320889bca7495daec8b9858de4a697",
       "version_major": 2,
       "version_minor": 0
      },
      "text/plain": [
       "  0%|          | 0/5000 [00:00<?, ?it/s]"
      ]
     },
     "metadata": {},
     "output_type": "display_data"
    },
    {
     "data": {
      "application/vnd.jupyter.widget-view+json": {
       "model_id": "eb386f6aa82a44ea87ec8b4a940bfba6",
       "version_major": 2,
       "version_minor": 0
      },
      "text/plain": [
       "  0%|          | 0/5000 [00:00<?, ?it/s]"
      ]
     },
     "metadata": {},
     "output_type": "display_data"
    },
    {
     "data": {
      "application/vnd.jupyter.widget-view+json": {
       "model_id": "681f8919e9724912992461b9aa89b18d",
       "version_major": 2,
       "version_minor": 0
      },
      "text/plain": [
       "  0%|          | 0/5000 [00:00<?, ?it/s]"
      ]
     },
     "metadata": {},
     "output_type": "display_data"
    },
    {
     "data": {
      "application/vnd.jupyter.widget-view+json": {
       "model_id": "559a1d58eaea41c8a551907a8c503230",
       "version_major": 2,
       "version_minor": 0
      },
      "text/plain": [
       "  0%|          | 0/5000 [00:00<?, ?it/s]"
      ]
     },
     "metadata": {},
     "output_type": "display_data"
    },
    {
     "data": {
      "application/vnd.jupyter.widget-view+json": {
       "model_id": "e6e397afbca445b19e4982562052d50f",
       "version_major": 2,
       "version_minor": 0
      },
      "text/plain": [
       "  0%|          | 0/5000 [00:00<?, ?it/s]"
      ]
     },
     "metadata": {},
     "output_type": "display_data"
    },
    {
     "data": {
      "application/vnd.jupyter.widget-view+json": {
       "model_id": "82e871ad9db9415a8bf2f2e7ec37f69e",
       "version_major": 2,
       "version_minor": 0
      },
      "text/plain": [
       "  0%|          | 0/5000 [00:00<?, ?it/s]"
      ]
     },
     "metadata": {},
     "output_type": "display_data"
    },
    {
     "data": {
      "application/vnd.jupyter.widget-view+json": {
       "model_id": "fb207a88b99943198f87bc33a0b446ac",
       "version_major": 2,
       "version_minor": 0
      },
      "text/plain": [
       "  0%|          | 0/5000 [00:00<?, ?it/s]"
      ]
     },
     "metadata": {},
     "output_type": "display_data"
    },
    {
     "data": {
      "application/vnd.jupyter.widget-view+json": {
       "model_id": "7956ce26004347d4bb931a3f92373b51",
       "version_major": 2,
       "version_minor": 0
      },
      "text/plain": [
       "  0%|          | 0/5000 [00:00<?, ?it/s]"
      ]
     },
     "metadata": {},
     "output_type": "display_data"
    }
   ],
   "source": [
    "nepochs = 15\n",
    "rngs = nnx.Rngs(0)\n",
    "\n",
    "score_model.train()\n",
    "\n",
    "for _ in range(nepochs):\n",
    "    pbar = tqdm(range(5000))\n",
    "    l = 0\n",
    "    for j in pbar:\n",
    "        loss = train_step(score_model, optimizer, rngs)\n",
    "        l += loss.item()\n",
    "        if j % 10 == 0:\n",
    "            pbar.set_postfix(loss=f\"{l/(j+1):.2f}\")\n",
    "    # print(l)\n",
    "\n",
    "score_model.eval()"
   ]
  },
  {
   "cell_type": "markdown",
   "metadata": {
    "slideshow": {
     "slide_type": "slide"
    }
   },
   "source": [
    "### 6) Sampling from the joint and the marginals\n",
    "\n",
    "For this we will implement a simple SDE-based sampler."
   ]
  },
  {
   "cell_type": "code",
   "execution_count": 22,
   "metadata": {},
   "outputs": [],
   "source": [
    "# ve = sde_ours.VESDE(3, sigma_min=1e-3, sigma_max=15.)\n",
    "\n",
    "# def score_fn(x, t, node_ids, condition_mask, edge_mask=None):\n",
    "#     return jnp.squeeze(score_model(x, t, node_ids, condition_mask, edge_mask), axis=-1)\n",
    "\n",
    "rev = ve.reverse(score_model)\n",
    "\n",
    "condition_mask = jnp.zeros((nodes_max,))\n",
    "condition_value = jnp.zeros((nodes_max,))\n"
   ]
  },
  {
   "cell_type": "code",
   "execution_count": 23,
   "metadata": {},
   "outputs": [],
   "source": [
    "rng = jax.random.PRNGKey(42)\n",
    "score_args = {\"node_ids\": node_ids, \"condition_mask\": condition_mask}\n",
    "samples = rev.sample(rng, 10000, condition_mask=condition_mask, condition_value=condition_value, score_args=score_args)"
   ]
  },
  {
   "cell_type": "code",
   "execution_count": 24,
   "metadata": {},
   "outputs": [
    {
     "name": "stderr",
     "output_type": "stream",
     "text": [
      "/tmp/ipykernel_142820/3698434721.py:2: DeprecationWarning: you passed deprecated arguments **kwargs: ['diag_kind', 'color', 'linewidth'], use fig_kwargs instead. We continue calling the deprecated pairplot function\n",
      "  fig,axes = pairplot(np.array(samples), figsize=(5,5), labels=[\"$\\\\theta_1$\", \"$x_1$\", \"$x_2$\"], diag_kind=\"kde\", color=\"black\", linewidth=2)\n"
     ]
    },
    {
     "data": {
      "image/png": "[encoded data removed]",
      "text/plain": [
       "<Figure size 500x500 with 9 Axes>"
      ]
     },
     "metadata": {},
     "output_type": "display_data"
    }
   ],
   "source": [
    "# with use_style(\"pyloric\"):\n",
    "fig,axes = pairplot(np.array(samples), figsize=(5,5), labels=[\"$\\\\theta_1$\", \"$x_1$\", \"$x_2$\"], diag_kind=\"kde\", color=\"black\", linewidth=2)"
   ]
  },
  {
   "cell_type": "code",
   "execution_count": 25,
   "metadata": {},
   "outputs": [],
   "source": [
    "ve1 = sde_ours.VESDE(1, sigma_min=1e-3, sigma_max=15.)\n",
    "rev1 = ve1.reverse(score_model)\n",
    "\n",
    "condition_mask1 = jnp.zeros((1,))\n",
    "condition_value1 = jnp.zeros((1,))\n",
    "\n",
    "score_args1 = {\"node_ids\": jnp.array([0,]), \"condition_mask\": condition_mask1}\n",
    "marginal_samples1 = rev1.sample(rng, 10000, condition_mask=condition_mask1, condition_value=condition_value1, score_args=score_args1)\n",
    "\n",
    "score_args2 = {\"node_ids\": jnp.array([1,]), \"condition_mask\": condition_mask1}\n",
    "marginal_samples2 = rev1.sample(rng, 10000, condition_mask=condition_mask1, condition_value=condition_value1, score_args=score_args2)\n",
    "\n",
    "score_args3 = {\"node_ids\": jnp.array([2,]), \"condition_mask\": condition_mask1}\n",
    "marginal_samples3 = rev1.sample(rng, 10000, condition_mask=condition_mask1, condition_value=condition_value1, score_args=score_args3)\n",
    "\n",
    "# condition_mask2 = jnp.array([1.,0.,1.])\n",
    "# condition_value2 = jnp.zeros((nodes_max,))\n",
    "\n",
    "# score_args2 = {\"node_ids\": node_ids, \"condition_mask\": condition_mask2}\n",
    "# marginal_samples2 = rev.sample(rng, 1000, condition_mask=condition_mask2, condition_value=condition_value2, score_args=score_args2)\n",
    "\n",
    "# condition_mask3 = jnp.array([1.,1.,0.])\n",
    "# condition_value3 = jnp.zeros((nodes_max,))\n",
    "\n",
    "# score_args3 = {\"node_ids\": node_ids, \"condition_mask\": condition_mask3}\n",
    "# marginal_samples3 = rev.sample(rng, 1000, condition_mask=condition_mask3, condition_value=condition_value3, score_args=score_args3)\n"
   ]
  },
  {
   "cell_type": "code",
   "execution_count": 26,
   "metadata": {},
   "outputs": [
    {
     "data": {
      "image/png": "[encoded data removed]",
      "text/plain": [
       "<Figure size 500x200 with 3 Axes>"
      ]
     },
     "metadata": {},
     "output_type": "display_data"
    }
   ],
   "source": [
    "# with use_style(\"pyloric\"):\n",
    "fig, ax = plt.subplots(1,3, figsize=(5,2))\n",
    "sns.histplot(marginal_samples1, bins=50, ax=ax[0], stat=\"density\")\n",
    "sns.histplot(marginal_samples2, bins=50, ax=ax[1], stat=\"density\")\n",
    "sns.histplot(marginal_samples3, bins=50, ax=ax[2], stat=\"density\")\n",
    "\n",
    "sns.histplot(samples[:, 0], bins=50, ax=ax[0], stat=\"density\")\n",
    "sns.histplot(samples[:, 1], bins=50, ax=ax[1], stat=\"density\")\n",
    "sns.histplot(samples[:, 2], bins=50, ax=ax[2], stat=\"density\")\n",
    "sns.kdeplot(data[:, 0], ax=ax[0], color=\"black\", linewidth=2)\n",
    "sns.kdeplot(data[:, 1], ax=ax[1], color=\"black\", linewidth=2)\n",
    "sns.kdeplot(data[:, 2], ax=ax[2], color=\"black\", linewidth=2)\n",
    "\n",
    "ax[0].set_xlim(-10,10)\n",
    "ax[1].set_xlim(-5,5)\n",
    "ax[2].set_xlim(-5,5)\n",
    "fig.suptitle(\"Correct individual marginal estimation\")\n",
    "for ax in ax:\n",
    "    ax.yaxis.set_visible(False)\n",
    "    # remove y spines\n",
    "    ax.spines['left'].set_visible(False)\n",
    "    \n",
    "\n",
    "        \n"
   ]
  },
  {
   "cell_type": "markdown",
   "metadata": {},
   "source": [
    "### 7) Arbitrary conditional distributions"
   ]
  },
  {
   "cell_type": "code",
   "execution_count": 27,
   "metadata": {},
   "outputs": [],
   "source": [
    "def true_posterior(theta, x1=None, x2=None):\n",
    "    potential_theta = partial(log_potential, x1=x1, x2=x2)\n",
    "    potential_post = potential_theta(theta)\n",
    "    potential_post = potential_post - potential_post.max()\n",
    "    potential_post = jnp.exp(potential_post)\n",
    "    potential_post = potential_post / jnp.trapezoid(potential_post, x=theta)\n",
    "    return potential_post"
   ]
  },
  {
   "cell_type": "code",
   "execution_count": 28,
   "metadata": {},
   "outputs": [],
   "source": [
    "# Full conditional estimation\n",
    "theta = jnp.linspace(-10, 10, 1000)\n",
    "x_o = data[4,:]\n",
    "true_post = true_posterior(theta, x_o[1], x_o[2])\n",
    "\n",
    "condition_mask = jnp.array([0,1,1], dtype=jnp.bool_)\n",
    "\n",
    "score_args = {\"node_ids\": node_ids, \"condition_mask\": condition_mask}\n",
    "samples = rev.sample(rng, 10000, condition_mask=condition_mask, condition_value=x_o, score_args=score_args)"
   ]
  },
  {
   "cell_type": "code",
   "execution_count": 29,
   "metadata": {},
   "outputs": [
    {
     "data": {
      "image/png": "[encoded data removed]",
      "text/plain": [
       "<Figure size 500x200 with 1 Axes>"
      ]
     },
     "metadata": {},
     "output_type": "display_data"
    }
   ],
   "source": [
    "samples_theta = samples[:, 0]\n",
    "\n",
    "fig = plt.figure(figsize=(5, 2))\n",
    "sns.histplot(samples_theta, bins=50, stat=\"density\")\n",
    "plt.plot(theta, true_post, color=\"black\", label=\"True posterior\")\n",
    "exact_patch = mpatches.Patch(color='black', label='Exact')\n",
    "approx_patch = mpatches.Patch(color='C0', label='Approx.')\n",
    "plt.legend(handles=[exact_patch, approx_patch])\n",
    "plt.show()"
   ]
  },
  {
   "cell_type": "code",
   "execution_count": 30,
   "metadata": {},
   "outputs": [],
   "source": [
    "# Partial conditional estimation\n",
    "theta = jnp.linspace(-10, 10, 1000)\n",
    "x_o = data[4,:]\n",
    "true_post = true_posterior(theta, x_o[1], None)\n",
    "\n",
    "condition_mask = jnp.array([0,1,0], dtype=jnp.bool_)\n",
    "\n",
    "score_args = {\"node_ids\": node_ids, \"condition_mask\": condition_mask}\n",
    "samples = rev.sample(rng, 10000, condition_mask=condition_mask, condition_value=x_o, score_args=score_args)"
   ]
  },
  {
   "cell_type": "code",
   "execution_count": 31,
   "metadata": {},
   "outputs": [
    {
     "data": {
      "image/png": "[encoded data removed]",
      "text/plain": [
       "<Figure size 500x200 with 1 Axes>"
      ]
     },
     "metadata": {},
     "output_type": "display_data"
    }
   ],
   "source": [
    "\n",
    "import matplotlib.patches as mpatches\n",
    "samples_theta = samples[:, 0]\n",
    "fig = plt.figure(figsize=(5, 2))\n",
    "sns.histplot(samples_theta, bins=80, stat=\"density\")\n",
    "plt.plot(theta, true_post, color=\"black\", label=\"True posterior\")\n",
    "exact_patch = mpatches.Patch(color='black', label='Exact')\n",
    "approx_patch = mpatches.Patch(color='C0', label='Approx.')\n",
    "plt.legend(handles=[exact_patch, approx_patch])\n",
    "plt.xlim(-10, 10)\n",
    "plt.show()\n"
   ]
  },
  {
   "cell_type": "markdown",
   "metadata": {},
   "source": [
    "### 8) Arbitrary constraints\n",
    "\n",
    "Here a simplified version constraint conditioning"
   ]
  },
  {
   "cell_type": "code",
   "execution_count": 32,
   "metadata": {},
   "outputs": [],
   "source": [
    "# Simplified sampling with guidance...\n",
    "\n",
    "def s(t):\n",
    "    # Some scaling function\n",
    "    t = jnp.atleast_1d(t)\n",
    "    return jnp.exp(-t**2*5)*100\n",
    "\n",
    "def log_step_fun(t,x,a,b):\n",
    "    # Step_fn constraint -> Intervals\n",
    "    scale = s(t)\n",
    "    x1 = jax.nn.log_sigmoid(jnp.sum(scale * (x - a), axis=-1))\n",
    "    x2 = jax.nn.log_sigmoid(jnp.sum(-scale * (x - b), axis=-1))\n",
    "\n",
    "    return x1 + x2\n",
    "\n",
    "def log_linear_fn_approximation(t,x, a):\n",
    "    # Linear constrait <s,a> = 0.\n",
    "    scale = s(t)\n",
    "    a = a.reshape(-1,x.shape[1],1)\n",
    "    x1 = jax.nn.log_sigmoid(scale *jnp.sum((x * a), axis=1))\n",
    "    x2 = jax.nn.log_sigmoid(-scale *jnp.sum((x * a), axis=1))\n",
    "    return x1 + x2\n",
    "\n",
    "def log_polytope_fn_approximation(t,x, A):\n",
    "    # Polytope constraint \n",
    "    scale = s(t)\n",
    "    a = x.reshape(-1, x.shape[1])\n",
    "    constraint = jax.nn.relu(scale * (jnp.matmul(a, A.T) - 1.)).max(axis=-1)\n",
    "    constraint = jax.nn.log_sigmoid(-constraint) \n",
    "    return constraint\n",
    "\n",
    "\n",
    "\n",
    "step_fn_score = jax.grad(lambda *args: log_step_fun(*args).sum(), argnums=1)\n",
    "linear_fn_score = jax.grad(lambda *args: log_linear_fn_approximation(*args).sum(), argnums=1)\n",
    "polytope_fn_score = jax.grad(lambda *args: log_polytope_fn_approximation(*args).sum(), argnums=1)\n",
    "    "
   ]
  },
  {
   "cell_type": "code",
   "execution_count": 33,
   "metadata": {},
   "outputs": [],
   "source": [
    "# Wappers around score functions to include the constraints\n",
    "\n",
    "def interval_score(x,t, node_ids, condition_mask, edge_mask, a,b):\n",
    "    condition_mask = condition_mask[:len(node_ids)].reshape(-1,len(node_ids))\n",
    "    score = score_model(x, t, node_ids, jnp.zeros_like(condition_mask), edge_mask)\n",
    "    tweedies_x0_estimator = (x + ve.marginal_stddev(jnp.array([1.]), t)**2 * score)/ve.marginal_mean(jnp.array([1.]), t) # Predict x0\n",
    "    interval_score_est = step_fn_score(t,tweedies_x0_estimator,a,b) * condition_mask#.reshape(-1, len(node_ids))\n",
    "    return score + interval_score_est\n",
    "\n",
    "def linear_score(x,t, node_ids, condition_mask, edge_mask, a):\n",
    "    condition_mask = condition_mask[:len(node_ids)].reshape(-1,len(node_ids))\n",
    "    score = score_model(x, t, node_ids, jnp.zeros_like(condition_mask), edge_mask)\n",
    "    tweedies_x0_estimator = (x + ve.marginal_stddev(jnp.array([1.]), t)**2 * score)/ve.marginal_mean(jnp.array([1.]), t) # Predict x0\n",
    "    linear_score_est = linear_fn_score(t,tweedies_x0_estimator,a) * condition_mask#.reshape(-1, len(node_ids))\n",
    "    return score + linear_score_est\n",
    "\n",
    "def polytope_score(x,t,  node_ids, condition_mask, edge_mask, A):\n",
    "    condition_mask = condition_mask[:len(node_ids)].reshape(-1,len(node_ids))\n",
    "    score = score_model(x, t, node_ids, jnp.zeros_like(condition_mask), edge_mask)\n",
    "    tweedies_x0_estimator = (x + ve.marginal_stddev(jnp.array([1.]), t)**2 * score)/ve.marginal_mean(jnp.array([1.]), t) # Predict x0\n",
    "    polytope_score_est = polytope_fn_score(t,tweedies_x0_estimator,A) #* condition_mask.reshape(-1, len(node_ids), 1)\n",
    "    return score + polytope_score_est\n",
    "\n",
    "score_fn1 = partial(interval_score,  a=2.*jnp.ones(1), b=jnp.ones(1)*3)\n",
    "score_fn3 = partial(linear_score, a=jnp.array([1., 5.]))\n",
    "score_fn4 = partial(polytope_score, A=0.3*jax.random.normal(jrandom.PRNGKey(0), (8,2)))"
   ]
  },
  {
   "cell_type": "code",
   "execution_count": 34,
   "metadata": {},
   "outputs": [],
   "source": [
    "ve_ = sde_ours.VESDE(2, sigma_min=1e-3, sigma_max=15.)\n",
    "\n",
    "rev1 = ve_.reverse(score_fn1)\n",
    "condition_mask = jnp.array([0,1], dtype=int)\n",
    "condition_value = jnp.zeros((1,2,))\n",
    "score_args = {\"node_ids\": jnp.array([0,1]), \"condition_mask\": condition_mask, \"edge_mask\":None}\n",
    "samples1 = rev1.sample(rng, 1000, condition_mask=condition_mask, condition_value=condition_value, score_args=score_args, replace_conditioned=False)\n",
    "\n",
    "# samples1 = sample_fn(jrandom.PRNGKey(0), (1000,), time_steps=1000, node_ids=jnp.array([0,1]), condition_mask=jnp.array([0,1], dtype=int), score_fn=score_fn1, replace_conditioned=False)"
   ]
  },
  {
   "cell_type": "code",
   "execution_count": 35,
   "metadata": {},
   "outputs": [],
   "source": [
    "rev2 = ve_.reverse(score_fn3)\n",
    "condition_mask = jnp.array([1,1], dtype=int)\n",
    "condition_value = jnp.zeros((1,2,))\n",
    "score_args = {\"node_ids\": jnp.array([0,1]), \"condition_mask\": condition_mask, \"edge_mask\":None}\n",
    "samples2 = rev2.sample(rng, 1000, condition_mask=condition_mask, condition_value=condition_value, score_args=score_args, replace_conditioned=False)\n",
    "\n",
    "# samples2 = sample_fn(jrandom.PRNGKey(0), (1000,), time_steps=1000, node_ids=jnp.array([0,1]), condition_mask=jnp.array([1,1], dtype=int), score_fn=score_fn3, replace_conditioned=False)"
   ]
  },
  {
   "cell_type": "code",
   "execution_count": 36,
   "metadata": {},
   "outputs": [],
   "source": [
    "rev3 = ve_.reverse(score_fn4)\n",
    "condition_mask = jnp.array([1,1], dtype=int)\n",
    "condition_value = jnp.zeros((1,2,))\n",
    "score_args = {\"node_ids\": jnp.array([0,1]), \"condition_mask\": condition_mask, \"edge_mask\":None}\n",
    "samples3 = rev3.sample(rng, 1000, condition_mask=condition_mask, condition_value=condition_value, score_args=score_args, replace_conditioned=False)\n",
    "\n",
    "# samples3 = sample_fn(jrandom.PRNGKey(0), (1000,), time_steps=1000, node_ids=jnp.array([0,1]), condition_mask=jnp.array([1,1], dtype=int), score_fn=score_fn4, replace_conditioned=False)"
   ]
  },
  {
   "cell_type": "code",
   "execution_count": 37,
   "metadata": {},
   "outputs": [],
   "source": [
    "# Auxiliarly for plotting\n",
    "\n",
    "def pot(x):\n",
    "    return jnp.exp(log_polytope_fn_approximation(0.001, x, 0.3*jax.random.normal(jrandom.PRNGKey(0), (8,2))))\n",
    "\n",
    "\n",
    "potential_fn = jax.vmap(jax.scipy.stats.gaussian_kde(data[:,[0,1]].T, bw_method=\"silverman\"))\n",
    "x = jnp.linspace(data[:, 0].min(), data[:, 0].max(), 200)\n",
    "y = jnp.linspace(data[:, 1].min(), data[:, 1].max(), 200)\n",
    "X, Y = jnp.meshgrid(x, y)\n",
    "pos = jnp.dstack((X, Y))\n",
    "Z_true = potential_fn(pos.reshape(-1,2)).reshape(200,200)\n",
    "Z = pot(pos.reshape(-1,2)).reshape(200,200)\n"
   ]
  },
  {
   "cell_type": "code",
   "execution_count": null,
   "metadata": {},
   "outputs": [
    {
     "data": {
      "image/png": "[encoded data removed]",
      "text/plain": [
       "<Figure size 400x450 with 2 Axes>"
      ]
     },
     "metadata": {},
     "output_type": "display_data"
    }
   ],
   "source": [
    "# from scoresbibm.plot import use_style\n",
    "# with use_style(\"pyloric\"):\n",
    "\n",
    "fig, axs = plt.subplots(2, 1, figsize=(4., 4.5), gridspec_kw={'height_ratios': [1, 3]})\n",
    "\n",
    "# 2D scatter plot\n",
    "l = axs[1].contour(X, Y, Z,colors=\"tab:red\", levels=[0.4], alpha=0.5, linewidths=3)\n",
    "axs[1].contourf(X, Y, Z_true, cmap=\"Greys\", levels=200, vmin=0, alpha=0.9)\n",
    "axs[1].scatter(samples1[:, 0], samples1[:, 1], s=1, alpha=0.2, color=\"tab:green\")\n",
    "axs[1].scatter(samples2[:, 0], samples2[:, 1], s=1, alpha=0.05, color=\"tab:blue\")\n",
    "axs[1].scatter(samples3[:, 0], samples3[:, 1], s=1, alpha=0.2, color=\"tab:red\")\n",
    "axs[1].set_xlim(-10, 10)\n",
    "axs[1].set_ylim(-5, 5)\n",
    "axs[1].set_xlabel(r\"$\\theta$\")\n",
    "axs[1].set_ylabel(r\"$x_1$\")\n",
    "\n",
    "# 1D marginal plot\n",
    "_ = sns.histplot(samples1[:, 0], ax=axs[0], bins=20, color=\"tab:green\", stat=\"density\")\n",
    "_ = sns.histplot(samples2[:, 0], ax=axs[0], bins=20,color=\"tab:blue\", stat=\"density\")\n",
    "_ = sns.histplot(samples3[:, 0], ax=axs[0],bins=20, color=\"tab:red\", stat=\"density\")\n",
    "axs[0].set_xlim(-10, 10)\n",
    "axs[0].set_ylim(0, 0.5)\n",
    "axs[0].set_xticklabels([])\n",
    "axs[0].set_yticklabels([])\n",
    "axs[0].set_ylabel(\"\")\n",
    "axs[0].yaxis.set_visible(False)\n",
    "axs[1].set_xticks([-10,0,10])\n",
    "axs[1].set_yticks([-5,0,5])\n",
    "\n",
    "axs[0].legend([r\"$p(\\theta|x_1 \\in [2,3])$\", r\"$p(\\theta|x_1 + \\theta = 0)$\", r\"$p(\\theta|(x_1,\\theta)\\in S)$\"], ncol=3, loc=\"upper center\", bbox_to_anchor=(0.5, 1.5),columnspacing=0.7)\n",
    "plt.tight_layout()\n",
    "plt.show() # wrong"
   ]
  },
  {
   "attachments": {
    "image.png": {
     "image/png": "[encoded data removed]"
    }
   },
   "cell_type": "markdown",
   "metadata": {},
   "source": [
    "![image.png](attachment:image.png)"
   ]
  },
  {
   "cell_type": "markdown",
   "metadata": {},
   "source": [
    "### 9) Change priors or likelihoods\n",
    "\n",
    "\n",
    "$$ p(\\theta) \\propto \\exp\\left(-\\frac{(\\theta - \\mu)^2}{2\\sigma^2}\\right) $$\n",
    "$$ \\nabla_\\theta \\log p(\\theta) = \\frac{\\theta - \\mu}{\\sigma^2} $$\n",
    "\n",
    "In training we have $\\sigma^2 = 9$.\n",
    "Now for any $\\alpha$ we have\n",
    "$$ p(\\theta)^\\alpha = \\exp\\left(-\\frac{\\alpha(\\theta - \\mu)^2}{2\\sigma^2}\\right) = \\exp\\left(-\\frac{(\\theta - \\mu)^2}{2\\sigma^2/\\alpha}\\right) $$\n",
    "\n",
    "So if we want a certain variance $\\sigma_0^2$. All we have to do is to multiply the score by $\\alpha = \\sigma^2/\\sigma_0^2$.\n",
    "\n",
    "If we want to change the mean then we have to add $\\mu_0 - \\mu / \\sigma^2$ to the score."
   ]
  },
  {
   "cell_type": "code",
   "execution_count": 39,
   "metadata": {},
   "outputs": [
    {
     "ename": "NotImplementedError",
     "evalue": "The following code is not working yet",
     "output_type": "error",
     "traceback": [
      "\u001b[0;31m---------------------------------------------------------------------------\u001b[0m",
      "\u001b[0;31mNotImplementedError\u001b[0m                       Traceback (most recent call last)",
      "Cell \u001b[0;32mIn[39], line 1\u001b[0m\n\u001b[0;32m----> 1\u001b[0m \u001b[38;5;28;01mraise\u001b[39;00m \u001b[38;5;167;01mNotImplementedError\u001b[39;00m(\u001b[38;5;124m\"\u001b[39m\u001b[38;5;124mThe following code is not working yet\u001b[39m\u001b[38;5;124m\"\u001b[39m)\n",
      "\u001b[0;31mNotImplementedError\u001b[0m: The following code is not working yet"
     ]
    }
   ],
   "source": [
    "raise NotImplementedError(\"The following code is not working yet\")"
   ]
  },
  {
   "cell_type": "code",
   "execution_count": 88,
   "metadata": {},
   "outputs": [],
   "source": [
    "# Score function wrappers with manipulations\n",
    "def score_prior_change(params, t, x, node_ids, condition_mask, edge_mask, node_ids_to_change, scale=1., shift=0.):\n",
    "\n",
    "    index = jnp.searchsorted(node_ids,node_ids_to_change)    \n",
    "    score_unconditioned = model_fn(params, t, x[:,index], node_ids=node_ids_to_change, condition_mask=jnp.zeros_like(node_ids_to_change))\n",
    "\n",
    "    score_conditional = model_fn(params, t, x, node_ids=node_ids, condition_mask=condition_mask, edge_mask=edge_mask)\n",
    "    score_conditional = score_conditional.at[:,index].set(scale * (score_unconditioned - shift) + (score_conditional[:,index] - score_unconditioned))\n",
    "    \n",
    "    return score_conditional\n",
    "\n",
    "def score_likelihood_change(params, t, x, node_ids, condition_mask, edge_mask, node_ids_to_change, scale=1., shift=0.):\n",
    "\n",
    "    index = jnp.searchsorted(node_ids,node_ids_to_change)    \n",
    "    score_unconditioned = model_fn(params, t, x[:,index], node_ids=node_ids_to_change, condition_mask=jnp.zeros_like(node_ids_to_change))\n",
    "\n",
    "    score_conditional = model_fn(params, t, x, node_ids=node_ids, condition_mask=condition_mask, edge_mask=edge_mask)\n",
    "    score_conditional =  score_conditional.at[:,index].set(score_unconditioned + (scale*(score_conditional[:,index] - score_unconditioned)) - shift)\n",
    "    \n",
    "    return score_conditional\n"
   ]
  },
  {
   "cell_type": "code",
   "execution_count": null,
   "metadata": {},
   "outputs": [],
   "source": [
    "x = jnp.linspace(-10, 10, 1000)\n",
    "potential_theta = partial(log_potential, x1=jnp.zeros((1,)), x2=None, mean_scale=jnp.sqrt(12.))\n",
    "potential_post = potential_theta(x)\n",
    "potential_post = potential_post - potential_post.max()\n",
    "potential_post = jnp.exp(potential_post)\n",
    "potential_post = potential_post / jnp.trapz(potential_post, x=x)\n"
   ]
  },
  {
   "cell_type": "code",
   "execution_count": null,
   "metadata": {},
   "outputs": [],
   "source": [
    "# Change to N(0, 2) prior -> shift = 9/4\n",
    "score_fn_prior_change = partial(score_prior_change, scale=9/12., shift=0., node_ids_to_change=jnp.array([0]))\n",
    "samples = sample_fn(jrandom.PRNGKey(0), (5000,), time_steps=500, node_ids=jnp.array([0,1]), condition_mask=jnp.array([0,1], dtype=int), condition_value=jnp.zeros((2,)),  edge_mask=None, score_fn =score_fn_prior_change)\n",
    "with use_style(\"pyloric\"):\n",
    "    fig = plt.figure(figsize=(3, 2))\n",
    "    ax = plt.gca()\n",
    "    sns.histplot(samples[:, -1, 0], bins=100, stat=\"density\", label= \"Approx.\")\n",
    "    plt.plot(x, jax.scipy.stats.norm.pdf(x, 0, 2), color=\"black\", linestyle=\"--\", label=\"Prior\")\n",
    "    plt.plot(x, potential_post, color=\"black\", label=\"Exact\")\n",
    "    plt.legend(loc=\"upper left\")\n",
    "    plt.xlabel(r\"$\\theta$\")\n",
    "    ax.yaxis.set_visible(False)\n",
    "    ax.spines['left'].set_visible(False)\n",
    "    ax.set_xticks([-10,0,10])   \n",
    "    ax.set_xlim(-10,10)\n"
   ]
  },
  {
   "cell_type": "code",
   "execution_count": null,
   "metadata": {},
   "outputs": [],
   "source": [
    "x = jnp.linspace(-10, 10, 1000)\n",
    "potential_theta = partial(log_potential, x1=jnp.zeros((1,)), x2=None, mean_scale=1, mean_loc=2)\n",
    "potential_post = potential_theta(x)\n",
    "potential_post = potential_post - potential_post.max()\n",
    "potential_post = jnp.exp(potential_post)\n",
    "potential_post = potential_post / jnp.trapz(potential_post, x=x)\n"
   ]
  },
  {
   "cell_type": "code",
   "execution_count": null,
   "metadata": {},
   "outputs": [],
   "source": [
    "# Change to N(2, 1) prior -> shift = 9/2, loc = 2/9\n",
    "score_fn_prior_change = partial(score_prior_change, scale=9/2, shift=-2/9, node_ids_to_change=jnp.array([0]))\n",
    "samples = sample_fn(jrandom.PRNGKey(0), (2000,), time_steps=500, node_ids=jnp.array([0,1]), condition_mask=jnp.array([0,1], dtype=int), condition_value=jnp.zeros((2,)),  edge_mask=None, score_fn =score_fn_prior_change)\n",
    "\n",
    "with use_style(\"pyloric\"):\n",
    "    fig = plt.figure(figsize=(3, 2))\n",
    "    ax = plt.gca()\n",
    "    sns.histplot(samples[:, -1, 0], bins=50, stat=\"density\", label= \"Approx.\")\n",
    "    plt.plot(x, jax.scipy.stats.norm.pdf(x, 2., np.sqrt(2.)), color=\"black\", linestyle=\"--\", label=\"Prior\")\n",
    "    plt.plot(x, potential_post, color=\"black\", label=\"Exact\")\n",
    "    plt.legend()\n",
    "    ax.yaxis.set_visible(False)\n",
    "    ax.spines['left'].set_visible(False)\n",
    "    ax.set_xticks([-10,0,10])   \n",
    "    plt.xlabel(r\"$\\theta$\")"
   ]
  },
  {
   "cell_type": "code",
   "execution_count": null,
   "metadata": {},
   "outputs": [],
   "source": [
    "x = jnp.linspace(-10, 10, 1000)\n",
    "potential_theta = partial(log_potential, x1=jnp.zeros((1,)), x2=None, sigma_x1=jnp.sqrt(0.05))\n",
    "potential_post = potential_theta(x)\n",
    "potential_post = potential_post - potential_post.max()\n",
    "potential_post = jnp.exp(potential_post)\n",
    "potential_post = potential_post / jnp.trapz(potential_post, x=x)\n"
   ]
  },
  {
   "cell_type": "code",
   "execution_count": null,
   "metadata": {},
   "outputs": [],
   "source": [
    "# Likelihood very certain\n",
    "score_fn_likelihood_change = partial(score_likelihood_change, scale=0.5**2/0.05, shift=0., node_ids_to_change=jnp.array([0]))\n",
    "samples = sample_fn(jrandom.PRNGKey(0), (2000,), time_steps=500, node_ids=jnp.array([0,1]), condition_mask=jnp.array([0,1], dtype=int), condition_value=jnp.zeros((2,)),  edge_mask=None, score_fn =score_fn_likelihood_change)\n",
    "\n",
    "with use_style(\"pyloric\"):\n",
    "    fig = plt.figure(figsize=(3, 2))\n",
    "    ax = plt.gca()\n",
    "    sns.histplot(samples[:, -1, 0], bins=200, stat=\"density\")\n",
    "    plt.plot(x, potential_post, color=\"black\")\n",
    "    plt.legend([\"exact\", \"approx.\"], loc=\"upper left\")\n",
    "    plt.xlim(-10,10)\n",
    "    ax.yaxis.set_visible(False)\n",
    "    ax.spines['left'].set_visible(False)\n",
    "    ax.set_xticks([-10,0,10])   \n",
    "    plt.xlabel(r\"$\\theta$\")"
   ]
  },
  {
   "cell_type": "code",
   "execution_count": null,
   "metadata": {},
   "outputs": [],
   "source": [
    "x = jnp.linspace(-10, 10, 1000)\n",
    "potential_theta = partial(log_potential, x1=jnp.zeros((1,)), x2=None, sigma_x1=2.)\n",
    "potential_post = potential_theta(x)\n",
    "potential_post = potential_post - potential_post.max()\n",
    "potential_post = jnp.exp(potential_post)\n",
    "potential_post = potential_post / jnp.trapz(potential_post, x=x)\n"
   ]
  },
  {
   "cell_type": "code",
   "execution_count": null,
   "metadata": {},
   "outputs": [],
   "source": [
    "# Likelihood very certain\n",
    "score_fn_likelihood_change = partial(score_likelihood_change, scale=0.5**2/4., shift=0., node_ids_to_change=jnp.array([0]))\n",
    "samples = sample_fn(jrandom.PRNGKey(0), (10000,), time_steps=500, node_ids=jnp.array([0,1]), condition_mask=jnp.array([0,1], dtype=int), condition_value=jnp.zeros((2,)),  edge_mask=None, score_fn =score_fn_likelihood_change)\n",
    "\n",
    "with use_style(\"pyloric\"):\n",
    "    fig = plt.figure(figsize=(3, 2))\n",
    "    ax = plt.gca()\n",
    "    sns.histplot(samples[:, -1, 0], bins=100, stat=\"density\")\n",
    "    plt.plot(x, potential_post, color=\"black\")\n",
    "    plt.legend([\"exact\", \"approx.\"], loc=\"upper left\")\n",
    "    plt.xlim(-10,10)\n",
    "    ax.yaxis.set_visible(False)\n",
    "    ax.spines['left'].set_visible(False)\n",
    "    ax.set_xticks([-10,0,10])   \n",
    "    plt.xlabel(r\"$\\theta$\")"
   ]
  }
 ],
 "metadata": {
  "celltoolbar": "Hide code",
  "kernelspec": {
   "display_name": "diffusion",
   "language": "python",
   "name": "python3"
  },
  "language_info": {
   "codemirror_mode": {
    "name": "ipython",
    "version": 3
   },
   "file_extension": ".py",
   "mimetype": "text/x-python",
   "name": "python",
   "nbconvert_exporter": "python",
   "pygments_lexer": "ipython3",
   "version": "3.12.8"
  },
  "varInspector": {
   "cols": {
    "lenName": 16,
    "lenType": 16,
    "lenVar": 40
   },
   "kernels_config": {
    "python": {
     "delete_cmd_postfix": "",
     "delete_cmd_prefix": "del ",
     "library": "var_list.py",
     "varRefreshCmd": "print(var_dic_list())"
    },
    "r": {
     "delete_cmd_postfix": ") ",
     "delete_cmd_prefix": "rm(",
     "library": "var_list.r",
     "varRefreshCmd": "cat(var_dic_list()) "
    }
   },
   "types_to_exclude": [
    "module",
    "function",
    "builtin_function_or_method",
    "instance",
    "_Feature"
   ],
   "window_display": false
  }
 },
 "nbformat": 4,
 "nbformat_minor": 2
}
