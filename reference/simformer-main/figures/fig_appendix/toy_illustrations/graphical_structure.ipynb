{
 "cells": [
  {
   "cell_type": "code",
   "execution_count": 2,
   "metadata": {},
   "outputs": [],
   "source": [
    "import jax\n",
    "import jax.numpy as jnp\n",
    "import jax.random as jrandom\n",
    "\n",
    "import matplotlib.pyplot as plt\n",
    "import seaborn as sns\n",
    "import pandas as pd\n",
    "\n",
    "from functools import partial\n",
    "\n",
    "import haiku as hk # DeepMind's neural network library\n",
    "import optax # Gradient-based optimization in JAX\n",
    "\n",
    "from probjax.utils.odeint import odeint\n",
    "from probjax.nn.transformers import Transformer\n",
    "from probjax.nn.helpers import GaussianFourierEmbedding\n",
    "from probjax.nn.loss_fn import denoising_score_matching_loss\n",
    "from probjax.distributions.sde import VPSDE, VESDE\n",
    "from probjax.distributions import Empirical, Independent\n",
    "\n",
    "from scoresbibm.utils.plot import use_style\n",
    "\n",
    "from sbi.analysis import pairplot\n",
    "import numpy as np"
   ]
  },
  {
   "cell_type": "code",
   "execution_count": 3,
   "metadata": {},
   "outputs": [],
   "source": [
    "from scoresbibm.tasks import LinearGaussian, MixtureGaussian, TwoMoons, SLCP, NonlinearGaussianTreeAllConditionalTask, NonlinearMarcovChainAllConditionalTask"
   ]
  },
  {
   "cell_type": "code",
   "execution_count": 4,
   "metadata": {},
   "outputs": [],
   "source": [
    "task1 = LinearGaussian(backend=\"jax\")\n",
    "task2 = MixtureGaussian(backend=\"jax\")\n",
    "task3 = TwoMoons(backend=\"jax\")\n",
    "task4 = SLCP(backend=\"jax\")\n",
    "task5 = NonlinearGaussianTreeAllConditionalTask(backend=\"jax\")\n",
    "task6 = NonlinearMarcovChainAllConditionalTask(backend=\"jax\")"
   ]
  },
  {
   "cell_type": "code",
   "execution_count": 17,
   "metadata": {},
   "outputs": [
    {
     "data": {
      "image/png": "[encoded data removed]",
      "text/plain": [
       "<Figure size 200x200 with 1 Axes>"
      ]
     },
     "metadata": {},
     "output_type": "display_data"
    },
    {
     "data": {
      "image/png": "[encoded data removed]",
      "text/plain": [
       "<Figure size 200x200 with 1 Axes>"
      ]
     },
     "metadata": {},
     "output_type": "display_data"
    },
    {
     "data": {
      "image/png": "[encoded data removed]",
      "text/plain": [
       "<Figure size 200x200 with 1 Axes>"
      ]
     },
     "metadata": {},
     "output_type": "display_data"
    },
    {
     "data": {
      "image/png": "[encoded data removed]",
      "text/plain": [
       "<Figure size 200x200 with 1 Axes>"
      ]
     },
     "metadata": {},
     "output_type": "display_data"
    },
    {
     "data": {
      "image/png": "[encoded data removed]",
      "text/plain": [
       "<Figure size 200x200 with 1 Axes>"
      ]
     },
     "metadata": {},
     "output_type": "display_data"
    },
    {
     "data": {
      "image/png": "[encoded data removed]",
      "text/plain": [
       "<Figure size 200x200 with 1 Axes>"
      ]
     },
     "metadata": {},
     "output_type": "display_data"
    }
   ],
   "source": [
    "for t in [task1, task2, task3, task4, task5, task6]:\n",
    "    fig = plt.figure(figsize=(2, 2))\n",
    "    plt.imshow(t.get_base_mask_fn()(t.get_node_id(), None), cmap=\"gray_r\", vmin=0, vmax=1)\n",
    "    plt.axis(\"off\")\n",
    "    plt.show()"
   ]
  },
  {
   "cell_type": "code",
   "execution_count": 6,
   "metadata": {},
   "outputs": [],
   "source": [
    "gaussian_linear_mask = task1.get_base_mask_fn()(task1.get_node_id(), None)\n",
    "slcp_mask = task4.get_base_mask_fn()(task4.get_node_id(), None)\n",
    "tree_mask = task5.get_base_mask_fn()(task5.get_node_id(), None)\n",
    "hmm_mask = task6.get_base_mask_fn()(task6.get_node_id(), None)\n",
    "two_moons_mask = task3.get_base_mask_fn()(task3.get_node_id(), None)"
   ]
  },
  {
   "cell_type": "code",
   "execution_count": 66,
   "metadata": {},
   "outputs": [],
   "source": [
    "from scoresbibm.utils.edge_masks import get_edge_mask_fn\n",
    "\n",
    "\n",
    "edge_mask_fn_slcp = get_edge_mask_fn(\"min_faithfull\",task6)"
   ]
  },
  {
   "cell_type": "code",
   "execution_count": 95,
   "metadata": {},
   "outputs": [
    {
     "data": {
      "image/png": "[encoded data removed]",
      "text/plain": [
       "<Figure size 100x100 with 1 Axes>"
      ]
     },
     "metadata": {},
     "output_type": "display_data"
    }
   ],
   "source": [
    "with use_style(\"pyloric\"):\n",
    "    fig  = plt.figure(figsize=(1,1))\n",
    "    plt.imshow(edge_mask_fn_slcp(task6.get_node_id(), jnp.array([0]*10+ [1]*10, dtype=bool)), cmap=\"gray_r\")\n",
    "    plt.axis(\"off\")\n",
    "    plt.title(r\"$p(\\theta|x)$\")\n",
    "    plt.savefig(\"directed_posterior_mask_hmm.svg\", bbox_inches=\"tight\")"
   ]
  },
  {
   "cell_type": "code",
   "execution_count": 94,
   "metadata": {},
   "outputs": [
    {
     "data": {
      "image/png": "[encoded data removed]",
      "text/plain": [
       "<Figure size 100x100 with 1 Axes>"
      ]
     },
     "metadata": {},
     "output_type": "display_data"
    }
   ],
   "source": [
    "with use_style(\"pyloric\"):\n",
    "    fig  = plt.figure(figsize=(1,1))\n",
    "    plt.imshow(edge_mask_fn_slcp(task6.get_node_id(), jnp.array([1]*10+ [0]*10, dtype=bool)), cmap=\"gray_r\")\n",
    "    plt.axis(\"off\")\n",
    "    plt.title(r\"$p(x|\\theta)$\")\n",
    "    plt.savefig(\"directed_likelihood_mask_hmm.svg\", bbox_inches=\"tight\")"
   ]
  },
  {
   "cell_type": "code",
   "execution_count": 7,
   "metadata": {},
   "outputs": [],
   "source": [
    "# Set random key\n",
    "key = jax.random.PRNGKey(0)"
   ]
  },
  {
   "cell_type": "code",
   "execution_count": 8,
   "metadata": {},
   "outputs": [],
   "source": [
    "def connected_by_path_of_length_n(edge_mask, n):\n",
    "    for _ in range(n):\n",
    "        edge_mask = jnp.matmul(edge_mask, edge_mask)\n",
    "    \n",
    "    return edge_mask > 0"
   ]
  },
  {
   "cell_type": "code",
   "execution_count": 10,
   "metadata": {},
   "outputs": [],
   "source": [
    "markovian = jnp.eye(100) + jnp.eye(100, k=-1)\n",
    "parameter_iid = jnp.block([[jnp.eye(100), jnp.zeros((100, 100))], [jnp.eye(100), markovian]])"
   ]
  },
  {
   "cell_type": "code",
   "execution_count": 11,
   "metadata": {},
   "outputs": [],
   "source": [
    "parameter_iid_undirected = parameter_iid + parameter_iid.T"
   ]
  },
  {
   "cell_type": "code",
   "execution_count": 14,
   "metadata": {},
   "outputs": [
    {
     "name": "stderr",
     "output_type": "stream",
     "text": [
      "findfont: Font family ['sans-serif'] not found. Falling back to DejaVu Sans.\n",
      "findfont: Generic family 'sans-serif' not found because none of the following families were found: Arial\n"
     ]
    },
    {
     "data": {
      "image/png": "[encoded data removed]",
      "text/plain": [
       "<Figure size 200x500 with 10 Axes>"
      ]
     },
     "metadata": {},
     "output_type": "display_data"
    }
   ],
   "source": [
    "with use_style(\"pyloric\"):\n",
    "    fig, axes = plt.subplots(5, 2, figsize=(2,5))\n",
    "    axes[0,0].imshow(connected_by_path_of_length_n(hmm_mask + hmm_mask.T, 0), vmin=0., vmax=1., cmap=\"Greys\")\n",
    "\n",
    "    axes[1,0].imshow(connected_by_path_of_length_n(hmm_mask + hmm_mask.T, 1), vmin=0., vmax=1., cmap=\"Greys\")\n",
    "\n",
    "    axes[2,0].imshow(connected_by_path_of_length_n(hmm_mask + hmm_mask.T, 2), vmin=0., vmax=1., cmap=\"Greys\")\n",
    "\n",
    "    axes[3,0].imshow(connected_by_path_of_length_n(hmm_mask + hmm_mask.T, 3), vmin=0., vmax=1., cmap=\"Greys\")\n",
    "\n",
    "    axes[4,0].imshow(connected_by_path_of_length_n(hmm_mask + hmm_mask.T, 4), vmin=0., vmax=1., cmap=\"Greys\")\n",
    "\n",
    "\n",
    "    axes[0,1].imshow(connected_by_path_of_length_n(hmm_mask, 0), vmin=0., vmax=1., cmap=\"Greys\")\n",
    "\n",
    "    axes[1,1].imshow(connected_by_path_of_length_n(hmm_mask, 1), vmin=0., vmax=1., cmap=\"Greys\")\n",
    "\n",
    "    axes[2,1].imshow(connected_by_path_of_length_n(hmm_mask, 2), vmin=0., vmax=1., cmap=\"Greys\")\n",
    "\n",
    "    axes[3,1].imshow(connected_by_path_of_length_n(hmm_mask, 3), vmin=0., vmax=1., cmap=\"Greys\")\n",
    "\n",
    "    axes[4,1].imshow(connected_by_path_of_length_n(hmm_mask, 4), vmin=0., vmax=1., cmap=\"Greys\")\n",
    "    \n",
    "    for i in range(5):\n",
    "        for j in range(2):\n",
    "            axes[i,j].spines['left'].set_visible(False)\n",
    "            axes[i,j].spines['bottom'].set_visible(False)\n",
    "            axes[i,j].set_xticks([])\n",
    "            axes[i,j].set_yticks([])\n",
    "    \n",
    "    \n",
    "    axes[0,0].set_title(\"Undirected\")\n",
    "    axes[0,1].set_title(\"Directed\")\n",
    "    # Enable y-labels\n",
    "    axes[0,0].set_ylabel(\"n=1\")\n",
    "    axes[1,0].set_ylabel(\"n=2\")\n",
    "    axes[2,0].set_ylabel(\"n=3\")\n",
    "    axes[3,0].set_ylabel(\"n=4\")\n",
    "    axes[4,0].set_ylabel(\"n=5\")\n",
    "    fig.savefig(\"hmm_mask_per_layer\")\n",
    "    "
   ]
  },
  {
   "cell_type": "code",
   "execution_count": 13,
   "metadata": {},
   "outputs": [
    {
     "data": {
      "text/plain": [
       "(-0.5, 12.5, 12.5, -0.5)"
      ]
     },
     "execution_count": 13,
     "metadata": {},
     "output_type": "execute_result"
    },
    {
     "data": {
      "image/png": "[encoded data removed]",
      "text/plain": [
       "<Figure size 640x480 with 1 Axes>"
      ]
     },
     "metadata": {},
     "output_type": "display_data"
    }
   ],
   "source": [
    "plt.imshow(connected_by_path_of_length_n(slcp_mask + slcp_mask.T, 1), vmin=0., vmax=1., cmap=\"gray_r\")\n",
    "plt.axis(\"off\")"
   ]
  },
  {
   "cell_type": "code",
   "execution_count": 1,
   "metadata": {},
   "outputs": [
    {
     "ename": "NameError",
     "evalue": "name 'plt' is not defined",
     "output_type": "error",
     "traceback": [
      "\u001b[0;31m---------------------------------------------------------------------------\u001b[0m",
      "\u001b[0;31mNameError\u001b[0m                                 Traceback (most recent call last)",
      "Cell \u001b[0;32mIn[1], line 1\u001b[0m\n\u001b[0;32m----> 1\u001b[0m \u001b[43mplt\u001b[49m\u001b[38;5;241m.\u001b[39mimshow(connected_by_path_of_length_n(slcp_mask, \u001b[38;5;241m0\u001b[39m), vmin\u001b[38;5;241m=\u001b[39m\u001b[38;5;241m0.\u001b[39m, vmax\u001b[38;5;241m=\u001b[39m\u001b[38;5;241m1.\u001b[39m, cmap\u001b[38;5;241m=\u001b[39m\u001b[38;5;124m\"\u001b[39m\u001b[38;5;124mgray_r\u001b[39m\u001b[38;5;124m\"\u001b[39m)\n\u001b[1;32m      2\u001b[0m plt\u001b[38;5;241m.\u001b[39maxis(\u001b[38;5;124m\"\u001b[39m\u001b[38;5;124moff\u001b[39m\u001b[38;5;124m\"\u001b[39m)\n",
      "\u001b[0;31mNameError\u001b[0m: name 'plt' is not defined"
     ]
    }
   ],
   "source": [
    "plt.imshow(connected_by_path_of_length_n(slcp_mask, 0), vmin=0., vmax=1., cmap=\"gray_r\")\n",
    "plt.axis(\"off\")"
   ]
  },
  {
   "cell_type": "code",
   "execution_count": 227,
   "metadata": {},
   "outputs": [
    {
     "data": {
      "text/plain": [
       "<matplotlib.image.AxesImage at 0x7ff2ca2ca950>"
      ]
     },
     "execution_count": 227,
     "metadata": {},
     "output_type": "execute_result"
    },
    {
     "data": {
      "image/png": "[encoded data removed]",
      "text/plain": [
       "<Figure size 640x480 with 1 Axes>"
      ]
     },
     "metadata": {},
     "output_type": "display_data"
    }
   ],
   "source": [
    "plt.imshow(connected_by_path_of_length_n(hmm_mask + hmm_mask.T, 2))"
   ]
  }
 ],
 "metadata": {
  "kernelspec": {
   "display_name": "probjax",
   "language": "python",
   "name": "python3"
  },
  "language_info": {
   "codemirror_mode": {
    "name": "ipython",
    "version": 3
   },
   "file_extension": ".py",
   "mimetype": "text/x-python",
   "name": "python",
   "nbconvert_exporter": "python",
   "pygments_lexer": "ipython3",
   "version": "3.11.5"
  }
 },
 "nbformat": 4,
 "nbformat_minor": 2
}
