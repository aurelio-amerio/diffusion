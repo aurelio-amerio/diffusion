{
 "cells": [
  {
   "cell_type": "code",
   "execution_count": null,
   "metadata": {},
   "outputs": [],
   "source": [
    "import seaborn as sns\n",
    "\n",
    "from scoresbibm.utils.data_utils import query, get_summary_df, load_model\n",
    "from scoresbibm.utils.plot import plot_metric_by_num_simulations, use_style,multi_plot\n",
    "\n",
    "import matplotlib.pyplot as plt\n",
    "\n",
    "import logging\n",
    "logging.getLogger('matplotlib.font_manager').disabled = True\n"
   ]
  },
  {
   "cell_type": "code",
   "execution_count": null,
   "metadata": {},
   "outputs": [],
   "source": [
    "def filter_guidance_method(x, val=\"repaint\"):\n",
    "    cfg = x[\"cfg\"]\n",
    "    mask = cfg.apply(lambda x: eval(x)[\"method\"][\"posterior\"][\"sampling_method\"] == val)\n",
    "\n",
    "    return x[mask]\n",
    "\n",
    "def filter_resampling_steps(x, num=0):\n",
    "    cfg = x[\"cfg\"]\n",
    "    mask = cfg.apply(lambda x: eval(x)[\"method\"][\"posterior\"][\"resampling_steps\"] ==num)\n",
    "\n",
    "    return x[mask]\n",
    "\n",
    "def filter_ids(x, ids):\n",
    "    id = x[\"model_id\"]\n",
    "    mask = id.apply(lambda x: x in ids)\n",
    "\n",
    "    return x[mask]"
   ]
  },
  {
   "cell_type": "code",
   "execution_count": null,
   "metadata": {},
   "outputs": [],
   "source": [
    "import pandas as pd\n",
    "import seaborn as sns"
   ]
  },
  {
   "cell_type": "code",
   "execution_count": null,
   "metadata": {},
   "outputs": [],
   "source": [
    "vpsde_id = query(\"../../results_final/main_benchmark_all_cond_joint2\",metric=\"none\",method_sde_name=\"vpsde\")[\"model_id\"].tolist()\n",
    "vesde_id = query(\"../../results_final/main_benchmark_all_cond_joint2\",metric=\"none\",method_sde_name=\"vesde\")[\"model_id\"].tolist()"
   ]
  },
  {
   "cell_type": "code",
   "execution_count": null,
   "metadata": {},
   "outputs": [],
   "source": [
    "df_guidance = query(\"../../results_final/main_benchmark_all_cond_joint2\", metric=\"c2st\", method=\"score_transformer_joint\")"
   ]
  },
  {
   "cell_type": "code",
   "execution_count": null,
   "metadata": {},
   "outputs": [],
   "source": [
    "with use_style(\"pyloric\"):\n",
    "    fig, axes = plt.subplots(2,4, figsize=(10,3.), sharex=True, sharey=True)\n",
    "    axes[0,0].set_yticks([0.5,1.])\n",
    "    axes[1,0].set_yticks([0.5,1.])\n",
    "    axes[0,0].set_yticklabels([0.5,1.])\n",
    "    axes[1,0].set_yticklabels([0.5,1.])\n",
    "    axes[0,0].set_ylim([0.5,1.])\n",
    "    axes[1,0].set_ylim([0.5,1.])\n",
    "    axes[0,0].set_ylabel(\"VESDE\\n\\nC2ST\", x=-1.)\n",
    "    axes[1,0].set_ylabel(\"VPSDE\\n\\nC2ST\", x=-1.)\n",
    "\n",
    "    tasks = [\"tree_all_cond\", \"marcov_chain_all_cond\", \"two_moons_all_cond\", \"slcp_all_cond\"]\n",
    "    color_map = {\"score_transformer_joint_repaint0\": \"#1e81b0\", \"score_transformer_joint_repaint5\": \"#76b5c5\",\"score_transformer_joint_generalized_guidance0\": \"#e28743\",\"score_transformer_joint_generalized_guidance5\": \"#eab676\"}\n",
    "    for i in range(4):\n",
    "        df_guidance = query(\"../../results_final/main_benchmark_all_cond_joint2\", metric=\"c2st\", method=\"score_transformer_joint\", task = tasks[i])\n",
    "        df1 = filter_ids(filter_guidance_method(filter_resampling_steps(df_guidance, num=0), val=\"repaint\"), vesde_id)\n",
    "        df1[\"method\"] = df1[\"method\"].apply(lambda x: x + \"_repaint0\")\n",
    "\n",
    "        df2 = filter_ids(filter_guidance_method(filter_resampling_steps(df_guidance, num=5), val=\"repaint\"), vesde_id)\n",
    "        df2[\"method\"] = df2[\"method\"].apply(lambda x: x + \"_repaint5\")\n",
    "\n",
    "        df3 = filter_ids(filter_guidance_method(filter_resampling_steps(df_guidance, num=0), val=\"generalized_guidance\"), vesde_id)\n",
    "        df3[\"method\"] = df3[\"method\"].apply(lambda x: x + \"_generalized_guidance0\")\n",
    "\n",
    "        df4 = filter_ids(filter_guidance_method(filter_resampling_steps(df_guidance, num=5), val=\"generalized_guidance\"), vesde_id)\n",
    "        df4[\"method\"] = df4[\"method\"].apply(lambda x: x + \"_generalized_guidance5\")\n",
    "\n",
    "        df_preprocesed = pd.concat([df1, df2, df3, df4])\n",
    "\n",
    "        sns.pointplot(data=df_preprocesed, x=\"num_simulations\", y=\"value\", hue=\"method\", alpha=0.8, ax=axes[0, i], legend =False, palette=color_map)\n",
    "        \n",
    "        \n",
    "    for i in range(4):\n",
    "        df_guidance = query(\"../../results_final/main_benchmark_all_cond_joint2\", metric=\"c2st\", method=\"score_transformer_joint\", task = tasks[i])\n",
    "        df1 = filter_ids(filter_guidance_method(filter_resampling_steps(df_guidance, num=0), val=\"repaint\"), vpsde_id)\n",
    "        df1[\"method\"] = df1[\"method\"].apply(lambda x: x + \"_repaint0\")\n",
    "\n",
    "        df2 = filter_ids(filter_guidance_method(filter_resampling_steps(df_guidance, num=5), val=\"repaint\"), vpsde_id)\n",
    "        df2[\"method\"] = df2[\"method\"].apply(lambda x: x + \"_repaint5\")\n",
    "\n",
    "        df3 = filter_ids(filter_guidance_method(filter_resampling_steps(df_guidance, num=0), val=\"generalized_guidance\"), vpsde_id)\n",
    "        df3[\"method\"] = df3[\"method\"].apply(lambda x: x + \"_generalized_guidance0\")\n",
    "\n",
    "        df4 = filter_ids(filter_guidance_method(filter_resampling_steps(df_guidance, num=5), val=\"generalized_guidance\"), vpsde_id)\n",
    "        df4[\"method\"] = df4[\"method\"].apply(lambda x: x + \"_generalized_guidance5\")\n",
    "\n",
    "        df_preprocesed = pd.concat([df1, df2, df3, df4])\n",
    "\n",
    "        sns.pointplot(data=df_preprocesed, x=\"num_simulations\", y=\"value\", hue=\"method\", alpha=0.8, ax=axes[1, i], legend =False, palette=color_map)\n",
    "        axes[1,i].set_xticklabels([r\"$10^3$\", r\"$10^4$\", r\"$10^5$\"])\n",
    "        axes[1,i].set_xlabel(\"Number of simulations\")\n",
    "    fig.legend([\"Repaint (r=0)\", \"Repaint (r=5)\", \"GGuidance (r=0)\", \"GGuidance (r=5)\"], loc=\"center\", bbox_to_anchor=(0.5, 1.), ncol=4)\n",
    "    fig.savefig(\"guidance.svg\", bbox_inches=\"tight\")\n",
    "    plt.show()"
   ]
  }
 ],
 "metadata": {
  "language_info": {
   "name": "python"
  }
 },
 "nbformat": 4,
 "nbformat_minor": 2
}
