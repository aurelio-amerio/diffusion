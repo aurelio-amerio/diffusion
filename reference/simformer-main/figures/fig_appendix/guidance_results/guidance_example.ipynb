{
 "cells": [
  {
   "cell_type": "code",
   "execution_count": 1,
   "metadata": {},
   "outputs": [],
   "source": [
    "from scoresbibm.utils.data_utils import query, get_summary_df, load_model\n",
    "from scoresbibm.utils.plot import plot_metric_by_num_simulations, use_style,multi_plot\n",
    "\n",
    "import matplotlib.pyplot as plt\n",
    "\n",
    "import jax \n",
    "import jax.numpy as jnp"
   ]
  },
  {
   "cell_type": "code",
   "execution_count": 2,
   "metadata": {},
   "outputs": [
    {
     "data": {
      "text/html": [
       "<div>\n",
       "<style scoped>\n",
       "    .dataframe tbody tr th:only-of-type {\n",
       "        vertical-align: middle;\n",
       "    }\n",
       "\n",
       "    .dataframe tbody tr th {\n",
       "        vertical-align: top;\n",
       "    }\n",
       "\n",
       "    .dataframe thead th {\n",
       "        text-align: right;\n",
       "    }\n",
       "</style>\n",
       "<table border=\"1\" class=\"dataframe\">\n",
       "  <thead>\n",
       "    <tr style=\"text-align: right;\">\n",
       "      <th></th>\n",
       "      <th>method</th>\n",
       "      <th>task</th>\n",
       "      <th>num_simulations</th>\n",
       "      <th>seed</th>\n",
       "      <th>model_id</th>\n",
       "      <th>metric</th>\n",
       "      <th>value</th>\n",
       "      <th>time_train</th>\n",
       "      <th>time_eval</th>\n",
       "      <th>cfg</th>\n",
       "    </tr>\n",
       "  </thead>\n",
       "  <tbody>\n",
       "    <tr>\n",
       "      <th>0</th>\n",
       "      <td>score_transformer</td>\n",
       "      <td>two_moons_all_cond</td>\n",
       "      <td>100000</td>\n",
       "      <td>0</td>\n",
       "      <td>0</td>\n",
       "      <td>none</td>\n",
       "      <td>NaN</td>\n",
       "      <td>977.567293</td>\n",
       "      <td>NaN</td>\n",
       "      <td>{'name': 'example_guidance', 'seed': 0, 'model...</td>\n",
       "    </tr>\n",
       "    <tr>\n",
       "      <th>1</th>\n",
       "      <td>score_transformer_joint</td>\n",
       "      <td>two_moons_all_cond</td>\n",
       "      <td>100000</td>\n",
       "      <td>0</td>\n",
       "      <td>1</td>\n",
       "      <td>none</td>\n",
       "      <td>NaN</td>\n",
       "      <td>1047.143678</td>\n",
       "      <td>NaN</td>\n",
       "      <td>{'name': 'example_guidance', 'seed': 0, 'model...</td>\n",
       "    </tr>\n",
       "  </tbody>\n",
       "</table>\n",
       "</div>"
      ],
      "text/plain": [
       "                    method                task  num_simulations  seed  \\\n",
       "0        score_transformer  two_moons_all_cond           100000     0   \n",
       "1  score_transformer_joint  two_moons_all_cond           100000     0   \n",
       "\n",
       "   model_id metric  value   time_train  time_eval  \\\n",
       "0         0   none    NaN   977.567293        NaN   \n",
       "1         1   none    NaN  1047.143678        NaN   \n",
       "\n",
       "                                                 cfg  \n",
       "0  {'name': 'example_guidance', 'seed': 0, 'model...  \n",
       "1  {'name': 'example_guidance', 'seed': 0, 'model...  "
      ]
     },
     "execution_count": 2,
     "metadata": {},
     "output_type": "execute_result"
    }
   ],
   "source": [
    "df = query(\"../../../results/example_guidance\")\n",
    "df"
   ]
  },
  {
   "cell_type": "code",
   "execution_count": 3,
   "metadata": {},
   "outputs": [],
   "source": [
    "model = load_model(\"../../../results/example_guidance\", 1)"
   ]
  },
  {
   "cell_type": "code",
   "execution_count": 4,
   "metadata": {},
   "outputs": [],
   "source": [
    "model_conditional = load_model(\"../../../results/example_guidance\", 0)"
   ]
  },
  {
   "cell_type": "code",
   "execution_count": 5,
   "metadata": {},
   "outputs": [],
   "source": [
    "condition_mask_posterior = jnp.array([False, False, True, True])\n",
    "observation_posterior = jnp.array([0., 0.])"
   ]
  },
  {
   "cell_type": "code",
   "execution_count": 6,
   "metadata": {},
   "outputs": [
    {
     "name": "stdout",
     "output_type": "stream",
     "text": [
      "Sampling method:  sde\n"
     ]
    }
   ],
   "source": [
    "samples1 = model_conditional.sample(5000, condition_mask=condition_mask_posterior, x_o=observation_posterior, rng=jax.random.PRNGKey(0))"
   ]
  },
  {
   "cell_type": "code",
   "execution_count": 7,
   "metadata": {},
   "outputs": [
    {
     "name": "stdout",
     "output_type": "stream",
     "text": [
      "Sampling method:  repaint\n"
     ]
    }
   ],
   "source": [
    "samples2 = model.sample(5000, condition_mask=condition_mask_posterior, x_o=observation_posterior, rng=jax.random.PRNGKey(0), sampling_method=\"repaint\", resampling_steps=0)"
   ]
  },
  {
   "cell_type": "code",
   "execution_count": 8,
   "metadata": {},
   "outputs": [
    {
     "name": "stdout",
     "output_type": "stream",
     "text": [
      "Sampling method:  repaint\n"
     ]
    }
   ],
   "source": [
    "samples3 = model.sample(5000, condition_mask=condition_mask_posterior, x_o=observation_posterior, rng=jax.random.PRNGKey(0), sampling_method=\"repaint\", resampling_steps=5)"
   ]
  },
  {
   "cell_type": "code",
   "execution_count": 9,
   "metadata": {},
   "outputs": [
    {
     "name": "stdout",
     "output_type": "stream",
     "text": [
      "Sampling method:  generalized_guidance\n"
     ]
    }
   ],
   "source": [
    "samples4 = model.sample(5000, condition_mask=condition_mask_posterior, x_o=observation_posterior, rng=jax.random.PRNGKey(0), sampling_method=\"generalized_guidance\", resampling_steps=0, constraint_name=\"conditional\")"
   ]
  },
  {
   "cell_type": "code",
   "execution_count": 10,
   "metadata": {},
   "outputs": [
    {
     "name": "stdout",
     "output_type": "stream",
     "text": [
      "Sampling method:  generalized_guidance\n"
     ]
    }
   ],
   "source": [
    "samples5 = model.sample(5000, condition_mask=condition_mask_posterior, x_o=observation_posterior, rng=jax.random.PRNGKey(0), sampling_method=\"generalized_guidance\", resampling_steps=5, constraint_name=\"conditional\")"
   ]
  },
  {
   "cell_type": "code",
   "execution_count": 11,
   "metadata": {},
   "outputs": [
    {
     "data": {
      "image/png": "[encoded data removed]",
      "text/plain": [
       "<Figure size 1200x200 with 5 Axes>"
      ]
     },
     "metadata": {},
     "output_type": "display_data"
    }
   ],
   "source": [
    "with use_style(\"pyloric\"):\n",
    "    fig, axs = plt.subplots(1, 5, figsize=(12, 2))\n",
    "    axs[0].scatter(samples1[:, 0], samples1[:, 1], s=0.1, rasterized=True)\n",
    "    axs[1].scatter(samples2[:, 0], samples2[:, 1], s=0.1, rasterized=True)\n",
    "    axs[2].scatter(samples3[:, 0], samples3[:, 1], s=0.1, rasterized=True)\n",
    "    axs[3].scatter(samples4[:, 0], samples4[:, 1], s=0.1, rasterized=True)\n",
    "    axs[4].scatter(samples5[:, 0], samples5[:, 1], s=0.1, rasterized=True)\n",
    "\n",
    "    titles = [\"Conditional\", \"Repaint (r=0)\", \"Repaint (r=5)\", \"General guidance (r=0)\", \"General guidance (r=5)\"]\n",
    "    for ax in axs:\n",
    "        ax.set_xlim([-1,1.])\n",
    "        ax.set_ylim([-1,1.])\n",
    "        ax.set_xticks([])\n",
    "        ax.set_yticks([])\n",
    "        ax.set_title(titles.pop(0))\n",
    "        # Enable upper and right spine\n",
    "        ax.spines['right'].set_visible(True)\n",
    "        ax.spines['top'].set_visible(True)\n",
    "        \n",
    "    fig.savefig(\"guidance_two_moons_example.svg\", bbox_inches=\"tight\")\n",
    "        "
   ]
  },
  {
   "cell_type": "code",
   "execution_count": 12,
   "metadata": {},
   "outputs": [
    {
     "name": "stdout",
     "output_type": "stream",
     "text": [
      "Sampling method:  generalized_guidance\n"
     ]
    }
   ],
   "source": [
    "# Observation interval\n",
    "samples6 = model.sample(5000, condition_mask=condition_mask_posterior, x_o=observation_posterior, rng=jax.random.PRNGKey(0), sampling_method=\"generalized_guidance\", resampling_steps=5, constraint_name=\"interval\", constraint_kwargs={\"a\":-0.1, \"b\": 0.1}, return_conditioned_samples=True)"
   ]
  },
  {
   "cell_type": "code",
   "execution_count": 13,
   "metadata": {},
   "outputs": [
    {
     "name": "stdout",
     "output_type": "stream",
     "text": [
      "Sampling method:  generalized_guidance\n"
     ]
    }
   ],
   "source": [
    "# Parital Observation interval\n",
    "samples7 = model_conditional.sample(5000, condition_mask=jnp.array([False, False, False, True]), constraint_mask = jnp.array([False, False, True, False]), x_o=observation_posterior[-1:], rng=jax.random.PRNGKey(0), sampling_method=\"generalized_guidance\", resampling_steps=5, constraint_name=\"interval\", constraint_kwargs={\"a\":-0.1, \"b\": 0.1}, return_conditioned_samples=True)"
   ]
  },
  {
   "cell_type": "code",
   "execution_count": 14,
   "metadata": {},
   "outputs": [
    {
     "name": "stdout",
     "output_type": "stream",
     "text": [
      "Sampling method:  generalized_guidance\n"
     ]
    }
   ],
   "source": [
    "# Parital Observation interval\n",
    "samples8 = model_conditional.sample(5000, condition_mask=jnp.array([False, False, True, False]), constraint_mask = jnp.array([False, False, False, True]), x_o=observation_posterior[:-1], rng=jax.random.PRNGKey(0), sampling_method=\"generalized_guidance\", resampling_steps=5, constraint_name=\"interval\", constraint_kwargs={\"a\":-0.1, \"b\": 0.1}, return_conditioned_samples=True)"
   ]
  },
  {
   "cell_type": "code",
   "execution_count": 15,
   "metadata": {},
   "outputs": [
    {
     "name": "stdout",
     "output_type": "stream",
     "text": [
      "Sampling method:  generalized_guidance\n"
     ]
    }
   ],
   "source": [
    "# Observation interval and theta constraint\n",
    "samples9 = model_conditional.sample(5000, condition_mask=condition_mask_posterior, constraint_mask=~condition_mask_posterior, x_o=observation_posterior, rng=jax.random.PRNGKey(0), sampling_method=\"generalized_guidance\", resampling_steps=5, constraint_name=\"interval\", constraint_kwargs={\"a\":None, \"b\": 0.}, return_conditioned_samples=True)"
   ]
  },
  {
   "cell_type": "code",
   "execution_count": 16,
   "metadata": {},
   "outputs": [
    {
     "name": "stdout",
     "output_type": "stream",
     "text": [
      "Sampling method:  generalized_guidance\n"
     ]
    }
   ],
   "source": [
    "# Observation interval and theta constraint\n",
    "samples10 = model_conditional.sample(5000, condition_mask=jnp.array([False, False, True, True]), x_o=observation_posterior, rng=jax.random.PRNGKey(0), sampling_method=\"generalized_guidance\", resampling_steps=5, constraint_name=\"linear\", constraint_kwargs={\"a\": jnp.array([0.,0.,1.,1.])}, return_conditioned_samples=True, default_scaling_fn_bias=1e-8)"
   ]
  },
  {
   "cell_type": "code",
   "execution_count": 17,
   "metadata": {},
   "outputs": [],
   "source": [
    "with use_style(\"pyloric\"):\n",
    "    fig, axs = plt.subplots(1, 5, figsize=(12, 2))\n",
    "    axs[0].scatter(samples6[:, 0], samples6[:, 1], s=0.01, rasterized=True)\n",
    "    axs[1].scatter(samples7[:, 0], samples7[:, 1], s=0.01, rasterized=True)\n",
    "    axs[2].scatter(samples8[:, 0], samples8[:, 1], s=0.01, rasterized=True)\n",
    "    axs[3].scatter(samples9[:, 0], samples9[:, 1], s=0.01, rasterized=True)\n",
    "    axs[4].scatter(samples10[:, 0], samples10[:, 1], s=0.01, rasterized=True)\n",
    "\n",
    "    titles = [r\"$p(\\theta|x \\in [-0.1, 0.1])$\", r\"$p(\\theta|x_1 \\in [-0.1,0.1], x_2=0.)$\", r\"$p(\\theta|x_1=0, x_2 \\in [-0.1,0.1])$\", r\"$p(\\theta|x, \\theta < 0)$\", r\"$p(\\theta|x_1 + x_2 = 0)$\"]\n",
    "    for ax in axs:\n",
    "        ax.set_xlim([-1,1.])\n",
    "        ax.set_ylim([-1,1.])\n",
    "        ax.set_xticks([])\n",
    "        ax.set_yticks([])\n",
    "        ax.set_title(titles.pop(0))\n",
    "        # Enable upper and right spine\n",
    "        ax.spines['right'].set_visible(True)\n",
    "        ax.spines['top'].set_visible(True)\n",
    "        \n",
    "    fig.savefig(\"abstract_guidance_two_moons_example.svg\", bbox_inches=\"tight\")\n",
    "        "
   ]
  },
  {
   "cell_type": "code",
   "execution_count": null,
   "metadata": {},
   "outputs": [],
   "source": []
  }
 ],
 "metadata": {
  "kernelspec": {
   "display_name": "probjax",
   "language": "python",
   "name": "python3"
  },
  "language_info": {
   "codemirror_mode": {
    "name": "ipython",
    "version": 3
   },
   "file_extension": ".py",
   "mimetype": "text/x-python",
   "name": "python",
   "nbconvert_exporter": "python",
   "pygments_lexer": "ipython3",
   "version": "3.11.5"
  }
 },
 "nbformat": 4,
 "nbformat_minor": 2
}
