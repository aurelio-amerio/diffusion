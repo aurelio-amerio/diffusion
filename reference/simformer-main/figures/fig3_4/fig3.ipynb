{
 "cells": [
  {
   "cell_type": "code",
   "execution_count": 1,
   "metadata": {},
   "outputs": [
    {
     "name": "stdout",
     "output_type": "stream",
     "text": [
      "The history saving thread hit an unexpected error (DatabaseError('database disk image is malformed')).History will not be written to the database.\n"
     ]
    }
   ],
   "source": [
    "from scoresbibm.utils.data_utils import query, get_summary_df, load_model\n",
    "from scoresbibm.utils.plot import plot_metric_by_num_simulations, use_style,multi_plot\n",
    "\n",
    "import matplotlib.pyplot as plt\n",
    "import seaborn as sns\n",
    "\n",
    "from scoresbibm.tasks.all_conditional_tasks import TwoMoonsAllConditionalTask\n",
    "import jax\n",
    "task = TwoMoonsAllConditionalTask()\n",
    "reference_sampler = task.get_reference_sampler()"
   ]
  },
  {
   "cell_type": "code",
   "execution_count": 23,
   "metadata": {},
   "outputs": [],
   "source": [
    "df = query(\"../../results/main_benchmark_all_cond\", task=\"two_moons_all_cond\", num_simulations=100000, method=\"score_transformer\", method_sde_name = \"vesde\")"
   ]
  },
  {
   "cell_type": "code",
   "execution_count": 24,
   "metadata": {},
   "outputs": [
    {
     "data": {
      "text/html": [
       "<div>\n",
       "<style scoped>\n",
       "    .dataframe tbody tr th:only-of-type {\n",
       "        vertical-align: middle;\n",
       "    }\n",
       "\n",
       "    .dataframe tbody tr th {\n",
       "        vertical-align: top;\n",
       "    }\n",
       "\n",
       "    .dataframe thead th {\n",
       "        text-align: right;\n",
       "    }\n",
       "</style>\n",
       "<table border=\"1\" class=\"dataframe\">\n",
       "  <thead>\n",
       "    <tr style=\"text-align: right;\">\n",
       "      <th></th>\n",
       "      <th>method</th>\n",
       "      <th>task</th>\n",
       "      <th>num_simulations</th>\n",
       "      <th>seed</th>\n",
       "      <th>model_id</th>\n",
       "      <th>metric</th>\n",
       "      <th>value</th>\n",
       "      <th>time_train</th>\n",
       "      <th>time_eval</th>\n",
       "      <th>cfg</th>\n",
       "    </tr>\n",
       "  </thead>\n",
       "  <tbody>\n",
       "    <tr>\n",
       "      <th>7</th>\n",
       "      <td>score_transformer</td>\n",
       "      <td>two_moons_all_cond</td>\n",
       "      <td>100000</td>\n",
       "      <td>0</td>\n",
       "      <td>7</td>\n",
       "      <td>c2st</td>\n",
       "      <td>0.511039</td>\n",
       "      <td>862.748242</td>\n",
       "      <td>10.317979</td>\n",
       "      <td>{'name': 'main_benchmark_all_cond', 'seed': 0,...</td>\n",
       "    </tr>\n",
       "  </tbody>\n",
       "</table>\n",
       "</div>"
      ],
      "text/plain": [
       "              method                task  num_simulations  seed  model_id  \\\n",
       "7  score_transformer  two_moons_all_cond           100000     0         7   \n",
       "\n",
       "  metric     value  time_train  time_eval  \\\n",
       "7   c2st  0.511039  862.748242  10.317979   \n",
       "\n",
       "                                                 cfg  \n",
       "7  {'name': 'main_benchmark_all_cond', 'seed': 0,...  "
      ]
     },
     "execution_count": 24,
     "metadata": {},
     "output_type": "execute_result"
    }
   ],
   "source": [
    "df"
   ]
  },
  {
   "cell_type": "code",
   "execution_count": 25,
   "metadata": {},
   "outputs": [],
   "source": [
    "# Make some nice conditonal pictures!!!\n",
    "\n",
    "model = load_model(\"../../results/main_benchmark_all_cond\",df.index[0])"
   ]
  },
  {
   "cell_type": "code",
   "execution_count": 26,
   "metadata": {},
   "outputs": [],
   "source": [
    "observation_stream = task.get_observation_generator()(jax.random.PRNGKey(0))\n",
    "_, _, xs = next(observation_stream)"
   ]
  },
  {
   "cell_type": "code",
   "execution_count": 27,
   "metadata": {},
   "outputs": [],
   "source": [
    "# Posterior\n",
    "condition_mask_posterior = jax.numpy.array([False, False, True, True])\n",
    "observation_posterior = xs[condition_mask_posterior]\n",
    "condition_mask_partial_posterior = jax.numpy.array([False, False, True, False])\n",
    "observation_partial_posterior = xs[condition_mask_partial_posterior]\n",
    "condition_mask_partial_posterior2 = jax.numpy.array([False, False, False, True])\n",
    "observation_partial_posterior2 = xs[condition_mask_partial_posterior]\n",
    "condition_mask_partial_emulation = jax.numpy.array([True, False, False, True])\n",
    "observation_partial_emulation = xs[condition_mask_partial_emulation]\n",
    "condition_mask_partial_emulation2 = jax.numpy.array([True, False, True, False])\n",
    "observation_partial_emulation2 = xs[condition_mask_partial_emulation2]\n",
    "condition_mask_emulation = jax.numpy.array([True, True, False, False])\n",
    "observation_emulation = xs[condition_mask_emulation]"
   ]
  },
  {
   "cell_type": "code",
   "execution_count": 29,
   "metadata": {},
   "outputs": [],
   "source": [
    "samples1 = model.sample(20000, condition_mask=condition_mask_posterior, x_o=observation_posterior, rng=jax.random.PRNGKey(0))"
   ]
  },
  {
   "cell_type": "code",
   "execution_count": 30,
   "metadata": {},
   "outputs": [],
   "source": [
    "samples2 = model.sample(50000, condition_mask=condition_mask_partial_posterior, x_o=observation_partial_posterior, rng=jax.random.PRNGKey(0))[:,:2]"
   ]
  },
  {
   "cell_type": "code",
   "execution_count": 31,
   "metadata": {},
   "outputs": [],
   "source": [
    "samples3 = model.sample(50000, condition_mask=condition_mask_partial_posterior2, x_o=observation_partial_posterior2, rng=jax.random.PRNGKey(0))[:,:2]"
   ]
  },
  {
   "cell_type": "code",
   "execution_count": 32,
   "metadata": {},
   "outputs": [],
   "source": [
    "samples4 = model.sample(20000, condition_mask=condition_mask_emulation, x_o=observation_emulation, rng=jax.random.PRNGKey(0))[:,:2]"
   ]
  },
  {
   "cell_type": "code",
   "execution_count": 33,
   "metadata": {},
   "outputs": [],
   "source": [
    "samples5 = model.sample(20000, condition_mask=condition_mask_partial_emulation, x_o=observation_partial_emulation, rng=jax.random.PRNGKey(0))[:,:2]"
   ]
  },
  {
   "cell_type": "code",
   "execution_count": 34,
   "metadata": {},
   "outputs": [],
   "source": [
    "samples6 = model.sample(20000, condition_mask=condition_mask_partial_emulation2, x_o=observation_partial_emulation2, rng=jax.random.PRNGKey(0))[:,:2]"
   ]
  },
  {
   "cell_type": "code",
   "execution_count": 36,
   "metadata": {},
   "outputs": [
    {
     "name": "stderr",
     "output_type": "stream",
     "text": [
      "findfont: Generic family 'sans-serif' not found because none of the following families were found: Arial\n",
      "findfont: Font family ['sans-serif'] not found. Falling back to DejaVu Sans.\n",
      "findfont: Generic family 'sans-serif' not found because none of the following families were found: Arial\n",
      "findfont: Generic family 'sans-serif' not found because none of the following families were found: Arial\n",
      "findfont: Generic family 'sans-serif' not found because none of the following families were found: Arial\n",
      "findfont: Generic family 'sans-serif' not found because none of the following families were found: Arial\n",
      "findfont: Generic family 'sans-serif' not found because none of the following families were found: Arial\n",
      "findfont: Generic family 'sans-serif' not found because none of the following families were found: Arial\n"
     ]
    },
    {
     "data": {
      "image/png": "[encoded data removed]",
      "text/plain": [
       "<Figure size 600x150 with 4 Axes>"
      ]
     },
     "metadata": {},
     "output_type": "display_data"
    }
   ],
   "source": [
    "with use_style(\"pyloric\"):\n",
    "    fig, axes = plt.subplots(1,4, figsize=(6, 1.5))\n",
    "    plt.subplots_adjust(wspace=-0.01)  # Adjust the space between subplots\n",
    "    axes[0].hexbin(samples1[:,0], samples1[:,1], gridsize=200, rasterized=True, extent=[-1,1,-1,1], vmax=100.)\n",
    "    axes[0].axes.xaxis.set_visible(False)\n",
    "    axes[0].axes.yaxis.set_visible(False)\n",
    "    axes[0].axes.spines['bottom'].set_visible(False)\n",
    "    axes[0].axes.spines['left'].set_visible(False)\n",
    "    axes[0].set_title(r\"$p(\\theta_1, \\theta_2 \\mid x_1, x_2)$\")\n",
    "\n",
    "    axes[1].hexbin(samples2[:,0], samples2[:,1], gridsize=200, rasterized=True,extent=[-1,1,-1,1], vmax=20.)\n",
    "    axes[1].axes.xaxis.set_visible(False)\n",
    "    axes[1].axes.yaxis.set_visible(False)\n",
    "    axes[1].axes.spines['bottom'].set_visible(False)\n",
    "    axes[1].axes.spines['left'].set_visible(False)\n",
    "    axes[1].set_title(r\"$p(\\theta_1, \\theta_2 \\mid x_1)$\")\n",
    "    \n",
    "    axes[2].hexbin(samples3[:,0], samples3[:,1], gridsize=200, rasterized=True,extent=[-1,1,-1,1], vmax=20.)\n",
    "    axes[2].axes.xaxis.set_visible(False)\n",
    "    axes[2].axes.yaxis.set_visible(False)\n",
    "    axes[2].axes.spines['bottom'].set_visible(False)\n",
    "    axes[2].axes.spines['left'].set_visible(False)\n",
    "    axes[2].set_title(r\"$p(\\theta_1, \\theta_2 \\mid x_2)$\")\n",
    "    \n",
    "    axes[3].hexbin(samples6[:,0], samples6[:,1], gridsize=200, rasterized=True, extent=[-1,1,-1,1.], vmax=100.)\n",
    "    axes[3].axes.xaxis.set_visible(False)\n",
    "    axes[3].axes.yaxis.set_visible(False)\n",
    "    axes[3].axes.spines['bottom'].set_visible(False)\n",
    "    axes[3].axes.spines['left'].set_visible(False)\n",
    "    axes[3].set_title(r\"$p(\\theta_1, x_2|\\theta_2, x_1)$\")\n",
    "    \n",
    "    \n",
    "    \n",
    "    fig.savefig(\"fig3.svg\", transparent=True, bbox_inches=\"tight\")\n",
    "    fig.savefig(\"fig3.png\", transparent=True, bbox_inches=\"tight\")\n",
    "    plt.show()\n"
   ]
  }
 ],
 "metadata": {
  "kernelspec": {
   "display_name": "Python 3",
   "language": "python",
   "name": "python3"
  },
  "language_info": {
   "codemirror_mode": {
    "name": "ipython",
    "version": 3
   },
   "file_extension": ".py",
   "mimetype": "text/x-python",
   "name": "python",
   "nbconvert_exporter": "python",
   "pygments_lexer": "ipython3",
   "version": "3.10.14"
  }
 },
 "nbformat": 4,
 "nbformat_minor": 2
}
