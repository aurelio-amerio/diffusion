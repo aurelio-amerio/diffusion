{
 "cells": [
  {
   "cell_type": "code",
   "execution_count": 1,
   "metadata": {},
   "outputs": [
    {
     "name": "stdout",
     "output_type": "stream",
     "text": [
      "The history saving thread hit an unexpected error (DatabaseError('database disk image is malformed')).History will not be written to the database.\n"
     ]
    }
   ],
   "source": [
    "import jax \n",
    "import jax.numpy as jnp\n",
    "\n",
    "import haiku as hk\n",
    "\n",
    "import torch\n",
    "\n",
    "import matplotlib.pyplot as plt\n",
    "\n",
    "from scoresbibm.tasks import get_task\n",
    "from scoresbibm.methods.score_transformer import run_train_transformer_model\n",
    "from scoresbibm.methods.neural_nets import scalar_transformer_model\n",
    "from scoresbibm.methods.sde import init_sde_related\n",
    "from scoresbibm.utils.plot import use_style"
   ]
  },
  {
   "cell_type": "code",
   "execution_count": 2,
   "metadata": {},
   "outputs": [],
   "source": [
    "thetas = torch.load(\"/mnt/qb/macke/mgloeckler90/thetas_0.pt\")\n",
    "theta1 = torch.load(\"/mnt/qb/macke/mgloeckler90/thetas_1.pt\")\n",
    "theta2 = torch.load(\"/mnt/qb/macke/mgloeckler90/thetas_2.pt\")\n",
    "theta3 = torch.load(\"/mnt/qb/macke/mgloeckler90/thetas_3.pt\")\n",
    "theta4 = torch.load(\"/mnt/qb/macke/mgloeckler90/thetas_4.pt\")\n",
    "theta5 = torch.load(\"/mnt/qb/macke/mgloeckler90/thetas_5.pt\")\n",
    "theta6 = torch.load(\"/mnt/qb/macke/mgloeckler90/thetas_6.pt\")\n",
    "theta7 = torch.load(\"/mnt/qb/macke/mgloeckler90/thetas_7.pt\")\n",
    "theta8 = torch.load(\"/mnt/qb/macke/mgloeckler90/thetas_8.pt\")\n",
    "theta9 = torch.load(\"/mnt/qb/macke/mgloeckler90/thetas_9.pt\")\n"
   ]
  },
  {
   "cell_type": "code",
   "execution_count": 3,
   "metadata": {},
   "outputs": [],
   "source": [
    "xs_raw = torch.load(\"/mnt/qb/macke/mgloeckler90/xs_0.pt\")\n",
    "xs_raw1 = torch.load(\"/mnt/qb/macke/mgloeckler90/xs_1.pt\")\n",
    "xs_raw2 = torch.load(\"/mnt/qb/macke/mgloeckler90/xs_2.pt\")\n",
    "xs_raw3 = torch.load(\"/mnt/qb/macke/mgloeckler90/xs_3.pt\")\n",
    "xs_raw4 = torch.load(\"/mnt/qb/macke/mgloeckler90/xs_4.pt\")\n",
    "xs_raw5 = torch.load(\"/mnt/qb/macke/mgloeckler90/xs_5.pt\")\n",
    "xs_raw6 = torch.load(\"/mnt/qb/macke/mgloeckler90/xs_6.pt\")\n",
    "xs_raw7 = torch.load(\"/mnt/qb/macke/mgloeckler90/xs_7.pt\")\n",
    "xs_raw8 = torch.load(\"/mnt/qb/macke/mgloeckler90/xs_8.pt\")\n",
    "xs_raw9 = torch.load(\"/mnt/qb/macke/mgloeckler90/xs_9.pt\")"
   ]
  },
  {
   "cell_type": "code",
   "execution_count": 4,
   "metadata": {},
   "outputs": [
    {
     "data": {
      "text/plain": [
       "torch.Size([2, 8192])"
      ]
     },
     "execution_count": 4,
     "metadata": {},
     "output_type": "execute_result"
    },
    {
     "ename": "",
     "evalue": "",
     "output_type": "error",
     "traceback": [
      "\u001b[1;31mThe Kernel crashed while executing code in the current cell or a previous cell. \n",
      "\u001b[1;31mPlease review the code in the cell(s) to identify a possible cause of the failure. \n",
      "\u001b[1;31mClick <a href='https://aka.ms/vscodeJupyterKernelCrash'>here</a> for more info. \n",
      "\u001b[1;31mView Jupyter <a href='command:jupyter.viewOutput'>log</a> for further details."
     ]
    }
   ],
   "source": [
    "xs_raw[0].shape"
   ]
  },
  {
   "cell_type": "code",
   "execution_count": 4,
   "metadata": {},
   "outputs": [],
   "source": [
    "thetas = torch.cat([thetas, theta1, theta2, theta3, theta4, theta5, theta6, theta7, theta8, theta9], dim=0)\n",
    "xs_raw = torch.cat([xs_raw, xs_raw1, xs_raw2, xs_raw3, xs_raw4, xs_raw5, xs_raw6, xs_raw7, xs_raw8, xs_raw9], dim=0)"
   ]
  },
  {
   "cell_type": "code",
   "execution_count": 5,
   "metadata": {},
   "outputs": [],
   "source": [
    "thetas = jnp.array(thetas.numpy())\n",
    "xs_raw = jnp.array(xs_raw.numpy())\n",
    "\n",
    "thetas = jax.device_put(thetas, jax.devices(\"cpu\")[0])\n",
    "xs_raw = jax.device_put(xs_raw, jax.devices(\"cpu\")[0])"
   ]
  },
  {
   "cell_type": "code",
   "execution_count": 6,
   "metadata": {},
   "outputs": [],
   "source": [
    "thetas_mean = jnp.mean(thetas, axis=0, keepdims=True)\n",
    "thetas_std = jnp.std(thetas, axis=0, keepdims=True)\n",
    "\n",
    "thetas = (thetas - thetas_mean) / thetas_std"
   ]
  },
  {
   "cell_type": "code",
   "execution_count": 7,
   "metadata": {},
   "outputs": [],
   "source": [
    "def z_score_thetas(thetas):\n",
    "    thetas = (thetas - thetas_mean) / thetas_std\n",
    "    return thetas\n",
    "\n",
    "def un_z_score_thetas(thetas):\n",
    "    thetas = thetas * thetas_std + thetas_mean\n",
    "    return thetas"
   ]
  },
  {
   "cell_type": "code",
   "execution_count": 8,
   "metadata": {},
   "outputs": [],
   "source": [
    "xs_mean = jnp.mean(xs_raw, axis=0, keepdims=True)\n",
    "xs_mean = jnp.mean(xs_mean, axis=-1, keepdims=True)\n",
    "xs_std = jnp.std(xs_raw, axis=0, keepdims=True)\n",
    "xs_std = jnp.std(xs_std, axis=-1, keepdims=True)\n",
    "\n",
    "xs = (xs_raw - xs_mean) / xs_std"
   ]
  },
  {
   "cell_type": "code",
   "execution_count": 9,
   "metadata": {},
   "outputs": [],
   "source": [
    "def z_score_xs(xs):\n",
    "    xs = (xs - xs_mean) / xs_std\n",
    "    return xs\n",
    "\n",
    "def un_z_score_xs(xs):\n",
    "    xs = xs * xs_std + xs_mean\n",
    "    return xs"
   ]
  },
  {
   "cell_type": "code",
   "execution_count": 10,
   "metadata": {},
   "outputs": [],
   "source": [
    "import numpy as np\n",
    "def ravel(data, axis=-1):\n",
    "    flat_data, tree = jax.tree_flatten(data)\n",
    "    split_dims = np.cumsum(np.array([flat.shape[axis] for flat in flat_data]))[:-1]\n",
    "    flat_data = jnp.concatenate(flat_data, axis=axis)\n",
    "    def unravel(flat_data):\n",
    "        flat_data = jnp.split(flat_data, split_dims, axis=axis)\n",
    "        flat_data = jax.tree_unflatten(tree, flat_data)\n",
    "        return flat_data\n",
    "    def unflatten(flat_data):\n",
    "        flat_data = jnp.split(flat_data, split_dims, axis=axis)\n",
    "        return flat_data \n",
    "    return flat_data, unravel, unflatten"
   ]
  },
  {
   "cell_type": "code",
   "execution_count": 11,
   "metadata": {},
   "outputs": [
    {
     "name": "stderr",
     "output_type": "stream",
     "text": [
      "/tmp/ipykernel_1328236/1909208526.py:3: DeprecationWarning: jax.tree_flatten is deprecated: use jax.tree_util.tree_flatten.\n",
      "  flat_data, tree = jax.tree_flatten(data)\n"
     ]
    }
   ],
   "source": [
    "data = {\"theta0\": thetas[:, 0][:, None], \"theta1\": thetas[:, 1][:, None], \"x0\": xs[:, 0], \"x1\": xs[:, 1]}\n",
    "data_flat, unravel, unflatten = ravel(data)\n",
    "theta_dim = 2\n",
    "x_dim = data_flat.shape[-1] - theta_dim\n",
    "node_id = jnp.arange(0, 4)\n",
    "condition_mask = jnp.array([False]*theta_dim + [True]*x_dim)"
   ]
  },
  {
   "cell_type": "code",
   "execution_count": 12,
   "metadata": {},
   "outputs": [],
   "source": [
    "\n",
    "sde, T_min, T_max, weight_fn, output_scale_fn =  init_sde_related(data_flat, \"vesde\", sigma_min=1e-5, sigma_max=15.)"
   ]
  },
  {
   "cell_type": "code",
   "execution_count": 13,
   "metadata": {},
   "outputs": [],
   "source": [
    "from probjax.nn.helpers import GaussianFourierEmbedding\n",
    "from probjax.nn.transformers import Transformer\n",
    "\n",
    "\n",
    "token_dim = 100\n",
    "id_dim = 40\n",
    "cond_dim = 10\n",
    "\n",
    "embedding_net1 = lambda x: jnp.repeat(x, token_dim, axis=-1)\n",
    "\n",
    "embedding_net2 = lambda x:hk.Sequential([\n",
    "        hk.Conv1D(output_channels=16, kernel_shape=9, stride=2, padding='SAME', name='conv1'), # 4000\n",
    "        jax.nn.gelu,\n",
    "        hk.Conv1D(output_channels=32, kernel_shape=6, stride=2, padding='SAME', name='conv2'), # 2000\n",
    "        jax.nn.gelu,\n",
    "        hk.Conv1D(output_channels=64, kernel_shape=3, stride=2, padding='SAME', name='conv3'), # 1000\n",
    "        jax.nn.gelu,\n",
    "        hk.Conv1D(output_channels=128, kernel_shape=3, stride=2, padding='SAME', name='conv4'), # 500\n",
    "        jax.nn.gelu,\n",
    "        hk.Conv1D(output_channels=256, kernel_shape=3, stride=2, padding='SAME', name='conv4'), # 250\n",
    "        jax.nn.gelu,\n",
    "        hk.Conv1D(output_channels=512, kernel_shape=3, stride=2, padding='SAME', name='conv4'), # 125\n",
    "        jax.nn.gelu,\n",
    "        hk.Conv1D(output_channels=512, kernel_shape=3, stride=2, padding='SAME', name='conv4'), # 64\n",
    "        jax.nn.gelu,\n",
    "        hk.Conv1D(output_channels=512, kernel_shape=3, stride=2, padding='SAME', name='conv4'), # 32\n",
    "        jax.nn.gelu,\n",
    "        hk.Conv1D(output_channels=512, kernel_shape=3, stride=2, padding='SAME', name='conv4'), # 16\n",
    "        jax.nn.gelu,\n",
    "        hk.Conv1D(output_channels=512, kernel_shape=3, stride=2, padding='SAME', name='conv4'), # 8\n",
    "        jax.nn.gelu,\n",
    "        hk.Conv1D(output_channels=512, kernel_shape=3, stride=2, padding='SAME', name='conv4'), # 4\n",
    "        jax.nn.gelu,\n",
    "        hk.Flatten(),\n",
    "        hk.Linear(token_dim, name='linear'),\n",
    "    ])(x)[..., None,:]\n",
    "\n",
    "embedding_nets = [embedding_net1,embedding_net1, embedding_net2, embedding_net2]\n",
    "output_fn = [lambda x: hk.Linear(1)(x), lambda x: hk.Linear(1)(x), lambda x: hk.Linear(8192)(x), lambda x: hk.Linear(8192)(x)]\n",
    "\n",
    "\n",
    "def model(t, data, data_id, condition_mask, edge_mask=None):\n",
    "    \n",
    "    data = unflatten(data)\n",
    "\n",
    "    assert len(data) == len(embedding_nets), \"Number of data elements and embedding nets must match\"\n",
    "    \n",
    "    data_embedded = jax.tree_map(lambda x, net: net(x[..., :,None]), data, embedding_nets)\n",
    "\n",
    "    data_embedded = jnp.concatenate(data_embedded, axis=-2)\n",
    "    \n",
    "    _, current_nodes, _ = data_embedded.shape\n",
    "    \n",
    "    time_embeder = GaussianFourierEmbedding(128)\n",
    "    id_embedder= hk.Embed(4, id_dim)\n",
    "    \n",
    "    id_embedding = id_embedder(data_id)\n",
    "    id_embedding = jnp.broadcast_to(\n",
    "        id_embedding, data_embedded.shape[:-1] + (id_dim,)\n",
    "    )\n",
    "    tokens = jnp.concatenate([data_embedded, id_embedding], axis=-1)\n",
    "    time = time_embeder(t[..., None])\n",
    "    \n",
    "    condition_token = hk.get_parameter(\n",
    "        \"condition_token\",\n",
    "        shape=[1, 1, cond_dim],\n",
    "        init=hk.initializers.RandomNormal(\n",
    "            0.01, 0.\n",
    "        ),\n",
    "    )\n",
    "    condition_mask = unflatten(condition_mask)\n",
    "    condition_mask = jax.tree_map(lambda x: jnp.any(x, axis=-1, keepdims=True), condition_mask)\n",
    "    condition_mask = jnp.concatenate(condition_mask, axis=-1)\n",
    "    condition_mask = condition_mask.reshape(-1, current_nodes, 1)\n",
    "    condition_token = condition_mask * condition_token\n",
    "  \n",
    "    condition_token = jnp.broadcast_to(\n",
    "        condition_token, tokens.shape[:-1] + (cond_dim,)\n",
    "    )\n",
    "    tokens = jnp.concatenate([tokens, condition_token], -1)\n",
    "\n",
    "    \n",
    "    model = Transformer(\n",
    "        num_heads=4,\n",
    "        num_layers=8,\n",
    "        attn_size=20,\n",
    "        widening_factor=3,\n",
    "    )\n",
    "    \n",
    "    h = model(tokens, context=time, mask=edge_mask)\n",
    "    out = jnp.split(h, current_nodes, axis=-2)\n",
    "    out = jax.tree_map(lambda x, fn: fn(x), out, output_fn)\n",
    "    out = jnp.concatenate(out, axis=-1)\n",
    "    out = jnp.squeeze(out, axis=-2)\n",
    "    out = output_scale_fn(t, out)\n",
    "\n",
    "    return out\n",
    "    \n",
    "    \n",
    "init_fn, model_fn = hk.without_apply_rng(hk.transform(model))\n"
   ]
  },
  {
   "cell_type": "code",
   "execution_count": 14,
   "metadata": {},
   "outputs": [],
   "source": [
    "params = init_fn(jax.random.PRNGKey(42), jnp.ones((1,)), data_flat[:10], node_id, condition_mask)"
   ]
  },
  {
   "cell_type": "code",
   "execution_count": 15,
   "metadata": {},
   "outputs": [],
   "source": [
    "out = model_fn(params, jnp.ones((1,))*0.01, data_flat[:10], node_id, condition_mask)"
   ]
  },
  {
   "cell_type": "code",
   "execution_count": 211,
   "metadata": {},
   "outputs": [],
   "source": [
    "import optax\n",
    "optimizer = optax.adam(1e-4)\n",
    "opt_state = optimizer.init(params)"
   ]
  },
  {
   "cell_type": "code",
   "execution_count": null,
   "metadata": {},
   "outputs": [],
   "source": []
  },
  {
   "cell_type": "code",
   "execution_count": 212,
   "metadata": {},
   "outputs": [],
   "source": [
    "from probjax.nn.loss_fn import denoising_score_matching_loss\n",
    "from functools import partial\n",
    "\n",
    "\n",
    "\n",
    "\n",
    "@jax.jit\n",
    "def loss_fn(params, key, data, node_id):\n",
    "    key_times, key_loss, key_condition = jax.random.split(key,3)\n",
    "    times = jax.random.uniform(key_times, (data.shape[0],), minval=T_min, maxval =T_max)\n",
    "    condition_mask1 = jnp.array([False]*theta_dim + [True]*x_dim)\n",
    "    condition_mask2 = jnp.array([False]*theta_dim + [True]*(x_dim//2) + [False]*(x_dim//2))\n",
    "    condition_mask3 = jnp.array([False]*theta_dim + [False]*(x_dim//2) + [True]*(x_dim//2))\n",
    "\n",
    "    edge_mask1 = jnp.ones((4,4), dtype=bool)\n",
    "    # Partial posterior\n",
    "    edge_mask2 = edge_mask1.at[:, 2].set(False)\n",
    "    edge_mask2 = edge_mask2.at[2, :].set(False)\n",
    "    # Partial posterior 2\n",
    "    edge_mask3 = edge_mask1.at[:, 3].set(False)\n",
    "    edge_mask3 = edge_mask3.at[3, :].set(False)\n",
    "    \n",
    "    edge_masks = jax.random.choice(key_condition, jnp.stack([edge_mask1, edge_mask2, edge_mask3]), (data.shape[0],))\n",
    "    condition_mask = jax.random.choice(key_condition, jnp.stack([condition_mask1, condition_mask2, condition_mask3]), (data.shape[0],))\n",
    "    l_mask = jnp.broadcast_to(condition_mask1, (data.shape[0],) + condition_mask1.shape)\n",
    "    \n",
    "    loss = denoising_score_matching_loss(params, key_loss, times, data, l_mask, node_id, model_fn = model_fn, mean_fn = sde.marginal_mean, std_fn=sde.marginal_stddev, weight_fn=weight_fn, edge_mask=edge_masks, condition_mask=condition_mask, axis=-1)\n",
    "    return loss\n",
    "\n",
    "\n",
    "\n",
    "@partial(jax.pmap, axis_name=\"num_devices\")\n",
    "def update(params, opt_state, key, data, node_id):\n",
    "    loss, grads = jax.value_and_grad(loss_fn)(params, key, data, node_id)\n",
    "\n",
    "    loss = jax.lax.pmean(loss, axis_name=\"num_devices\")\n",
    "    grads = jax.lax.pmean(grads, axis_name=\"num_devices\")\n",
    "    \n",
    "    updates, opt_state = optimizer.update(grads, opt_state)\n",
    "    params = optax.apply_updates(params, updates)\n",
    "    return loss, params, opt_state\n",
    "    "
   ]
  },
  {
   "cell_type": "code",
   "execution_count": 213,
   "metadata": {},
   "outputs": [],
   "source": [
    "n_devices = jax.local_device_count()\n",
    "replicated_params = jax.tree_map(lambda x: jnp.array([x] * n_devices), params)\n",
    "replicated_opt_state = jax.tree_map(lambda x: jnp.array([x] * n_devices), opt_state)"
   ]
  },
  {
   "cell_type": "code",
   "execution_count": 214,
   "metadata": {},
   "outputs": [],
   "source": [
    "key = jax.random.PRNGKey(0)"
   ]
  },
  {
   "cell_type": "code",
   "execution_count": 215,
   "metadata": {},
   "outputs": [
    {
     "name": "stdout",
     "output_type": "stream",
     "text": [
      "54.21604\n",
      "50.97255\n",
      "48.051147\n",
      "46.361435\n",
      "45.062645\n",
      "44.422546\n",
      "43.709637\n",
      "43.247375\n",
      "43.455368\n",
      "42.942883\n",
      "42.825542\n",
      "42.43278\n",
      "42.431362\n",
      "42.26593\n",
      "42.74616\n",
      "42.355034\n",
      "42.480682\n",
      "42.50439\n",
      "41.785824\n",
      "42.31376\n",
      "42.16089\n",
      "42.236732\n",
      "42.399654\n",
      "42.214718\n",
      "42.14661\n",
      "42.44812\n",
      "41.784958\n",
      "42.098953\n",
      "42.420586\n",
      "41.930786\n",
      "41.83285\n",
      "42.055134\n",
      "41.60987\n",
      "41.869953\n",
      "41.931175\n",
      "42.076084\n",
      "41.571774\n",
      "41.899845\n",
      "41.60922\n",
      "41.78505\n"
     ]
    }
   ],
   "source": [
    "\n",
    "node_id_repeated = node_id[None, ...]\n",
    "node_id_repeated = jnp.repeat(node_id_repeated, n_devices, axis=0)\n",
    "for _ in range(40):\n",
    "    l = 0\n",
    "    for _ in range(2000):\n",
    "        key, subkey = jax.random.split(key)\n",
    "        data_batch = jax.random.choice(subkey, data_flat, (n_devices, 32))\n",
    "        loss, replicated_params, replicated_opt_state = update(replicated_params, replicated_opt_state, jax.random.split(subkey, (n_devices,)), data_batch, node_id_repeated)\n",
    "        l += loss[0] / 2000\n",
    "    print(l)\n",
    "\n"
   ]
  },
  {
   "cell_type": "code",
   "execution_count": 216,
   "metadata": {},
   "outputs": [],
   "source": [
    "params = jax.tree_map(lambda x: x[0], replicated_params)"
   ]
  },
  {
   "cell_type": "code",
   "execution_count": 329,
   "metadata": {},
   "outputs": [],
   "source": [
    "#jnp.save(\"only_post_params.pt\", params)"
   ]
  },
  {
   "cell_type": "code",
   "execution_count": 16,
   "metadata": {},
   "outputs": [],
   "source": [
    "params = jnp.load(\"only_post_params.pt.npy\", allow_pickle=True).item()\n",
    "# unpack the parameters\n"
   ]
  },
  {
   "cell_type": "code",
   "execution_count": 17,
   "metadata": {},
   "outputs": [],
   "source": [
    "end_mean = sde.marginal_mean(jnp.array(1.0))[None, ...]\n",
    "end_mean = jax.device_put(end_mean, jax.devices()[0])"
   ]
  },
  {
   "cell_type": "code",
   "execution_count": 18,
   "metadata": {},
   "outputs": [],
   "source": [
    "end_std = sde.marginal_stddev(jnp.array(1.0))[None, ...]\n",
    "end_std = jax.device_put(end_std, jax.devices()[0])"
   ]
  },
  {
   "cell_type": "code",
   "execution_count": 19,
   "metadata": {},
   "outputs": [],
   "source": [
    "from functools import partial\n",
    "from probjax.utils.sdeint import sdeint\n",
    "\n",
    "\n",
    "# Reverse SDE drift\n",
    "def drift_backward(t, x, node_ids=None, condition_mask=None, edge_mask=None, score_fn = model_fn):\n",
    "    score = score_fn(params, t.reshape(-1, 1), x[None,...], node_ids,condition_mask, edge_mask=edge_mask)\n",
    "    score = score.reshape(x.shape)\n",
    "\n",
    "    f =  sde.drift(t,x) - sde.diffusion(t,x)**2 * score\n",
    "    f = f * (1-condition_mask)\n",
    "    \n",
    "    return f.reshape(x.shape)\n",
    "\n",
    "# Reverse SDE diffusion\n",
    "def diffusion_backward(t,x, **kwargs):\n",
    "    #t = T - t\n",
    "    b =  sde.diffusion(t,x) \n",
    "    b = b * (1-condition_mask)\n",
    "    return b.reshape(x.shape)"
   ]
  },
  {
   "cell_type": "code",
   "execution_count": 20,
   "metadata": {},
   "outputs": [],
   "source": [
    "\n",
    "\n",
    "\n",
    "def sample_fn(key, shape, node_ids,condition_mask, condition_value, time_steps=1000, edge_mask=None, score_fn=model_fn):\n",
    "\n",
    "    key1, key2 = jax.random.split(key, 2)\n",
    "    # Sample from noise distribution at time 1\n",
    "    x_T = jax.random.normal(key1, shape + (condition_value.shape[0],)) * end_std + end_mean\n",
    "\n",
    "    \n",
    "    x_T = x_T * (1-condition_mask) + condition_value * condition_mask\n",
    "    # Solve backward sde\n",
    "    keys = jax.random.split(key2, shape)\n",
    "    ys = jax.vmap(lambda *args: sdeint(*args, noise_type=\"diagonal\", only_final=True), in_axes= (0, None, None, 0, None), out_axes=0)(keys, lambda t, x: drift_backward(t, x, node_ids, condition_mask, edge_mask=edge_mask, score_fn=score_fn), lambda t, x: diffusion_backward(t, x), x_T, jnp.linspace(1.,T_min, time_steps))\n",
    "    return ys"
   ]
  },
  {
   "cell_type": "code",
   "execution_count": 21,
   "metadata": {},
   "outputs": [],
   "source": [
    "thetas_test = torch.load(\"/mnt/qb/macke/mgloeckler90/thetas_10.pt\")\n",
    "thetas_test = jnp.array(thetas_test.numpy())\n",
    "thetas_test = z_score_thetas(thetas_test)\n",
    "thetas_test = jax.device_put(thetas_test, jax.devices()[0])"
   ]
  },
  {
   "cell_type": "code",
   "execution_count": 22,
   "metadata": {},
   "outputs": [],
   "source": [
    "xs_test = torch.load(\"/mnt/qb/macke/mgloeckler90/xs_10.pt\")\n",
    "xs_test = jnp.array(xs_test.numpy())\n",
    "xs_test = z_score_xs(xs_test).reshape(xs_test.shape[0],-1)\n",
    "xs_test = jax.device_put(xs_test, jax.devices()[0])"
   ]
  },
  {
   "cell_type": "code",
   "execution_count": 23,
   "metadata": {},
   "outputs": [],
   "source": [
    "data_test_flat = jnp.concatenate([thetas_test, xs_test], axis=-1)"
   ]
  },
  {
   "cell_type": "code",
   "execution_count": 24,
   "metadata": {},
   "outputs": [],
   "source": [
    "thetas_mean = jax.device_put(thetas_mean, jax.devices()[0])\n",
    "thetas_std = jax.device_put(thetas_std, jax.devices()[0])"
   ]
  },
  {
   "cell_type": "code",
   "execution_count": 25,
   "metadata": {},
   "outputs": [],
   "source": [
    "edge_mask = jnp.ones((4,4), dtype=bool)\n",
    "edge_mask1 = edge_mask.at[:, 2].set(False)\n",
    "edge_mask1 = edge_mask1.at[2, :].set(False)\n",
    "\n",
    "edge_mask2 = edge_mask.at[:, 3].set(False)\n",
    "edge_mask2 = edge_mask2.at[3, :].set(False)"
   ]
  },
  {
   "cell_type": "code",
   "execution_count": 26,
   "metadata": {},
   "outputs": [
    {
     "data": {
      "text/plain": [
       "Array([9848, 6400, 9914, ..., 1774, 9448,  733], dtype=int32)"
      ]
     },
     "execution_count": 26,
     "metadata": {},
     "output_type": "execute_result"
    }
   ],
   "source": [
    "((thetas_test[:, 0] - thetas_test[:, 1])**2).argsort()"
   ]
  },
  {
   "cell_type": "code",
   "execution_count": 350,
   "metadata": {},
   "outputs": [
    {
     "data": {
      "text/plain": [
       "Array([1.645, 0.385], dtype=float32)"
      ]
     },
     "execution_count": 350,
     "metadata": {},
     "output_type": "execute_result"
    }
   ],
   "source": [
    "index = 5000\n",
    "x_o = jax.device_put(data_test_flat[index], jax.devices()[0])\n",
    "x_o[:2]"
   ]
  },
  {
   "cell_type": "code",
   "execution_count": 351,
   "metadata": {},
   "outputs": [],
   "source": [
    "sample = sample_fn(jax.random.PRNGKey(0), (2000,), node_id, condition_mask, x_o)"
   ]
  },
  {
   "cell_type": "code",
   "execution_count": 352,
   "metadata": {},
   "outputs": [
    {
     "name": "stderr",
     "output_type": "stream",
     "text": [
      "/tmp/ipykernel_3308156/1909208526.py:8: DeprecationWarning: jax.tree_unflatten is deprecated: use jax.tree_util.tree_unflatten.\n",
      "  flat_data = jax.tree_unflatten(tree, flat_data)\n"
     ]
    }
   ],
   "source": [
    "x_o_dict = unravel(x_o)"
   ]
  },
  {
   "cell_type": "code",
   "execution_count": 353,
   "metadata": {},
   "outputs": [],
   "source": [
    "\n",
    "\n",
    "sample_partial1 = sample_fn(jax.random.PRNGKey(1), (2000,), node_id, condition_mask, x_o, edge_mask=edge_mask1)\n",
    "sample_partial2 = sample_fn(jax.random.PRNGKey(2), (2000,), node_id, condition_mask, x_o, edge_mask=edge_mask2)"
   ]
  },
  {
   "cell_type": "code",
   "execution_count": 354,
   "metadata": {},
   "outputs": [],
   "source": [
    "thetas = un_z_score_thetas(sample[:, :2])\n",
    "thetas_partial1 = un_z_score_thetas(sample_partial1[:, :2])\n",
    "thetas_partial2 = un_z_score_thetas(sample_partial2[:, :2])\n",
    "theta_true = un_z_score_thetas(x_o[:2])"
   ]
  },
  {
   "cell_type": "code",
   "execution_count": null,
   "metadata": {},
   "outputs": [],
   "source": []
  },
  {
   "cell_type": "code",
   "execution_count": 355,
   "metadata": {},
   "outputs": [],
   "source": [
    "import matplotlib.pyplot as plt"
   ]
  },
  {
   "cell_type": "code",
   "execution_count": 356,
   "metadata": {},
   "outputs": [
    {
     "name": "stderr",
     "output_type": "stream",
     "text": [
      "findfont: Generic family 'sans-serif' not found because none of the following families were found: Arial\n",
      "findfont: Generic family 'sans-serif' not found because none of the following families were found: Arial\n",
      "findfont: Generic family 'sans-serif' not found because none of the following families were found: Arial\n",
      "findfont: Generic family 'sans-serif' not found because none of the following families were found: Arial\n",
      "findfont: Generic family 'sans-serif' not found because none of the following families were found: Arial\n",
      "findfont: Generic family 'sans-serif' not found because none of the following families were found: Arial\n",
      "findfont: Generic family 'sans-serif' not found because none of the following families were found: Arial\n",
      "findfont: Generic family 'sans-serif' not found because none of the following families were found: Arial\n",
      "findfont: Generic family 'sans-serif' not found because none of the following families were found: Arial\n",
      "findfont: Generic family 'sans-serif' not found because none of the following families were found: Arial\n",
      "findfont: Generic family 'sans-serif' not found because none of the following families were found: Arial\n",
      "findfont: Generic family 'sans-serif' not found because none of the following families were found: Arial\n",
      "findfont: Generic family 'sans-serif' not found because none of the following families were found: Arial\n",
      "findfont: Generic family 'sans-serif' not found because none of the following families were found: Arial\n",
      "findfont: Generic family 'sans-serif' not found because none of the following families were found: Arial\n",
      "findfont: Generic family 'sans-serif' not found because none of the following families were found: Arial\n",
      "findfont: Generic family 'sans-serif' not found because none of the following families were found: Arial\n",
      "findfont: Generic family 'sans-serif' not found because none of the following families were found: Arial\n",
      "findfont: Generic family 'sans-serif' not found because none of the following families were found: Arial\n",
      "findfont: Generic family 'sans-serif' not found because none of the following families were found: Arial\n",
      "findfont: Generic family 'sans-serif' not found because none of the following families were found: Arial\n",
      "findfont: Generic family 'sans-serif' not found because none of the following families were found: Arial\n",
      "findfont: Generic family 'sans-serif' not found because none of the following families were found: Arial\n",
      "findfont: Generic family 'sans-serif' not found because none of the following families were found: Arial\n",
      "findfont: Generic family 'sans-serif' not found because none of the following families were found: Arial\n",
      "findfont: Generic family 'sans-serif' not found because none of the following families were found: Arial\n",
      "findfont: Generic family 'sans-serif' not found because none of the following families were found: Arial\n",
      "findfont: Generic family 'sans-serif' not found because none of the following families were found: Arial\n",
      "findfont: Generic family 'sans-serif' not found because none of the following families were found: Arial\n",
      "findfont: Generic family 'sans-serif' not found because none of the following families were found: Arial\n",
      "findfont: Generic family 'sans-serif' not found because none of the following families were found: Arial\n",
      "findfont: Generic family 'sans-serif' not found because none of the following families were found: Arial\n",
      "findfont: Generic family 'sans-serif' not found because none of the following families were found: Arial\n",
      "findfont: Generic family 'sans-serif' not found because none of the following families were found: Arial\n",
      "findfont: Generic family 'sans-serif' not found because none of the following families were found: Arial\n",
      "findfont: Generic family 'sans-serif' not found because none of the following families were found: Arial\n",
      "findfont: Generic family 'sans-serif' not found because none of the following families were found: Arial\n",
      "findfont: Generic family 'sans-serif' not found because none of the following families were found: Arial\n",
      "findfont: Generic family 'sans-serif' not found because none of the following families were found: Arial\n",
      "findfont: Generic family 'sans-serif' not found because none of the following families were found: Arial\n",
      "findfont: Generic family 'sans-serif' not found because none of the following families were found: Arial\n",
      "findfont: Generic family 'sans-serif' not found because none of the following families were found: Arial\n",
      "findfont: Generic family 'sans-serif' not found because none of the following families were found: Arial\n",
      "findfont: Generic family 'sans-serif' not found because none of the following families were found: Arial\n",
      "findfont: Generic family 'sans-serif' not found because none of the following families were found: Arial\n",
      "findfont: Generic family 'sans-serif' not found because none of the following families were found: Arial\n",
      "findfont: Generic family 'sans-serif' not found because none of the following families were found: Arial\n",
      "findfont: Generic family 'sans-serif' not found because none of the following families were found: Arial\n",
      "findfont: Generic family 'sans-serif' not found because none of the following families were found: Arial\n",
      "findfont: Generic family 'sans-serif' not found because none of the following families were found: Arial\n",
      "findfont: Generic family 'sans-serif' not found because none of the following families were found: Arial\n",
      "findfont: Generic family 'sans-serif' not found because none of the following families were found: Arial\n",
      "findfont: Generic family 'sans-serif' not found because none of the following families were found: Arial\n",
      "findfont: Generic family 'sans-serif' not found because none of the following families were found: Arial\n",
      "findfont: Generic family 'sans-serif' not found because none of the following families were found: Arial\n",
      "findfont: Generic family 'sans-serif' not found because none of the following families were found: Arial\n",
      "findfont: Generic family 'sans-serif' not found because none of the following families were found: Arial\n",
      "findfont: Generic family 'sans-serif' not found because none of the following families were found: Arial\n",
      "findfont: Generic family 'sans-serif' not found because none of the following families were found: Arial\n",
      "findfont: Generic family 'sans-serif' not found because none of the following families were found: Arial\n",
      "findfont: Generic family 'sans-serif' not found because none of the following families were found: Arial\n",
      "findfont: Generic family 'sans-serif' not found because none of the following families were found: Arial\n",
      "findfont: Generic family 'sans-serif' not found because none of the following families were found: Arial\n",
      "findfont: Generic family 'sans-serif' not found because none of the following families were found: Arial\n",
      "findfont: Generic family 'sans-serif' not found because none of the following families were found: Arial\n",
      "findfont: Generic family 'sans-serif' not found because none of the following families were found: Arial\n",
      "findfont: Generic family 'sans-serif' not found because none of the following families were found: Arial\n",
      "findfont: Generic family 'sans-serif' not found because none of the following families were found: Arial\n",
      "findfont: Generic family 'sans-serif' not found because none of the following families were found: Arial\n",
      "findfont: Generic family 'sans-serif' not found because none of the following families were found: Arial\n",
      "findfont: Generic family 'sans-serif' not found because none of the following families were found: Arial\n",
      "findfont: Generic family 'sans-serif' not found because none of the following families were found: Arial\n",
      "findfont: Generic family 'sans-serif' not found because none of the following families were found: Arial\n",
      "findfont: Generic family 'sans-serif' not found because none of the following families were found: Arial\n",
      "findfont: Generic family 'sans-serif' not found because none of the following families were found: Arial\n",
      "findfont: Generic family 'sans-serif' not found because none of the following families were found: Arial\n",
      "findfont: Generic family 'sans-serif' not found because none of the following families were found: Arial\n",
      "findfont: Generic family 'sans-serif' not found because none of the following families were found: Arial\n",
      "findfont: Generic family 'sans-serif' not found because none of the following families were found: Arial\n",
      "findfont: Generic family 'sans-serif' not found because none of the following families were found: Arial\n",
      "findfont: Generic family 'sans-serif' not found because none of the following families were found: Arial\n",
      "findfont: Generic family 'sans-serif' not found because none of the following families were found: Arial\n",
      "findfont: Generic family 'sans-serif' not found because none of the following families were found: Arial\n",
      "findfont: Generic family 'sans-serif' not found because none of the following families were found: Arial\n",
      "findfont: Generic family 'sans-serif' not found because none of the following families were found: Arial\n",
      "findfont: Generic family 'sans-serif' not found because none of the following families were found: Arial\n",
      "findfont: Generic family 'sans-serif' not found because none of the following families were found: Arial\n",
      "findfont: Generic family 'sans-serif' not found because none of the following families were found: Arial\n",
      "findfont: Generic family 'sans-serif' not found because none of the following families were found: Arial\n",
      "findfont: Generic family 'sans-serif' not found because none of the following families were found: Arial\n",
      "findfont: Generic family 'sans-serif' not found because none of the following families were found: Arial\n",
      "findfont: Generic family 'sans-serif' not found because none of the following families were found: Arial\n",
      "findfont: Generic family 'sans-serif' not found because none of the following families were found: Arial\n",
      "findfont: Generic family 'sans-serif' not found because none of the following families were found: Arial\n",
      "findfont: Generic family 'sans-serif' not found because none of the following families were found: Arial\n",
      "findfont: Generic family 'sans-serif' not found because none of the following families were found: Arial\n",
      "findfont: Generic family 'sans-serif' not found because none of the following families were found: Arial\n",
      "findfont: Generic family 'sans-serif' not found because none of the following families were found: Arial\n",
      "findfont: Generic family 'sans-serif' not found because none of the following families were found: Arial\n",
      "findfont: Generic family 'sans-serif' not found because none of the following families were found: Arial\n",
      "findfont: Generic family 'sans-serif' not found because none of the following families were found: Arial\n",
      "findfont: Generic family 'sans-serif' not found because none of the following families were found: Arial\n"
     ]
    },
    {
     "data": {
      "image/png": "[encoded data removed]",
      "text/plain": [
       "<Figure size 800x200 with 5 Axes>"
      ]
     },
     "metadata": {},
     "output_type": "display_data"
    }
   ],
   "source": [
    "import matplotlib.gridspec as gridspec\n",
    "\n",
    "with use_style(\"pyloric\"):\n",
    "    fig = plt.figure(figsize=(8, 2.))\n",
    "    gs = gridspec.GridSpec(2, 4, height_ratios=[1, 1], width_ratios=[2, 1, 1, 1]) \n",
    "\n",
    "    ax0_upper = plt.subplot(gs[0,0])\n",
    "    ax0_upper.plot(x_o_dict[\"x0\"], lw=0.1, color=\"black\")\n",
    "    ax0_upper.set_title(\"detector 1\")\n",
    "    ax0_upper.axis(\"off\")\n",
    "\n",
    "    ax0_lower = plt.subplot(gs[1,0])\n",
    "    ax0_lower.plot(x_o_dict[\"x1\"],lw=0.1, color=\"black\")\n",
    "    ax0_lower.set_title(\"detector 2\")\n",
    "    ax0_lower.axis(\"off\")\n",
    "    \n",
    "    ax1 = plt.subplot(gs[:, 1])\n",
    "    ax1.scatter(thetas[:, 0], thetas[:, 1], alpha=0.1, color=\"navy\")\n",
    "    ax1.scatter(theta_true[:,0], theta_true[:,1], color=\"red\")\n",
    "    ax1.set_title(\"Full posterior (detect. 1+2)\", y=1.1)\n",
    "    ax1.set_ylabel(\"Mass 2\")\n",
    "\n",
    "    ax2 = plt.subplot(gs[:, 2])\n",
    "    ax2.scatter(thetas_partial1[:, 0], thetas_partial1[:, 1], alpha=0.1, color=\"navy\")\n",
    "    ax2.scatter(theta_true[:,0], theta_true[:,1], color=\"red\")\n",
    "    ax2.set_yticks([])\n",
    "    ax2.set_title(\"Partial posterior (detect. 1)\", y=1.1)\n",
    "\n",
    "    ax3 = plt.subplot(gs[:, 3])\n",
    "    ax3.scatter(thetas_partial2[:, 0], thetas_partial2[:, 1], alpha=0.1, color=\"navy\")\n",
    "    ax3.scatter(theta_true[:,0], theta_true[:,1], color=\"red\")\n",
    "    ax3.set_yticks([])\n",
    "    ax3.set_title(\"Partial posterior (detect. 2)\", y=1.1)\n",
    "\n",
    "    axes = [ax1, ax2, ax3]\n",
    "    for ax in axes:\n",
    "        ax.set_xlim(10,80)\n",
    "        ax.set_ylim(10,80)\n",
    "        ax.set_aspect(\"equal\")\n",
    "        ax.set_xlabel(\"Mass 1\")\n",
    "        \n",
    "    fig.tight_layout()\n",
    "\n",
    "    fig.savefig(f\"posteriors_obsevation{index}.svg\")\n",
    "    \n",
    "    plt.show()"
   ]
  },
  {
   "cell_type": "code",
   "execution_count": 243,
   "metadata": {},
   "outputs": [],
   "source": [
    "# Reverse SDE drift\n",
    "def drift_ode(t, x, x_o,node_ids=node_id, condition_mask=np.array(condition_mask), edge_mask=edge_mask, score_fn = model_fn):\n",
    "    x = x_o.at[~condition_mask].set(x)\n",
    "    score = score_fn(params, t.reshape(-1, 1), x[None,...], node_ids,condition_mask, edge_mask=edge_mask)\n",
    "    score = score.reshape(x.shape)\n",
    "\n",
    "    f =  sde.drift(t,x) - 0.5*sde.diffusion(t,x)**2 * score\n",
    "    f = f * (1-condition_mask)\n",
    "    \n",
    "    return f[~condition_mask]\n"
   ]
  },
  {
   "cell_type": "code",
   "execution_count": 244,
   "metadata": {},
   "outputs": [],
   "source": [
    "from probjax.utils.odeint import odeint\n",
    "from probjax.distributions import Normal, Independent\n",
    "from probjax.distributions.transformed_distribution import TransformedDistribution"
   ]
  },
  {
   "cell_type": "code",
   "execution_count": 245,
   "metadata": {},
   "outputs": [],
   "source": [
    "x_o = jax.device_put(data_test_flat[index], jax.devices()[0])\n",
    "m0 = jax.device_put(end_mean[0,~condition_mask], jax.devices()[0])\n",
    "s0 = jax.device_put(end_std[0,~condition_mask], jax.devices()[0])\n",
    "q0 = Independent(Normal(m0,s0),1)"
   ]
  },
  {
   "cell_type": "code",
   "execution_count": 246,
   "metadata": {},
   "outputs": [],
   "source": [
    "@jax.jit\n",
    "def sample_post(key, x_o):\n",
    "    thetas =  sample_fn(key, (500,), node_id, condition_mask, x_o)[:, :2]\n",
    "    return un_z_score_thetas(thetas)"
   ]
  },
  {
   "cell_type": "code",
   "execution_count": 247,
   "metadata": {},
   "outputs": [],
   "source": [
    "@jax.jit\n",
    "def log_probs_post(thetas, x_o):\n",
    "    def f(x_T):\n",
    "        y = odeint(lambda t,x: drift_ode(t,x,x_o), x_T, jnp.linspace(1e-5,1, 100)[::-1], method=\"rk3\")[-1]\n",
    "        y = un_z_score_thetas(y)\n",
    "        return y\n",
    "\n",
    "    q = TransformedDistribution(q0, f)\n",
    "    return q.log_prob(thetas)"
   ]
  },
  {
   "cell_type": "code",
   "execution_count": 248,
   "metadata": {},
   "outputs": [],
   "source": [
    "log_probs_q = []\n",
    "log_probs_true = []\n",
    "\n",
    "for i in range(50):\n",
    "    x_o = jax.device_put(data_test_flat[i], jax.devices()[0])\n",
    "    theta_true = un_z_score_thetas(x_o[:2])\n",
    "    key = jax.random.PRNGKey(i)\n",
    "    thetas = sample_post(key, x_o)\n",
    "    log_prob = log_probs_post(thetas, x_o)\n",
    "    log_prob_true = log_probs_post(theta_true, x_o)\n",
    "    \n",
    "    log_probs_q.append(log_prob)\n",
    "    log_probs_true.append(log_prob_true)\n",
    "    "
   ]
  },
  {
   "cell_type": "code",
   "execution_count": 252,
   "metadata": {},
   "outputs": [],
   "source": [
    "for i in range(50,100):\n",
    "    x_o = jax.device_put(data_test_flat[i], jax.devices()[0])\n",
    "    theta_true = un_z_score_thetas(x_o[:2])\n",
    "    key = jax.random.PRNGKey(i)\n",
    "    thetas = sample_post(key, x_o)\n",
    "    log_prob = log_probs_post(thetas, x_o)\n",
    "    log_prob_true = log_probs_post(theta_true, x_o)\n",
    "    \n",
    "    log_probs_q.append(log_prob)\n",
    "    log_probs_true.append(log_prob_true)\n",
    "    "
   ]
  },
  {
   "cell_type": "code",
   "execution_count": 256,
   "metadata": {},
   "outputs": [],
   "source": [
    "log_probs_q_vec = jnp.stack(log_probs_q)\n",
    "log_probs_true_vec = jnp.stack(log_probs_true)"
   ]
  },
  {
   "cell_type": "code",
   "execution_count": 330,
   "metadata": {},
   "outputs": [],
   "source": [
    "jnp.save(\"log_probs_q_vec_test.pt\", log_probs_q_vec)\n",
    "jnp.save(\"log_probs_true_test.pt\", log_probs_true_vec)"
   ]
  },
  {
   "cell_type": "code",
   "execution_count": 336,
   "metadata": {},
   "outputs": [],
   "source": [
    "alphas = jnp.linspace(0,1, 30)\n",
    "covs = []\n",
    "for alpha in alphas:\n",
    "    a = 1- alpha\n",
    "    cov_a = jnp.mean(log_probs_q_vec > jnp.percentile(log_probs_true_vec, a*100, axis=0))\n",
    "    covs.append(cov_a)"
   ]
  },
  {
   "cell_type": "code",
   "execution_count": 349,
   "metadata": {},
   "outputs": [
    {
     "name": "stderr",
     "output_type": "stream",
     "text": [
      "findfont: Generic family 'sans-serif' not found because none of the following families were found: Arial\n",
      "findfont: Generic family 'sans-serif' not found because none of the following families were found: Arial\n",
      "findfont: Generic family 'sans-serif' not found because none of the following families were found: Arial\n",
      "findfont: Generic family 'sans-serif' not found because none of the following families were found: Arial\n",
      "findfont: Generic family 'sans-serif' not found because none of the following families were found: Arial\n",
      "findfont: Generic family 'sans-serif' not found because none of the following families were found: Arial\n",
      "findfont: Generic family 'sans-serif' not found because none of the following families were found: Arial\n",
      "findfont: Generic family 'sans-serif' not found because none of the following families were found: Arial\n",
      "findfont: Generic family 'sans-serif' not found because none of the following families were found: Arial\n",
      "findfont: Generic family 'sans-serif' not found because none of the following families were found: Arial\n",
      "findfont: Generic family 'sans-serif' not found because none of the following families were found: Arial\n",
      "findfont: Generic family 'sans-serif' not found because none of the following families were found: Arial\n",
      "findfont: Generic family 'sans-serif' not found because none of the following families were found: Arial\n",
      "findfont: Generic family 'sans-serif' not found because none of the following families were found: Arial\n",
      "findfont: Generic family 'sans-serif' not found because none of the following families were found: Arial\n",
      "findfont: Generic family 'sans-serif' not found because none of the following families were found: Arial\n",
      "findfont: Generic family 'sans-serif' not found because none of the following families were found: Arial\n",
      "findfont: Generic family 'sans-serif' not found because none of the following families were found: Arial\n",
      "findfont: Generic family 'sans-serif' not found because none of the following families were found: Arial\n",
      "findfont: Generic family 'sans-serif' not found because none of the following families were found: Arial\n",
      "findfont: Generic family 'sans-serif' not found because none of the following families were found: Arial\n",
      "findfont: Generic family 'sans-serif' not found because none of the following families were found: Arial\n",
      "findfont: Generic family 'sans-serif' not found because none of the following families were found: Arial\n",
      "findfont: Generic family 'sans-serif' not found because none of the following families were found: Arial\n",
      "findfont: Generic family 'sans-serif' not found because none of the following families were found: Arial\n",
      "findfont: Generic family 'sans-serif' not found because none of the following families were found: Arial\n",
      "findfont: Generic family 'sans-serif' not found because none of the following families were found: Arial\n",
      "findfont: Generic family 'sans-serif' not found because none of the following families were found: Arial\n",
      "findfont: Generic family 'sans-serif' not found because none of the following families were found: Arial\n",
      "findfont: Generic family 'sans-serif' not found because none of the following families were found: Arial\n",
      "findfont: Generic family 'sans-serif' not found because none of the following families were found: Arial\n",
      "findfont: Generic family 'sans-serif' not found because none of the following families were found: Arial\n"
     ]
    },
    {
     "data": {
      "image/png": "[encoded data removed]",
      "text/plain": [
       "<Figure size 200x200 with 1 Axes>"
      ]
     },
     "metadata": {},
     "output_type": "display_data"
    }
   ],
   "source": [
    "with use_style(\"pyloric\"):\n",
    "    fig = plt.figure(figsize=(2,2))\n",
    "    plt.plot(alphas, covs, color=\"C0\", lw=2, alpha=0.8)\n",
    "    plt.plot(alphas,alphas, \"--\", color=\"black\", lw=0.5)\n",
    "    plt.xticks([0,0.5,1])\n",
    "    plt.yticks([0,0.5,1])\n",
    "    plt.xlabel(\"Credibility level\")\n",
    "    plt.title(\"Expected coverage (full posterior)\")\n",
    "    fig.savefig(\"ec_gw_test.svg\")\n",
    "    plt.show()"
   ]
  },
  {
   "cell_type": "code",
   "execution_count": 47,
   "metadata": {},
   "outputs": [],
   "source": [
    "log_probs_q_vec = jnp.load(\"log_probs_q_vec_full_posterior.npy\")\n",
    "log_probs_true_vec = jnp.load(\"log_probs_true_vec_full_posterior.npy\")"
   ]
  },
  {
   "cell_type": "code",
   "execution_count": 48,
   "metadata": {},
   "outputs": [],
   "source": [
    "alphas = jnp.linspace(0,1, 50)\n",
    "covs = []\n",
    "for alpha in alphas:\n",
    "    a = 1- alpha\n",
    "    cov_a = jnp.mean(log_probs_q_vec > jnp.percentile(log_probs_true_vec, a*100, axis=0))\n",
    "    covs.append(cov_a)"
   ]
  },
  {
   "cell_type": "code",
   "execution_count": 49,
   "metadata": {},
   "outputs": [
    {
     "name": "stderr",
     "output_type": "stream",
     "text": [
      "findfont: Generic family 'sans-serif' not found because none of the following families were found: Arial\n",
      "findfont: Generic family 'sans-serif' not found because none of the following families were found: Arial\n",
      "findfont: Generic family 'sans-serif' not found because none of the following families were found: Arial\n",
      "findfont: Generic family 'sans-serif' not found because none of the following families were found: Arial\n",
      "findfont: Generic family 'sans-serif' not found because none of the following families were found: Arial\n",
      "findfont: Generic family 'sans-serif' not found because none of the following families were found: Arial\n"
     ]
    },
    {
     "name": "stderr",
     "output_type": "stream",
     "text": [
      "findfont: Generic family 'sans-serif' not found because none of the following families were found: Arial\n",
      "findfont: Generic family 'sans-serif' not found because none of the following families were found: Arial\n",
      "findfont: Generic family 'sans-serif' not found because none of the following families were found: Arial\n",
      "findfont: Generic family 'sans-serif' not found because none of the following families were found: Arial\n",
      "findfont: Generic family 'sans-serif' not found because none of the following families were found: Arial\n",
      "findfont: Generic family 'sans-serif' not found because none of the following families were found: Arial\n",
      "findfont: Generic family 'sans-serif' not found because none of the following families were found: Arial\n",
      "findfont: Generic family 'sans-serif' not found because none of the following families were found: Arial\n",
      "findfont: Generic family 'sans-serif' not found because none of the following families were found: Arial\n",
      "findfont: Generic family 'sans-serif' not found because none of the following families were found: Arial\n",
      "findfont: Generic family 'sans-serif' not found because none of the following families were found: Arial\n",
      "findfont: Generic family 'sans-serif' not found because none of the following families were found: Arial\n",
      "findfont: Generic family 'sans-serif' not found because none of the following families were found: Arial\n",
      "findfont: Generic family 'sans-serif' not found because none of the following families were found: Arial\n",
      "findfont: Generic family 'sans-serif' not found because none of the following families were found: Arial\n",
      "findfont: Generic family 'sans-serif' not found because none of the following families were found: Arial\n",
      "findfont: Generic family 'sans-serif' not found because none of the following families were found: Arial\n",
      "findfont: Generic family 'sans-serif' not found because none of the following families were found: Arial\n",
      "findfont: Generic family 'sans-serif' not found because none of the following families were found: Arial\n",
      "findfont: Generic family 'sans-serif' not found because none of the following families were found: Arial\n",
      "findfont: Generic family 'sans-serif' not found because none of the following families were found: Arial\n",
      "findfont: Generic family 'sans-serif' not found because none of the following families were found: Arial\n",
      "findfont: Generic family 'sans-serif' not found because none of the following families were found: Arial\n",
      "findfont: Generic family 'sans-serif' not found because none of the following families were found: Arial\n",
      "findfont: Generic family 'sans-serif' not found because none of the following families were found: Arial\n",
      "findfont: Generic family 'sans-serif' not found because none of the following families were found: Arial\n"
     ]
    },
    {
     "data": {
      "image/png": "[encoded data removed]",
      "text/plain": [
       "<Figure size 200x200 with 1 Axes>"
      ]
     },
     "metadata": {},
     "output_type": "display_data"
    }
   ],
   "source": [
    "with use_style(\"pyloric\"):\n",
    "    fig = plt.figure(figsize=(2,2))\n",
    "    plt.plot(alphas, covs, color=\"C0\", lw=2, alpha=0.8)\n",
    "    plt.plot(alphas,alphas, \"--\", color=\"black\", lw=0.5)\n",
    "    plt.xticks([0,0.5,1])\n",
    "    plt.yticks([0,0.5,1])\n",
    "    plt.xlabel(\"Credibility level\")\n",
    "    plt.title(\"Expected coverage (detect. 1+2)\")\n",
    "    fig.savefig(\"ec_gw_full_post.svg\")\n",
    "    plt.show()"
   ]
  },
  {
   "cell_type": "code",
   "execution_count": 44,
   "metadata": {},
   "outputs": [],
   "source": [
    "log_probs_q_vec = jnp.load(\"log_probs_q_vec_partial1_posterior.npy\")\n",
    "log_probs_true_vec = jnp.load(\"log_probs_true_vec_partial1_posterior.npy\")"
   ]
  },
  {
   "cell_type": "code",
   "execution_count": 45,
   "metadata": {},
   "outputs": [],
   "source": [
    "alphas = jnp.linspace(0,1, 50)\n",
    "covs = []\n",
    "for alpha in alphas:\n",
    "    a = 1- alpha\n",
    "    cov_a = jnp.mean(log_probs_q_vec > jnp.percentile(log_probs_true_vec, a*100, axis=0))\n",
    "    covs.append(cov_a)"
   ]
  },
  {
   "cell_type": "code",
   "execution_count": 46,
   "metadata": {},
   "outputs": [
    {
     "name": "stderr",
     "output_type": "stream",
     "text": [
      "findfont: Generic family 'sans-serif' not found because none of the following families were found: Arial\n",
      "findfont: Generic family 'sans-serif' not found because none of the following families were found: Arial\n",
      "findfont: Generic family 'sans-serif' not found because none of the following families were found: Arial\n",
      "findfont: Generic family 'sans-serif' not found because none of the following families were found: Arial\n",
      "findfont: Generic family 'sans-serif' not found because none of the following families were found: Arial\n",
      "findfont: Generic family 'sans-serif' not found because none of the following families were found: Arial\n",
      "findfont: Generic family 'sans-serif' not found because none of the following families were found: Arial\n",
      "findfont: Generic family 'sans-serif' not found because none of the following families were found: Arial\n",
      "findfont: Generic family 'sans-serif' not found because none of the following families were found: Arial\n",
      "findfont: Generic family 'sans-serif' not found because none of the following families were found: Arial\n",
      "findfont: Generic family 'sans-serif' not found because none of the following families were found: Arial\n",
      "findfont: Generic family 'sans-serif' not found because none of the following families were found: Arial\n",
      "findfont: Generic family 'sans-serif' not found because none of the following families were found: Arial\n",
      "findfont: Generic family 'sans-serif' not found because none of the following families were found: Arial\n",
      "findfont: Generic family 'sans-serif' not found because none of the following families were found: Arial\n",
      "findfont: Generic family 'sans-serif' not found because none of the following families were found: Arial\n",
      "findfont: Generic family 'sans-serif' not found because none of the following families were found: Arial\n",
      "findfont: Generic family 'sans-serif' not found because none of the following families were found: Arial\n",
      "findfont: Generic family 'sans-serif' not found because none of the following families were found: Arial\n",
      "findfont: Generic family 'sans-serif' not found because none of the following families were found: Arial\n",
      "findfont: Generic family 'sans-serif' not found because none of the following families were found: Arial\n",
      "findfont: Generic family 'sans-serif' not found because none of the following families were found: Arial\n",
      "findfont: Generic family 'sans-serif' not found because none of the following families were found: Arial\n",
      "findfont: Generic family 'sans-serif' not found because none of the following families were found: Arial\n",
      "findfont: Generic family 'sans-serif' not found because none of the following families were found: Arial\n",
      "findfont: Generic family 'sans-serif' not found because none of the following families were found: Arial\n",
      "findfont: Generic family 'sans-serif' not found because none of the following families were found: Arial\n",
      "findfont: Generic family 'sans-serif' not found because none of the following families were found: Arial\n",
      "findfont: Generic family 'sans-serif' not found because none of the following families were found: Arial\n",
      "findfont: Generic family 'sans-serif' not found because none of the following families were found: Arial\n",
      "findfont: Generic family 'sans-serif' not found because none of the following families were found: Arial\n",
      "findfont: Generic family 'sans-serif' not found because none of the following families were found: Arial\n"
     ]
    },
    {
     "data": {
      "image/png": "[encoded data removed]",
      "text/plain": [
       "<Figure size 200x200 with 1 Axes>"
      ]
     },
     "metadata": {},
     "output_type": "display_data"
    }
   ],
   "source": [
    "with use_style(\"pyloric\"):\n",
    "    fig = plt.figure(figsize=(2,2))\n",
    "    plt.plot(alphas, covs, color=\"C0\", lw=2, alpha=0.8)\n",
    "    plt.plot(alphas,alphas, \"--\", color=\"black\", lw=0.5)\n",
    "    plt.xticks([0,0.5,1])\n",
    "    plt.yticks([0,0.5,1])\n",
    "    plt.xlabel(\"Credibility level\")\n",
    "    plt.title(\"Expected coverage (detect. 1)\")\n",
    "    fig.savefig(\"ec_gw_partial1_post.svg\")\n",
    "    plt.show()"
   ]
  },
  {
   "cell_type": "code",
   "execution_count": 41,
   "metadata": {},
   "outputs": [],
   "source": [
    "log_probs_q_vec = jnp.load(\"log_probs_q_vec_partial2_posterior.npy\")\n",
    "log_probs_true_vec = jnp.load(\"log_probs_true_vec_partial2_posterior.npy\")"
   ]
  },
  {
   "cell_type": "code",
   "execution_count": 42,
   "metadata": {},
   "outputs": [],
   "source": [
    "alphas = jnp.linspace(0,1, 50)\n",
    "covs = []\n",
    "for alpha in alphas:\n",
    "    a = 1- alpha\n",
    "    cov_a = jnp.mean(log_probs_q_vec > jnp.percentile(log_probs_true_vec, a*100, axis=0))\n",
    "    covs.append(cov_a)"
   ]
  },
  {
   "cell_type": "code",
   "execution_count": 43,
   "metadata": {},
   "outputs": [
    {
     "name": "stderr",
     "output_type": "stream",
     "text": [
      "findfont: Generic family 'sans-serif' not found because none of the following families were found: Arial\n",
      "findfont: Generic family 'sans-serif' not found because none of the following families were found: Arial\n",
      "findfont: Generic family 'sans-serif' not found because none of the following families were found: Arial\n",
      "findfont: Generic family 'sans-serif' not found because none of the following families were found: Arial\n",
      "findfont: Generic family 'sans-serif' not found because none of the following families were found: Arial\n",
      "findfont: Generic family 'sans-serif' not found because none of the following families were found: Arial\n",
      "findfont: Generic family 'sans-serif' not found because none of the following families were found: Arial\n",
      "findfont: Generic family 'sans-serif' not found because none of the following families were found: Arial\n",
      "findfont: Generic family 'sans-serif' not found because none of the following families were found: Arial\n",
      "findfont: Generic family 'sans-serif' not found because none of the following families were found: Arial\n",
      "findfont: Generic family 'sans-serif' not found because none of the following families were found: Arial\n",
      "findfont: Generic family 'sans-serif' not found because none of the following families were found: Arial\n",
      "findfont: Generic family 'sans-serif' not found because none of the following families were found: Arial\n",
      "findfont: Generic family 'sans-serif' not found because none of the following families were found: Arial\n",
      "findfont: Generic family 'sans-serif' not found because none of the following families were found: Arial\n",
      "findfont: Generic family 'sans-serif' not found because none of the following families were found: Arial\n",
      "findfont: Generic family 'sans-serif' not found because none of the following families were found: Arial\n",
      "findfont: Generic family 'sans-serif' not found because none of the following families were found: Arial\n",
      "findfont: Generic family 'sans-serif' not found because none of the following families were found: Arial\n",
      "findfont: Generic family 'sans-serif' not found because none of the following families were found: Arial\n",
      "findfont: Generic family 'sans-serif' not found because none of the following families were found: Arial\n",
      "findfont: Generic family 'sans-serif' not found because none of the following families were found: Arial\n",
      "findfont: Generic family 'sans-serif' not found because none of the following families were found: Arial\n",
      "findfont: Generic family 'sans-serif' not found because none of the following families were found: Arial\n",
      "findfont: Generic family 'sans-serif' not found because none of the following families were found: Arial\n",
      "findfont: Generic family 'sans-serif' not found because none of the following families were found: Arial\n",
      "findfont: Generic family 'sans-serif' not found because none of the following families were found: Arial\n",
      "findfont: Generic family 'sans-serif' not found because none of the following families were found: Arial\n",
      "findfont: Generic family 'sans-serif' not found because none of the following families were found: Arial\n",
      "findfont: Generic family 'sans-serif' not found because none of the following families were found: Arial\n",
      "findfont: Generic family 'sans-serif' not found because none of the following families were found: Arial\n",
      "findfont: Generic family 'sans-serif' not found because none of the following families were found: Arial\n"
     ]
    },
    {
     "data": {
      "image/png": "[encoded data removed]",
      "text/plain": [
       "<Figure size 200x200 with 1 Axes>"
      ]
     },
     "metadata": {},
     "output_type": "display_data"
    }
   ],
   "source": [
    "with use_style(\"pyloric\"):\n",
    "    fig = plt.figure(figsize=(2,2))\n",
    "    plt.plot(alphas, covs, color=\"C0\", lw=2, alpha=0.8)\n",
    "    plt.plot(alphas,alphas, \"--\", color=\"black\", lw=0.5)\n",
    "    plt.xticks([0,0.5,1])\n",
    "    plt.yticks([0,0.5,1])\n",
    "    plt.xlabel(\"Credibility level\")\n",
    "    plt.title(\"Expected coverage (detect. 2)\")\n",
    "    fig.savefig(\"ec_gw_partial2_post.svg\")\n",
    "    plt.show()"
   ]
  },
  {
   "cell_type": "code",
   "execution_count": null,
   "metadata": {},
   "outputs": [],
   "source": []
  }
 ],
 "metadata": {
  "kernelspec": {
   "display_name": "probjax",
   "language": "python",
   "name": "python3"
  },
  "language_info": {
   "codemirror_mode": {
    "name": "ipython",
    "version": 3
   },
   "file_extension": ".py",
   "mimetype": "text/x-python",
   "name": "python",
   "nbconvert_exporter": "python",
   "pygments_lexer": "ipython3",
   "version": "3.10.14"
  }
 },
 "nbformat": 4,
 "nbformat_minor": 2
}
