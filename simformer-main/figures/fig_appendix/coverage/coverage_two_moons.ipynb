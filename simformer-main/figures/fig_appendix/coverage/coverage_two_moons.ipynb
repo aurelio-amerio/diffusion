{
 "cells": [
  {
   "cell_type": "code",
   "execution_count": null,
   "metadata": {},
   "outputs": [],
   "source": [
    "from scoresbibm.src.utils.data_utils import query, get_summary_df, load_model\n",
    "from scoresbibm.src.utils.plot import plot_metric_by_num_simulations, use_style,multi_plot\n",
    "\n",
    "from scoresbibm.src.tasks import get_task\n",
    "\n",
    "import matplotlib.pyplot as plt\n",
    "\n",
    "import jax \n",
    "import jax.numpy as jnp\n",
    "import numpy as np"
   ]
  },
  {
   "cell_type": "code",
   "execution_count": null,
   "metadata": {},
   "outputs": [
    {
     "data": {
      "text/plain": [
       "[cuda(id=0)]"
      ]
     },
     "execution_count": 3,
     "metadata": {},
     "output_type": "execute_result"
    }
   ],
   "source": [
    "jax.devices()"
   ]
  },
  {
   "cell_type": "code",
   "execution_count": 4,
   "metadata": {},
   "outputs": [],
   "source": [
    "PATH = \"../../../../results/example_all_cond_vesde\""
   ]
  },
  {
   "cell_type": "code",
   "execution_count": 5,
   "metadata": {},
   "outputs": [
    {
     "data": {
      "text/html": [
       "<div>\n",
       "<style scoped>\n",
       "    .dataframe tbody tr th:only-of-type {\n",
       "        vertical-align: middle;\n",
       "    }\n",
       "\n",
       "    .dataframe tbody tr th {\n",
       "        vertical-align: top;\n",
       "    }\n",
       "\n",
       "    .dataframe thead th {\n",
       "        text-align: right;\n",
       "    }\n",
       "</style>\n",
       "<table border=\"1\" class=\"dataframe\">\n",
       "  <thead>\n",
       "    <tr style=\"text-align: right;\">\n",
       "      <th></th>\n",
       "      <th>method</th>\n",
       "      <th>task</th>\n",
       "      <th>num_simulations</th>\n",
       "      <th>seed</th>\n",
       "      <th>model_id</th>\n",
       "      <th>metric</th>\n",
       "      <th>value</th>\n",
       "      <th>time_train</th>\n",
       "      <th>time_eval</th>\n",
       "      <th>cfg</th>\n",
       "    </tr>\n",
       "  </thead>\n",
       "  <tbody>\n",
       "    <tr>\n",
       "      <th>0</th>\n",
       "      <td>score_transformer</td>\n",
       "      <td>two_moons_all_cond</td>\n",
       "      <td>100000</td>\n",
       "      <td>0</td>\n",
       "      <td>0</td>\n",
       "      <td>none</td>\n",
       "      <td>NaN</td>\n",
       "      <td>5046.531780</td>\n",
       "      <td>NaN</td>\n",
       "      <td>{'name': 'example_all_cond_vesde', 'seed': 0, ...</td>\n",
       "    </tr>\n",
       "    <tr>\n",
       "      <th>1</th>\n",
       "      <td>score_transformer</td>\n",
       "      <td>slcp_all_cond</td>\n",
       "      <td>100000</td>\n",
       "      <td>0</td>\n",
       "      <td>1</td>\n",
       "      <td>none</td>\n",
       "      <td>NaN</td>\n",
       "      <td>6135.606298</td>\n",
       "      <td>NaN</td>\n",
       "      <td>{'name': 'example_all_cond_vesde', 'seed': 0, ...</td>\n",
       "    </tr>\n",
       "    <tr>\n",
       "      <th>2</th>\n",
       "      <td>score_transformer</td>\n",
       "      <td>two_moons_all_cond</td>\n",
       "      <td>1000</td>\n",
       "      <td>0</td>\n",
       "      <td>2</td>\n",
       "      <td>none</td>\n",
       "      <td>NaN</td>\n",
       "      <td>135.363005</td>\n",
       "      <td>NaN</td>\n",
       "      <td>{'name': 'example_all_cond_vesde', 'seed': 0, ...</td>\n",
       "    </tr>\n",
       "  </tbody>\n",
       "</table>\n",
       "</div>"
      ],
      "text/plain": [
       "              method                task  num_simulations  seed  model_id  \\\n",
       "0  score_transformer  two_moons_all_cond           100000     0         0   \n",
       "1  score_transformer       slcp_all_cond           100000     0         1   \n",
       "2  score_transformer  two_moons_all_cond             1000     0         2   \n",
       "\n",
       "  metric  value   time_train  time_eval  \\\n",
       "0   none    NaN  5046.531780        NaN   \n",
       "1   none    NaN  6135.606298        NaN   \n",
       "2   none    NaN   135.363005        NaN   \n",
       "\n",
       "                                                 cfg  \n",
       "0  {'name': 'example_all_cond_vesde', 'seed': 0, ...  \n",
       "1  {'name': 'example_all_cond_vesde', 'seed': 0, ...  \n",
       "2  {'name': 'example_all_cond_vesde', 'seed': 0, ...  "
      ]
     },
     "execution_count": 5,
     "metadata": {},
     "output_type": "execute_result"
    }
   ],
   "source": [
    "df = query(PATH)\n",
    "df"
   ]
  },
  {
   "cell_type": "code",
   "execution_count": 9,
   "metadata": {},
   "outputs": [],
   "source": [
    "model = load_model(PATH, 0)\n"
   ]
  },
  {
   "cell_type": "code",
   "execution_count": 10,
   "metadata": {},
   "outputs": [],
   "source": [
    "\n",
    "condition_mask_posterior = np.array([False, False, True, True])\n",
    "condition_mask_missing_data_posterior = np.array([False, False, True, False])\n",
    "condition_mask_missing_data_posterior2 = np.array([False, False, False, True])\n",
    "condition_mask_likelihood = np.array([True, True, False, False])\n",
    "condition_mask_mixed = np.array([True, False, False, True])\n",
    "observation_posterior = jnp.array([0., 0.])"
   ]
  },
  {
   "cell_type": "code",
   "execution_count": 11,
   "metadata": {},
   "outputs": [],
   "source": [
    "task = get_task(\"two_moons_all_cond\")"
   ]
  },
  {
   "cell_type": "code",
   "execution_count": 12,
   "metadata": {},
   "outputs": [],
   "source": [
    "ref_model = task.get_reference_sampler()\n",
    "\n",
    "joint_samples = ref_model.sample(2000, x_o=jnp.array([]),condition_mask=jnp.zeros((4,)), rng = jax.random.PRNGKey(0))"
   ]
  },
  {
   "cell_type": "code",
   "execution_count": 41,
   "metadata": {},
   "outputs": [
    {
     "name": "stdout",
     "output_type": "stream",
     "text": [
      "Sampling method:  sde\n",
      "Finished sampling\n",
      "Finished computing true log probs\n",
      "Finished computing sample log probs for batch  0\n",
      "Finished computing sample log probs for batch  1\n",
      "Finished computing sample log probs for batch  2\n",
      "Finished computing sample log probs for batch  3\n",
      "Finished computing sample log probs for batch  4\n",
      "Finished computing sample log probs for batch  5\n",
      "Finished computing sample log probs for batch  6\n",
      "Finished computing sample log probs for batch  7\n"
     ]
    }
   ],
   "source": [
    "alphas, cov = model.compute_coverage_statistic(joint_samples, condition_mask=condition_mask_posterior, rng=jax.random.PRNGKey(0))"
   ]
  },
  {
   "cell_type": "code",
   "execution_count": 42,
   "metadata": {},
   "outputs": [
    {
     "name": "stdout",
     "output_type": "stream",
     "text": [
      "Sampling method:  sde\n",
      "Finished sampling\n",
      "Finished computing true log probs\n",
      "Finished computing sample log probs for batch  0\n",
      "Finished computing sample log probs for batch  1\n",
      "Finished computing sample log probs for batch  2\n",
      "Finished computing sample log probs for batch  3\n",
      "Finished computing sample log probs for batch  4\n",
      "Finished computing sample log probs for batch  5\n",
      "Finished computing sample log probs for batch  6\n",
      "Finished computing sample log probs for batch  7\n"
     ]
    }
   ],
   "source": [
    "alphas2, cov2 = model.compute_coverage_statistic(joint_samples, condition_mask=condition_mask_likelihood, rng=jax.random.PRNGKey(0))"
   ]
  },
  {
   "cell_type": "code",
   "execution_count": 43,
   "metadata": {},
   "outputs": [
    {
     "name": "stdout",
     "output_type": "stream",
     "text": [
      "Sampling method:  sde\n"
     ]
    },
    {
     "name": "stdout",
     "output_type": "stream",
     "text": [
      "Finished sampling\n",
      "Finished computing true log probs\n",
      "Finished computing sample log probs for batch  0\n",
      "Finished computing sample log probs for batch  1\n",
      "Finished computing sample log probs for batch  2\n",
      "Finished computing sample log probs for batch  3\n",
      "Finished computing sample log probs for batch  4\n",
      "Finished computing sample log probs for batch  5\n",
      "Finished computing sample log probs for batch  6\n",
      "Finished computing sample log probs for batch  7\n"
     ]
    }
   ],
   "source": [
    "alphas3, cov3 = model.compute_coverage_statistic(joint_samples, condition_mask=condition_mask_mixed, rng=jax.random.PRNGKey(0))"
   ]
  },
  {
   "cell_type": "code",
   "execution_count": 44,
   "metadata": {},
   "outputs": [
    {
     "name": "stdout",
     "output_type": "stream",
     "text": [
      "Sampling method:  sde\n",
      "Finished sampling\n",
      "Finished computing true log probs\n",
      "Finished computing sample log probs for batch  0\n",
      "Finished computing sample log probs for batch  1\n",
      "Finished computing sample log probs for batch  2\n",
      "Finished computing sample log probs for batch  3\n",
      "Finished computing sample log probs for batch  4\n",
      "Finished computing sample log probs for batch  5\n",
      "Finished computing sample log probs for batch  6\n",
      "Finished computing sample log probs for batch  7\n"
     ]
    }
   ],
   "source": [
    "alphas4, cov4 = model.compute_coverage_statistic(joint_samples, condition_mask=condition_mask_missing_data_posterior, rng=jax.random.PRNGKey(0))"
   ]
  },
  {
   "cell_type": "code",
   "execution_count": 45,
   "metadata": {},
   "outputs": [
    {
     "name": "stdout",
     "output_type": "stream",
     "text": [
      "Sampling method:  sde\n",
      "Finished sampling\n",
      "Finished computing true log probs\n",
      "Finished computing sample log probs for batch  0\n",
      "Finished computing sample log probs for batch  1\n",
      "Finished computing sample log probs for batch  2\n",
      "Finished computing sample log probs for batch  3\n",
      "Finished computing sample log probs for batch  4\n",
      "Finished computing sample log probs for batch  5\n",
      "Finished computing sample log probs for batch  6\n",
      "Finished computing sample log probs for batch  7\n"
     ]
    }
   ],
   "source": [
    "alphas5, cov5 = model.compute_coverage_statistic(joint_samples, condition_mask=condition_mask_missing_data_posterior2, rng=jax.random.PRNGKey(0))"
   ]
  },
  {
   "cell_type": "code",
   "execution_count": 48,
   "metadata": {},
   "outputs": [],
   "source": [
    "jnp.save(\"alphas.npy\", alphas)\n",
    "jnp.save(\"cov.npy\", cov)\n",
    "jnp.save(\"alphas2.npy\", alphas2)\n",
    "jnp.save(\"cov2.npy\", cov2)\n",
    "jnp.save(\"alphas3.npy\", alphas3)\n",
    "jnp.save(\"cov3.npy\", cov3)\n",
    "jnp.save(\"alphas4.npy\", alphas4)\n",
    "jnp.save(\"cov4.npy\", cov4)\n",
    "jnp.save(\"alphas5.npy\", alphas5)\n",
    "jnp.save(\"cov5.npy\", cov5)"
   ]
  },
  {
   "cell_type": "code",
   "execution_count": null,
   "metadata": {},
   "outputs": [],
   "source": [
    "alphas = jnp.load(\"alphas.npy\")\n",
    "cov = jnp.load(\"cov.npy\")\n",
    "alphas2 = jnp.load(\"alphas2.npy\")\n",
    "cov2 = jnp.load(\"cov2.npy\")\n",
    "alphas3 = jnp.load(\"alphas3.npy\")\n",
    "cov3 = jnp.load(\"cov3.npy\")\n",
    "alphas4 = jnp.load(\"alphas4.npy\")\n",
    "cov4 = jnp.load(\"cov4.npy\")\n",
    "alphas5 = jnp.load(\"alphas5.npy\")\n",
    "cov5 = jnp.load(\"cov5.npy\")"
   ]
  },
  {
   "cell_type": "code",
   "execution_count": 50,
   "metadata": {},
   "outputs": [
    {
     "data": {
      "image/png": "[encoded data removed]",
      "text/plain": [
       "<Figure size 300x300 with 1 Axes>"
      ]
     },
     "metadata": {},
     "output_type": "display_data"
    }
   ],
   "source": [
    "with use_style(\"pyloric\"):\n",
    "    fig = plt.figure(figsize=(3, 3))\n",
    "    plt.plot(alphas, cov, lw=3, label=r\"$p(\\theta_1, \\theta_2|x_1, x_2)$\", alpha=0.4)\n",
    "    plt.plot(alphas3, cov3, lw=3, label=r\"$p(\\theta_1, \\theta_2|x_1)$\", alpha=0.4)\n",
    "    plt.plot(alphas4, cov4, lw=3, label=r\"$p(\\theta_1, \\theta_2|x_2)$\", alpha=0.4)\n",
    "    plt.plot(alphas5, cov5, lw=3, label=r\"$p(\\theta_1, x_2|x_1, \\theta_2)$\", alpha=0.4)\n",
    "    plt.xlim(0, 1)\n",
    "    plt.ylim(0, 1)\n",
    "    plt.xlabel(\"Credibility level\")\n",
    "    plt.ylabel(\"Empirical coverage\")\n",
    "    plt.title(\"Two moons [100k simulations]\")\n",
    "    fig.legend(ncol=2, loc=\"lower center\", bbox_to_anchor=(0.5, -0.25))\n",
    "    fig.savefig(\"coverage_two_moons_100k.svg\")\n",
    "    fig.savefig(\"coverage_two_moons_100k.png\")\n",
    "    plt.show()"
   ]
  },
  {
   "cell_type": "code",
   "execution_count": 6,
   "metadata": {},
   "outputs": [],
   "source": [
    "model = load_model(PATH, 2)"
   ]
  },
  {
   "cell_type": "code",
   "execution_count": 13,
   "metadata": {},
   "outputs": [
    {
     "name": "stdout",
     "output_type": "stream",
     "text": [
      "Sampling method:  sde\n",
      "Finished sampling\n",
      "Finished computing true log probs\n",
      "Finished computing sample log probs for batch  0\n",
      "Finished computing sample log probs for batch  1\n",
      "Finished computing sample log probs for batch  2\n",
      "Finished computing sample log probs for batch  3\n",
      "Finished computing sample log probs for batch  4\n",
      "Finished computing sample log probs for batch  5\n",
      "Finished computing sample log probs for batch  6\n",
      "Finished computing sample log probs for batch  7\n"
     ]
    }
   ],
   "source": [
    "alphas_1k, cov_1k = model.compute_coverage_statistic(joint_samples, condition_mask=condition_mask_posterior, rng=jax.random.PRNGKey(0))"
   ]
  },
  {
   "cell_type": "code",
   "execution_count": 14,
   "metadata": {},
   "outputs": [
    {
     "name": "stdout",
     "output_type": "stream",
     "text": [
      "Sampling method:  sde\n",
      "Finished sampling\n",
      "Finished computing true log probs\n",
      "Finished computing sample log probs for batch  0\n",
      "Finished computing sample log probs for batch  1\n",
      "Finished computing sample log probs for batch  2\n",
      "Finished computing sample log probs for batch  3\n",
      "Finished computing sample log probs for batch  4\n",
      "Finished computing sample log probs for batch  5\n",
      "Finished computing sample log probs for batch  6\n",
      "Finished computing sample log probs for batch  7\n"
     ]
    }
   ],
   "source": [
    "alphas2_1k, cov2_1k = model.compute_coverage_statistic(joint_samples, condition_mask=condition_mask_likelihood, rng=jax.random.PRNGKey(0))"
   ]
  },
  {
   "cell_type": "code",
   "execution_count": 15,
   "metadata": {},
   "outputs": [
    {
     "name": "stdout",
     "output_type": "stream",
     "text": [
      "Sampling method:  sde\n",
      "Finished sampling\n",
      "Finished computing true log probs\n",
      "Finished computing sample log probs for batch  0\n",
      "Finished computing sample log probs for batch  1\n",
      "Finished computing sample log probs for batch  2\n",
      "Finished computing sample log probs for batch  3\n",
      "Finished computing sample log probs for batch  4\n",
      "Finished computing sample log probs for batch  5\n",
      "Finished computing sample log probs for batch  6\n",
      "Finished computing sample log probs for batch  7\n"
     ]
    }
   ],
   "source": [
    "alphas3_1k, cov3_1k = model.compute_coverage_statistic(joint_samples, condition_mask=condition_mask_mixed, rng=jax.random.PRNGKey(0))"
   ]
  },
  {
   "cell_type": "code",
   "execution_count": 16,
   "metadata": {},
   "outputs": [
    {
     "name": "stdout",
     "output_type": "stream",
     "text": [
      "Sampling method:  sde\n",
      "Finished sampling\n",
      "Finished computing true log probs\n",
      "Finished computing sample log probs for batch  0\n",
      "Finished computing sample log probs for batch  1\n",
      "Finished computing sample log probs for batch  2\n",
      "Finished computing sample log probs for batch  3\n",
      "Finished computing sample log probs for batch  4\n",
      "Finished computing sample log probs for batch  5\n",
      "Finished computing sample log probs for batch  6\n",
      "Finished computing sample log probs for batch  7\n"
     ]
    }
   ],
   "source": [
    "alphas4_1k, cov4_1k = model.compute_coverage_statistic(joint_samples, condition_mask=condition_mask_missing_data_posterior, rng=jax.random.PRNGKey(0))"
   ]
  },
  {
   "cell_type": "code",
   "execution_count": 17,
   "metadata": {},
   "outputs": [
    {
     "name": "stdout",
     "output_type": "stream",
     "text": [
      "Sampling method:  sde\n",
      "Finished sampling\n",
      "Finished computing true log probs\n",
      "Finished computing sample log probs for batch  0\n",
      "Finished computing sample log probs for batch  1\n",
      "Finished computing sample log probs for batch  2\n",
      "Finished computing sample log probs for batch  3\n",
      "Finished computing sample log probs for batch  4\n",
      "Finished computing sample log probs for batch  5\n",
      "Finished computing sample log probs for batch  6\n",
      "Finished computing sample log probs for batch  7\n"
     ]
    }
   ],
   "source": [
    "alphas5_1k, cov5_1k = model.compute_coverage_statistic(joint_samples, condition_mask=condition_mask_missing_data_posterior2, rng=jax.random.PRNGKey(0))"
   ]
  },
  {
   "cell_type": "code",
   "execution_count": 18,
   "metadata": {},
   "outputs": [],
   "source": [
    "jnp.save(\"alphas_1k.npy\", alphas_1k)\n",
    "jnp.save(\"cov_1k.npy\", cov_1k)\n",
    "jnp.save(\"alphas2_1k.npy\", alphas2_1k)\n",
    "jnp.save(\"cov2_1k.npy\", cov2_1k)\n",
    "jnp.save(\"alphas3_1k.npy\", alphas3_1k)\n",
    "jnp.save(\"cov3_1k.npy\", cov3_1k)\n",
    "jnp.save(\"alphas4_1k.npy\", alphas4_1k)\n",
    "jnp.save(\"cov4_1k.npy\", cov4_1k)\n",
    "jnp.save(\"alphas5_1k.npy\", alphas5_1k)\n",
    "jnp.save(\"cov5_1k.npy\", cov5_1k)"
   ]
  },
  {
   "cell_type": "code",
   "execution_count": 19,
   "metadata": {},
   "outputs": [],
   "source": [
    "alphas_1k = jnp.load(\"alphas_1k.npy\")\n",
    "cov_1k = jnp.load(\"cov_1k.npy\")\n",
    "alphas2_1k = jnp.load(\"alphas2_1k.npy\")\n",
    "cov2_1k = jnp.load(\"cov2_1k.npy\")\n",
    "alphas3_1k = jnp.load(\"alphas3_1k.npy\")\n",
    "cov3_1k = jnp.load(\"cov3_1k.npy\")\n",
    "alphas4_1k = jnp.load(\"alphas4_1k.npy\")\n",
    "cov4_1k = jnp.load(\"cov4_1k.npy\")\n",
    "alphas5_1k = jnp.load(\"alphas5_1k.npy\")\n",
    "cov5_1k = jnp.load(\"cov5_1k.npy\")"
   ]
  },
  {
   "cell_type": "code",
   "execution_count": 22,
   "metadata": {},
   "outputs": [
    {
     "data": {
      "image/png": "[encoded data removed]",
      "text/plain": [
       "<Figure size 300x300 with 1 Axes>"
      ]
     },
     "metadata": {},
     "output_type": "display_data"
    }
   ],
   "source": [
    "with use_style(\"pyloric\"):\n",
    "    fig = plt.figure(figsize=(3, 3))\n",
    "    plt.plot(alphas_1k, cov_1k, lw=3, label=r\"$p(\\theta_1, \\theta_2|x_1, x_2)$\", alpha=0.4)\n",
    "    plt.plot(alphas3_1k, cov3_1k, lw=3, label=r\"$p(\\theta_1, \\theta_2|x_1)$\", alpha=0.4)\n",
    "    plt.plot(alphas4_1k, cov4_1k, lw=3, label=r\"$p(\\theta_1, \\theta_2|x_2)$\", alpha=0.4)\n",
    "    plt.plot(alphas5_1k, cov5_1k, lw=3, label=r\"$p(\\theta_1, x_2|x_1, \\theta_2)$\", alpha=0.4)\n",
    "    plt.xlim(0, 1)\n",
    "    plt.ylim(0, 1)\n",
    "    plt.xlabel(\"Credibility level\")\n",
    "    plt.ylabel(\"Empirical coverage\")\n",
    "    plt.title(\"Two moons [1k simulations]\")\n",
    "    fig.legend(ncol=2, loc=\"lower center\", bbox_to_anchor=(0.5, -0.25))\n",
    "    fig.savefig(\"coverage_two_moons_1k.svg\")\n",
    "    fig.savefig(\"coverage_two_moons_1k.png\")\n",
    "    plt.show()"
   ]
  }
 ],
 "metadata": {
  "kernelspec": {
   "display_name": "probjax",
   "language": "python",
   "name": "python3"
  },
  "language_info": {
   "codemirror_mode": {
    "name": "ipython",
    "version": 3
   },
   "file_extension": ".py",
   "mimetype": "text/x-python",
   "name": "python",
   "nbconvert_exporter": "python",
   "pygments_lexer": "ipython3",
   "version": "3.11.5"
  }
 },
 "nbformat": 4,
 "nbformat_minor": 2
}
