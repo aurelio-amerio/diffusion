{
 "cells": [
  {
   "cell_type": "code",
   "execution_count": 54,
   "metadata": {},
   "outputs": [],
   "source": [
    "from scoresbibm.tasks import get_task\n",
    "import jax\n",
    "import jax.numpy as jnp\n",
    "\n",
    "import matplotlib.pyplot as plt"
   ]
  },
  {
   "cell_type": "code",
   "execution_count": 55,
   "metadata": {},
   "outputs": [],
   "source": [
    "task1 = get_task(\"gaussian_linear\")\n",
    "task2 = get_task(\"two_moons\")\n",
    "task3 = get_task(\"slcp\")\n",
    "task4 = get_task(\"tree_all_cond\")\n",
    "task5 = get_task(\"marcov_chain_all_cond\")\n",
    "task6 = get_task(\"lotka_volterra\")\n",
    "task7 = get_task(\"sir\")"
   ]
  },
  {
   "cell_type": "code",
   "execution_count": 56,
   "metadata": {},
   "outputs": [],
   "source": [
    "base_mask_fn = task1.get_base_mask_fn()"
   ]
  },
  {
   "cell_type": "code",
   "execution_count": 57,
   "metadata": {},
   "outputs": [
    {
     "data": {
      "image/png": "[encoded data removed]",
      "text/plain": [
       "<Figure size 300x300 with 1 Axes>"
      ]
     },
     "metadata": {},
     "output_type": "display_data"
    }
   ],
   "source": [
    "mask1 = base_mask_fn(task1.get_node_id(),None)\n",
    "\n",
    "\n",
    "fig = plt.figure(figsize=(3,3))\n",
    "plt.imshow(mask1, cmap=\"gray_r\")\n",
    "plt.xticks([])\n",
    "plt.yticks([])\n",
    "fig.savefig(\"mask1.svg\", bbox_inches='tight')\n"
   ]
  },
  {
   "cell_type": "code",
   "execution_count": 58,
   "metadata": {},
   "outputs": [
    {
     "data": {
      "image/png": "[encoded data removed]",
      "text/plain": [
       "<Figure size 300x300 with 1 Axes>"
      ]
     },
     "metadata": {},
     "output_type": "display_data"
    }
   ],
   "source": [
    "\n",
    "base_mask_fn = task2.get_base_mask_fn()\n",
    "mask1 = base_mask_fn(task2.get_node_id(), None)\n",
    "\n",
    "fig = plt.figure(figsize=(3,3))\n",
    "plt.imshow(mask1, cmap=\"gray_r\")\n",
    "plt.xticks([])\n",
    "plt.yticks([])\n",
    "fig.savefig(\"mask2.svg\", bbox_inches='tight')"
   ]
  },
  {
   "cell_type": "code",
   "execution_count": 59,
   "metadata": {},
   "outputs": [
    {
     "data": {
      "image/png": "[encoded data removed]",
      "text/plain": [
       "<Figure size 300x300 with 1 Axes>"
      ]
     },
     "metadata": {},
     "output_type": "display_data"
    }
   ],
   "source": [
    "\n",
    "base_mask_fn = task3.get_base_mask_fn()\n",
    "mask1 = base_mask_fn(task3.get_node_id(), None)\n",
    "\n",
    "fig = plt.figure(figsize=(3,3))\n",
    "plt.imshow(mask1, cmap=\"gray_r\")\n",
    "plt.xticks([])\n",
    "plt.yticks([])\n",
    "fig.savefig(\"mask3.svg\", bbox_inches='tight')"
   ]
  },
  {
   "cell_type": "code",
   "execution_count": 60,
   "metadata": {},
   "outputs": [
    {
     "data": {
      "image/png": "[encoded data removed]",
      "text/plain": [
       "<Figure size 300x300 with 1 Axes>"
      ]
     },
     "metadata": {},
     "output_type": "display_data"
    }
   ],
   "source": [
    "\n",
    "base_mask_fn = task4.get_base_mask_fn()\n",
    "mask1 = base_mask_fn(task4.get_node_id(), None)\n",
    "\n",
    "fig = plt.figure(figsize=(3,3))\n",
    "plt.imshow(mask1, cmap=\"gray_r\")\n",
    "plt.xticks([])\n",
    "plt.yticks([])\n",
    "fig.savefig(\"mask4.svg\", bbox_inches='tight')"
   ]
  },
  {
   "cell_type": "code",
   "execution_count": 61,
   "metadata": {},
   "outputs": [
    {
     "data": {
      "image/png": "[encoded data removed]",
      "text/plain": [
       "<Figure size 300x300 with 1 Axes>"
      ]
     },
     "metadata": {},
     "output_type": "display_data"
    }
   ],
   "source": [
    "\n",
    "base_mask_fn = task5.get_base_mask_fn()\n",
    "mask1 = base_mask_fn(task5.get_node_id(), None)\n",
    "\n",
    "fig = plt.figure(figsize=(3,3))\n",
    "plt.imshow(mask1, cmap=\"gray_r\")\n",
    "plt.xticks([])\n",
    "plt.yticks([])\n",
    "fig.savefig(\"mask5.svg\", bbox_inches='tight')"
   ]
  },
  {
   "cell_type": "code",
   "execution_count": 62,
   "metadata": {},
   "outputs": [],
   "source": [
    "observation_stream = task6.get_observation_generator()\n",
    "_,_,_,meta_data,node_id=next(observation_stream(jax.random.PRNGKey(0)))"
   ]
  },
  {
   "cell_type": "code",
   "execution_count": 63,
   "metadata": {},
   "outputs": [
    {
     "data": {
      "image/png": "[encoded data removed]",
      "text/plain": [
       "<Figure size 300x300 with 1 Axes>"
      ]
     },
     "metadata": {},
     "output_type": "display_data"
    }
   ],
   "source": [
    "\n",
    "base_mask_fn = task6.get_base_mask_fn()\n",
    "mask1 = base_mask_fn(node_id, meta_data)\n",
    "\n",
    "fig = plt.figure(figsize=(3,3))\n",
    "plt.imshow(mask1, cmap=\"gray_r\")\n",
    "plt.xticks([])\n",
    "plt.yticks([])\n",
    "fig.savefig(\"mask6.svg\", bbox_inches='tight')"
   ]
  }
 ],
 "metadata": {
  "kernelspec": {
   "display_name": "Python 3",
   "language": "python",
   "name": "python3"
  },
  "language_info": {
   "codemirror_mode": {
    "name": "ipython",
    "version": 3
   },
   "file_extension": ".py",
   "mimetype": "text/x-python",
   "name": "python",
   "nbconvert_exporter": "python",
   "pygments_lexer": "ipython3",
   "version": "3.10.14"
  }
 },
 "nbformat": 4,
 "nbformat_minor": 2
}
